{
  "nbformat": 4,
  "nbformat_minor": 0,
  "metadata": {
    "colab": {
      "provenance": []
    },
    "kernelspec": {
      "name": "python3",
      "display_name": "Python 3"
    },
    "language_info": {
      "name": "python"
    }
  },
  "cells": [
    {
      "cell_type": "code",
      "execution_count": 1,
      "metadata": {
        "id": "RtkF3M9UNPDG"
      },
      "outputs": [],
      "source": [
        "import numpy as np\n",
        "import pandas as pd\n",
        "import seaborn as sns\n",
        "import matplotlib.pyplot as plt\n"
      ]
    },
    {
      "cell_type": "code",
      "source": [
        "df=pd.read_csv('/content/adult.csv')"
      ],
      "metadata": {
        "id": "jPa_ldxoOIYR"
      },
      "execution_count": 3,
      "outputs": []
    },
    {
      "cell_type": "code",
      "source": [
        "df.shape"
      ],
      "metadata": {
        "colab": {
          "base_uri": "https://localhost:8080/",
          "height": 0
        },
        "id": "Z5HQJXqXOQk8",
        "outputId": "8a247a9f-a1a6-45e5-a1bf-e4396f746649"
      },
      "execution_count": 4,
      "outputs": [
        {
          "output_type": "execute_result",
          "data": {
            "text/plain": [
              "(32560, 15)"
            ]
          },
          "metadata": {},
          "execution_count": 4
        }
      ]
    },
    {
      "cell_type": "code",
      "source": [
        "df.sample(10)"
      ],
      "metadata": {
        "id": "qJhpPxk7OXz_",
        "colab": {
          "base_uri": "https://localhost:8080/",
          "height": 363
        },
        "outputId": "0bba5fb0-44d1-4a30-c84c-0fd710f631fb"
      },
      "execution_count": 5,
      "outputs": [
        {
          "output_type": "execute_result",
          "data": {
            "text/plain": [
              "       39   State-gov   77516      Bachelors   13        Never-married  \\\n",
              "6263   38     Private   63509        HS-grad    9   Married-civ-spouse   \n",
              "12950  19     Private  304469           10th    6        Never-married   \n",
              "15815  35     Private  119992     Assoc-acdm   12   Married-civ-spouse   \n",
              "30055  18     Private  174394        HS-grad    9        Never-married   \n",
              "4582   39     Private   82488   Some-college   10             Divorced   \n",
              "31640  26     Private  261203        7th-8th    4        Never-married   \n",
              "4557   67   State-gov  423561   Some-college   10   Married-civ-spouse   \n",
              "21295  27     Private  189462        Masters   14        Never-married   \n",
              "17174  20     Private  231231   Some-college   10        Never-married   \n",
              "14698  43     Private  144778        HS-grad    9   Married-civ-spouse   \n",
              "\n",
              "            Adm-clerical   Not-in-family                White     Male   2174  \\\n",
              "6263        Craft-repair         Husband                White     Male      0   \n",
              "12950    Farming-fishing       Own-child                White     Male      0   \n",
              "15815       Craft-repair         Husband                White     Male      0   \n",
              "30055      Other-service       Own-child                White   Female      0   \n",
              "4582               Sales       Unmarried   Asian-Pac-Islander   Female      0   \n",
              "31640      Other-service       Unmarried                Other   Female      0   \n",
              "4557    Transport-moving         Husband                White     Male      0   \n",
              "21295     Prof-specialty   Not-in-family                White   Female      0   \n",
              "17174              Sales   Not-in-family                White     Male      0   \n",
              "14698    Exec-managerial         Husband                White     Male      0   \n",
              "\n",
              "          0   40   United-States   <=50K  \n",
              "6263      0   40   United-States    >50K  \n",
              "12950     0   25   United-States   <=50K  \n",
              "15815     0   45   United-States   <=50K  \n",
              "30055     0   20   United-States   <=50K  \n",
              "4582      0   38   United-States   <=50K  \n",
              "31640     0   30               ?   <=50K  \n",
              "4557      0   40   United-States   <=50K  \n",
              "21295  1504   45   United-States   <=50K  \n",
              "17174     0   30   United-States   <=50K  \n",
              "14698     0   50   United-States    >50K  "
            ],
            "text/html": [
              "\n",
              "  <div id=\"df-d55a071e-d0a6-4f90-8131-cf1f83a80d58\">\n",
              "    <div class=\"colab-df-container\">\n",
              "      <div>\n",
              "<style scoped>\n",
              "    .dataframe tbody tr th:only-of-type {\n",
              "        vertical-align: middle;\n",
              "    }\n",
              "\n",
              "    .dataframe tbody tr th {\n",
              "        vertical-align: top;\n",
              "    }\n",
              "\n",
              "    .dataframe thead th {\n",
              "        text-align: right;\n",
              "    }\n",
              "</style>\n",
              "<table border=\"1\" class=\"dataframe\">\n",
              "  <thead>\n",
              "    <tr style=\"text-align: right;\">\n",
              "      <th></th>\n",
              "      <th>39</th>\n",
              "      <th>State-gov</th>\n",
              "      <th>77516</th>\n",
              "      <th>Bachelors</th>\n",
              "      <th>13</th>\n",
              "      <th>Never-married</th>\n",
              "      <th>Adm-clerical</th>\n",
              "      <th>Not-in-family</th>\n",
              "      <th>White</th>\n",
              "      <th>Male</th>\n",
              "      <th>2174</th>\n",
              "      <th>0</th>\n",
              "      <th>40</th>\n",
              "      <th>United-States</th>\n",
              "      <th>&lt;=50K</th>\n",
              "    </tr>\n",
              "  </thead>\n",
              "  <tbody>\n",
              "    <tr>\n",
              "      <th>6263</th>\n",
              "      <td>38</td>\n",
              "      <td>Private</td>\n",
              "      <td>63509</td>\n",
              "      <td>HS-grad</td>\n",
              "      <td>9</td>\n",
              "      <td>Married-civ-spouse</td>\n",
              "      <td>Craft-repair</td>\n",
              "      <td>Husband</td>\n",
              "      <td>White</td>\n",
              "      <td>Male</td>\n",
              "      <td>0</td>\n",
              "      <td>0</td>\n",
              "      <td>40</td>\n",
              "      <td>United-States</td>\n",
              "      <td>&gt;50K</td>\n",
              "    </tr>\n",
              "    <tr>\n",
              "      <th>12950</th>\n",
              "      <td>19</td>\n",
              "      <td>Private</td>\n",
              "      <td>304469</td>\n",
              "      <td>10th</td>\n",
              "      <td>6</td>\n",
              "      <td>Never-married</td>\n",
              "      <td>Farming-fishing</td>\n",
              "      <td>Own-child</td>\n",
              "      <td>White</td>\n",
              "      <td>Male</td>\n",
              "      <td>0</td>\n",
              "      <td>0</td>\n",
              "      <td>25</td>\n",
              "      <td>United-States</td>\n",
              "      <td>&lt;=50K</td>\n",
              "    </tr>\n",
              "    <tr>\n",
              "      <th>15815</th>\n",
              "      <td>35</td>\n",
              "      <td>Private</td>\n",
              "      <td>119992</td>\n",
              "      <td>Assoc-acdm</td>\n",
              "      <td>12</td>\n",
              "      <td>Married-civ-spouse</td>\n",
              "      <td>Craft-repair</td>\n",
              "      <td>Husband</td>\n",
              "      <td>White</td>\n",
              "      <td>Male</td>\n",
              "      <td>0</td>\n",
              "      <td>0</td>\n",
              "      <td>45</td>\n",
              "      <td>United-States</td>\n",
              "      <td>&lt;=50K</td>\n",
              "    </tr>\n",
              "    <tr>\n",
              "      <th>30055</th>\n",
              "      <td>18</td>\n",
              "      <td>Private</td>\n",
              "      <td>174394</td>\n",
              "      <td>HS-grad</td>\n",
              "      <td>9</td>\n",
              "      <td>Never-married</td>\n",
              "      <td>Other-service</td>\n",
              "      <td>Own-child</td>\n",
              "      <td>White</td>\n",
              "      <td>Female</td>\n",
              "      <td>0</td>\n",
              "      <td>0</td>\n",
              "      <td>20</td>\n",
              "      <td>United-States</td>\n",
              "      <td>&lt;=50K</td>\n",
              "    </tr>\n",
              "    <tr>\n",
              "      <th>4582</th>\n",
              "      <td>39</td>\n",
              "      <td>Private</td>\n",
              "      <td>82488</td>\n",
              "      <td>Some-college</td>\n",
              "      <td>10</td>\n",
              "      <td>Divorced</td>\n",
              "      <td>Sales</td>\n",
              "      <td>Unmarried</td>\n",
              "      <td>Asian-Pac-Islander</td>\n",
              "      <td>Female</td>\n",
              "      <td>0</td>\n",
              "      <td>0</td>\n",
              "      <td>38</td>\n",
              "      <td>United-States</td>\n",
              "      <td>&lt;=50K</td>\n",
              "    </tr>\n",
              "    <tr>\n",
              "      <th>31640</th>\n",
              "      <td>26</td>\n",
              "      <td>Private</td>\n",
              "      <td>261203</td>\n",
              "      <td>7th-8th</td>\n",
              "      <td>4</td>\n",
              "      <td>Never-married</td>\n",
              "      <td>Other-service</td>\n",
              "      <td>Unmarried</td>\n",
              "      <td>Other</td>\n",
              "      <td>Female</td>\n",
              "      <td>0</td>\n",
              "      <td>0</td>\n",
              "      <td>30</td>\n",
              "      <td>?</td>\n",
              "      <td>&lt;=50K</td>\n",
              "    </tr>\n",
              "    <tr>\n",
              "      <th>4557</th>\n",
              "      <td>67</td>\n",
              "      <td>State-gov</td>\n",
              "      <td>423561</td>\n",
              "      <td>Some-college</td>\n",
              "      <td>10</td>\n",
              "      <td>Married-civ-spouse</td>\n",
              "      <td>Transport-moving</td>\n",
              "      <td>Husband</td>\n",
              "      <td>White</td>\n",
              "      <td>Male</td>\n",
              "      <td>0</td>\n",
              "      <td>0</td>\n",
              "      <td>40</td>\n",
              "      <td>United-States</td>\n",
              "      <td>&lt;=50K</td>\n",
              "    </tr>\n",
              "    <tr>\n",
              "      <th>21295</th>\n",
              "      <td>27</td>\n",
              "      <td>Private</td>\n",
              "      <td>189462</td>\n",
              "      <td>Masters</td>\n",
              "      <td>14</td>\n",
              "      <td>Never-married</td>\n",
              "      <td>Prof-specialty</td>\n",
              "      <td>Not-in-family</td>\n",
              "      <td>White</td>\n",
              "      <td>Female</td>\n",
              "      <td>0</td>\n",
              "      <td>1504</td>\n",
              "      <td>45</td>\n",
              "      <td>United-States</td>\n",
              "      <td>&lt;=50K</td>\n",
              "    </tr>\n",
              "    <tr>\n",
              "      <th>17174</th>\n",
              "      <td>20</td>\n",
              "      <td>Private</td>\n",
              "      <td>231231</td>\n",
              "      <td>Some-college</td>\n",
              "      <td>10</td>\n",
              "      <td>Never-married</td>\n",
              "      <td>Sales</td>\n",
              "      <td>Not-in-family</td>\n",
              "      <td>White</td>\n",
              "      <td>Male</td>\n",
              "      <td>0</td>\n",
              "      <td>0</td>\n",
              "      <td>30</td>\n",
              "      <td>United-States</td>\n",
              "      <td>&lt;=50K</td>\n",
              "    </tr>\n",
              "    <tr>\n",
              "      <th>14698</th>\n",
              "      <td>43</td>\n",
              "      <td>Private</td>\n",
              "      <td>144778</td>\n",
              "      <td>HS-grad</td>\n",
              "      <td>9</td>\n",
              "      <td>Married-civ-spouse</td>\n",
              "      <td>Exec-managerial</td>\n",
              "      <td>Husband</td>\n",
              "      <td>White</td>\n",
              "      <td>Male</td>\n",
              "      <td>0</td>\n",
              "      <td>0</td>\n",
              "      <td>50</td>\n",
              "      <td>United-States</td>\n",
              "      <td>&gt;50K</td>\n",
              "    </tr>\n",
              "  </tbody>\n",
              "</table>\n",
              "</div>\n",
              "      <button class=\"colab-df-convert\" onclick=\"convertToInteractive('df-d55a071e-d0a6-4f90-8131-cf1f83a80d58')\"\n",
              "              title=\"Convert this dataframe to an interactive table.\"\n",
              "              style=\"display:none;\">\n",
              "        \n",
              "  <svg xmlns=\"http://www.w3.org/2000/svg\" height=\"24px\"viewBox=\"0 0 24 24\"\n",
              "       width=\"24px\">\n",
              "    <path d=\"M0 0h24v24H0V0z\" fill=\"none\"/>\n",
              "    <path d=\"M18.56 5.44l.94 2.06.94-2.06 2.06-.94-2.06-.94-.94-2.06-.94 2.06-2.06.94zm-11 1L8.5 8.5l.94-2.06 2.06-.94-2.06-.94L8.5 2.5l-.94 2.06-2.06.94zm10 10l.94 2.06.94-2.06 2.06-.94-2.06-.94-.94-2.06-.94 2.06-2.06.94z\"/><path d=\"M17.41 7.96l-1.37-1.37c-.4-.4-.92-.59-1.43-.59-.52 0-1.04.2-1.43.59L10.3 9.45l-7.72 7.72c-.78.78-.78 2.05 0 2.83L4 21.41c.39.39.9.59 1.41.59.51 0 1.02-.2 1.41-.59l7.78-7.78 2.81-2.81c.8-.78.8-2.07 0-2.86zM5.41 20L4 18.59l7.72-7.72 1.47 1.35L5.41 20z\"/>\n",
              "  </svg>\n",
              "      </button>\n",
              "      \n",
              "  <style>\n",
              "    .colab-df-container {\n",
              "      display:flex;\n",
              "      flex-wrap:wrap;\n",
              "      gap: 12px;\n",
              "    }\n",
              "\n",
              "    .colab-df-convert {\n",
              "      background-color: #E8F0FE;\n",
              "      border: none;\n",
              "      border-radius: 50%;\n",
              "      cursor: pointer;\n",
              "      display: none;\n",
              "      fill: #1967D2;\n",
              "      height: 32px;\n",
              "      padding: 0 0 0 0;\n",
              "      width: 32px;\n",
              "    }\n",
              "\n",
              "    .colab-df-convert:hover {\n",
              "      background-color: #E2EBFA;\n",
              "      box-shadow: 0px 1px 2px rgba(60, 64, 67, 0.3), 0px 1px 3px 1px rgba(60, 64, 67, 0.15);\n",
              "      fill: #174EA6;\n",
              "    }\n",
              "\n",
              "    [theme=dark] .colab-df-convert {\n",
              "      background-color: #3B4455;\n",
              "      fill: #D2E3FC;\n",
              "    }\n",
              "\n",
              "    [theme=dark] .colab-df-convert:hover {\n",
              "      background-color: #434B5C;\n",
              "      box-shadow: 0px 1px 3px 1px rgba(0, 0, 0, 0.15);\n",
              "      filter: drop-shadow(0px 1px 2px rgba(0, 0, 0, 0.3));\n",
              "      fill: #FFFFFF;\n",
              "    }\n",
              "  </style>\n",
              "\n",
              "      <script>\n",
              "        const buttonEl =\n",
              "          document.querySelector('#df-d55a071e-d0a6-4f90-8131-cf1f83a80d58 button.colab-df-convert');\n",
              "        buttonEl.style.display =\n",
              "          google.colab.kernel.accessAllowed ? 'block' : 'none';\n",
              "\n",
              "        async function convertToInteractive(key) {\n",
              "          const element = document.querySelector('#df-d55a071e-d0a6-4f90-8131-cf1f83a80d58');\n",
              "          const dataTable =\n",
              "            await google.colab.kernel.invokeFunction('convertToInteractive',\n",
              "                                                     [key], {});\n",
              "          if (!dataTable) return;\n",
              "\n",
              "          const docLinkHtml = 'Like what you see? Visit the ' +\n",
              "            '<a target=\"_blank\" href=https://colab.research.google.com/notebooks/data_table.ipynb>data table notebook</a>'\n",
              "            + ' to learn more about interactive tables.';\n",
              "          element.innerHTML = '';\n",
              "          dataTable['output_type'] = 'display_data';\n",
              "          await google.colab.output.renderOutput(dataTable, element);\n",
              "          const docLink = document.createElement('div');\n",
              "          docLink.innerHTML = docLinkHtml;\n",
              "          element.appendChild(docLink);\n",
              "        }\n",
              "      </script>\n",
              "    </div>\n",
              "  </div>\n",
              "  "
            ]
          },
          "metadata": {},
          "execution_count": 5
        }
      ]
    },
    {
      "cell_type": "code",
      "source": [
        "df.columns=['Age','Workclass','Fnlwgt','Education','education_num','marital_status','occupation','relationship','race','sex','capital_gain','capital_loss','hours_per_week','native_country','income']"
      ],
      "metadata": {
        "id": "eEI_Kbv-OvYC"
      },
      "execution_count": 7,
      "outputs": []
    },
    {
      "cell_type": "code",
      "source": [
        "df"
      ],
      "metadata": {
        "id": "I6fkDKrVRZIZ",
        "colab": {
          "base_uri": "https://localhost:8080/",
          "height": 661
        },
        "outputId": "d512d505-4d8a-429c-bb5b-c51c650d79b0"
      },
      "execution_count": null,
      "outputs": [
        {
          "output_type": "execute_result",
          "data": {
            "text/plain": [
              "       Age          Workclass  Fnlwgt    Education  education_num  \\\n",
              "0       50   Self-emp-not-inc   83311    Bachelors             13   \n",
              "1       38            Private  215646      HS-grad              9   \n",
              "2       53            Private  234721         11th              7   \n",
              "3       28            Private  338409    Bachelors             13   \n",
              "4       37            Private  284582      Masters             14   \n",
              "...    ...                ...     ...          ...            ...   \n",
              "32555   27            Private  257302   Assoc-acdm             12   \n",
              "32556   40            Private  154374      HS-grad              9   \n",
              "32557   58            Private  151910      HS-grad              9   \n",
              "32558   22            Private  201490      HS-grad              9   \n",
              "32559   52       Self-emp-inc  287927      HS-grad              9   \n",
              "\n",
              "            marital_status          occupation    relationship    race  \\\n",
              "0       Married-civ-spouse     Exec-managerial         Husband   White   \n",
              "1                 Divorced   Handlers-cleaners   Not-in-family   White   \n",
              "2       Married-civ-spouse   Handlers-cleaners         Husband   Black   \n",
              "3       Married-civ-spouse      Prof-specialty            Wife   Black   \n",
              "4       Married-civ-spouse     Exec-managerial            Wife   White   \n",
              "...                    ...                 ...             ...     ...   \n",
              "32555   Married-civ-spouse        Tech-support            Wife   White   \n",
              "32556   Married-civ-spouse   Machine-op-inspct         Husband   White   \n",
              "32557              Widowed        Adm-clerical       Unmarried   White   \n",
              "32558        Never-married        Adm-clerical       Own-child   White   \n",
              "32559   Married-civ-spouse     Exec-managerial            Wife   White   \n",
              "\n",
              "           sex  capital_gain  capital_loss  hours_per_week  native_country  \\\n",
              "0         Male             0             0              13   United-States   \n",
              "1         Male             0             0              40   United-States   \n",
              "2         Male             0             0              40   United-States   \n",
              "3       Female             0             0              40            Cuba   \n",
              "4       Female             0             0              40   United-States   \n",
              "...        ...           ...           ...             ...             ...   \n",
              "32555   Female             0             0              38   United-States   \n",
              "32556     Male             0             0              40   United-States   \n",
              "32557   Female             0             0              40   United-States   \n",
              "32558     Male             0             0              20   United-States   \n",
              "32559   Female         15024             0              40   United-States   \n",
              "\n",
              "       income  \n",
              "0       <=50K  \n",
              "1       <=50K  \n",
              "2       <=50K  \n",
              "3       <=50K  \n",
              "4       <=50K  \n",
              "...       ...  \n",
              "32555   <=50K  \n",
              "32556    >50K  \n",
              "32557   <=50K  \n",
              "32558   <=50K  \n",
              "32559    >50K  \n",
              "\n",
              "[32560 rows x 15 columns]"
            ],
            "text/html": [
              "\n",
              "  <div id=\"df-a832e231-fdc4-4102-aa8a-7aad7d79f285\">\n",
              "    <div class=\"colab-df-container\">\n",
              "      <div>\n",
              "<style scoped>\n",
              "    .dataframe tbody tr th:only-of-type {\n",
              "        vertical-align: middle;\n",
              "    }\n",
              "\n",
              "    .dataframe tbody tr th {\n",
              "        vertical-align: top;\n",
              "    }\n",
              "\n",
              "    .dataframe thead th {\n",
              "        text-align: right;\n",
              "    }\n",
              "</style>\n",
              "<table border=\"1\" class=\"dataframe\">\n",
              "  <thead>\n",
              "    <tr style=\"text-align: right;\">\n",
              "      <th></th>\n",
              "      <th>Age</th>\n",
              "      <th>Workclass</th>\n",
              "      <th>Fnlwgt</th>\n",
              "      <th>Education</th>\n",
              "      <th>education_num</th>\n",
              "      <th>marital_status</th>\n",
              "      <th>occupation</th>\n",
              "      <th>relationship</th>\n",
              "      <th>race</th>\n",
              "      <th>sex</th>\n",
              "      <th>capital_gain</th>\n",
              "      <th>capital_loss</th>\n",
              "      <th>hours_per_week</th>\n",
              "      <th>native_country</th>\n",
              "      <th>income</th>\n",
              "    </tr>\n",
              "  </thead>\n",
              "  <tbody>\n",
              "    <tr>\n",
              "      <th>0</th>\n",
              "      <td>50</td>\n",
              "      <td>Self-emp-not-inc</td>\n",
              "      <td>83311</td>\n",
              "      <td>Bachelors</td>\n",
              "      <td>13</td>\n",
              "      <td>Married-civ-spouse</td>\n",
              "      <td>Exec-managerial</td>\n",
              "      <td>Husband</td>\n",
              "      <td>White</td>\n",
              "      <td>Male</td>\n",
              "      <td>0</td>\n",
              "      <td>0</td>\n",
              "      <td>13</td>\n",
              "      <td>United-States</td>\n",
              "      <td>&lt;=50K</td>\n",
              "    </tr>\n",
              "    <tr>\n",
              "      <th>1</th>\n",
              "      <td>38</td>\n",
              "      <td>Private</td>\n",
              "      <td>215646</td>\n",
              "      <td>HS-grad</td>\n",
              "      <td>9</td>\n",
              "      <td>Divorced</td>\n",
              "      <td>Handlers-cleaners</td>\n",
              "      <td>Not-in-family</td>\n",
              "      <td>White</td>\n",
              "      <td>Male</td>\n",
              "      <td>0</td>\n",
              "      <td>0</td>\n",
              "      <td>40</td>\n",
              "      <td>United-States</td>\n",
              "      <td>&lt;=50K</td>\n",
              "    </tr>\n",
              "    <tr>\n",
              "      <th>2</th>\n",
              "      <td>53</td>\n",
              "      <td>Private</td>\n",
              "      <td>234721</td>\n",
              "      <td>11th</td>\n",
              "      <td>7</td>\n",
              "      <td>Married-civ-spouse</td>\n",
              "      <td>Handlers-cleaners</td>\n",
              "      <td>Husband</td>\n",
              "      <td>Black</td>\n",
              "      <td>Male</td>\n",
              "      <td>0</td>\n",
              "      <td>0</td>\n",
              "      <td>40</td>\n",
              "      <td>United-States</td>\n",
              "      <td>&lt;=50K</td>\n",
              "    </tr>\n",
              "    <tr>\n",
              "      <th>3</th>\n",
              "      <td>28</td>\n",
              "      <td>Private</td>\n",
              "      <td>338409</td>\n",
              "      <td>Bachelors</td>\n",
              "      <td>13</td>\n",
              "      <td>Married-civ-spouse</td>\n",
              "      <td>Prof-specialty</td>\n",
              "      <td>Wife</td>\n",
              "      <td>Black</td>\n",
              "      <td>Female</td>\n",
              "      <td>0</td>\n",
              "      <td>0</td>\n",
              "      <td>40</td>\n",
              "      <td>Cuba</td>\n",
              "      <td>&lt;=50K</td>\n",
              "    </tr>\n",
              "    <tr>\n",
              "      <th>4</th>\n",
              "      <td>37</td>\n",
              "      <td>Private</td>\n",
              "      <td>284582</td>\n",
              "      <td>Masters</td>\n",
              "      <td>14</td>\n",
              "      <td>Married-civ-spouse</td>\n",
              "      <td>Exec-managerial</td>\n",
              "      <td>Wife</td>\n",
              "      <td>White</td>\n",
              "      <td>Female</td>\n",
              "      <td>0</td>\n",
              "      <td>0</td>\n",
              "      <td>40</td>\n",
              "      <td>United-States</td>\n",
              "      <td>&lt;=50K</td>\n",
              "    </tr>\n",
              "    <tr>\n",
              "      <th>...</th>\n",
              "      <td>...</td>\n",
              "      <td>...</td>\n",
              "      <td>...</td>\n",
              "      <td>...</td>\n",
              "      <td>...</td>\n",
              "      <td>...</td>\n",
              "      <td>...</td>\n",
              "      <td>...</td>\n",
              "      <td>...</td>\n",
              "      <td>...</td>\n",
              "      <td>...</td>\n",
              "      <td>...</td>\n",
              "      <td>...</td>\n",
              "      <td>...</td>\n",
              "      <td>...</td>\n",
              "    </tr>\n",
              "    <tr>\n",
              "      <th>32555</th>\n",
              "      <td>27</td>\n",
              "      <td>Private</td>\n",
              "      <td>257302</td>\n",
              "      <td>Assoc-acdm</td>\n",
              "      <td>12</td>\n",
              "      <td>Married-civ-spouse</td>\n",
              "      <td>Tech-support</td>\n",
              "      <td>Wife</td>\n",
              "      <td>White</td>\n",
              "      <td>Female</td>\n",
              "      <td>0</td>\n",
              "      <td>0</td>\n",
              "      <td>38</td>\n",
              "      <td>United-States</td>\n",
              "      <td>&lt;=50K</td>\n",
              "    </tr>\n",
              "    <tr>\n",
              "      <th>32556</th>\n",
              "      <td>40</td>\n",
              "      <td>Private</td>\n",
              "      <td>154374</td>\n",
              "      <td>HS-grad</td>\n",
              "      <td>9</td>\n",
              "      <td>Married-civ-spouse</td>\n",
              "      <td>Machine-op-inspct</td>\n",
              "      <td>Husband</td>\n",
              "      <td>White</td>\n",
              "      <td>Male</td>\n",
              "      <td>0</td>\n",
              "      <td>0</td>\n",
              "      <td>40</td>\n",
              "      <td>United-States</td>\n",
              "      <td>&gt;50K</td>\n",
              "    </tr>\n",
              "    <tr>\n",
              "      <th>32557</th>\n",
              "      <td>58</td>\n",
              "      <td>Private</td>\n",
              "      <td>151910</td>\n",
              "      <td>HS-grad</td>\n",
              "      <td>9</td>\n",
              "      <td>Widowed</td>\n",
              "      <td>Adm-clerical</td>\n",
              "      <td>Unmarried</td>\n",
              "      <td>White</td>\n",
              "      <td>Female</td>\n",
              "      <td>0</td>\n",
              "      <td>0</td>\n",
              "      <td>40</td>\n",
              "      <td>United-States</td>\n",
              "      <td>&lt;=50K</td>\n",
              "    </tr>\n",
              "    <tr>\n",
              "      <th>32558</th>\n",
              "      <td>22</td>\n",
              "      <td>Private</td>\n",
              "      <td>201490</td>\n",
              "      <td>HS-grad</td>\n",
              "      <td>9</td>\n",
              "      <td>Never-married</td>\n",
              "      <td>Adm-clerical</td>\n",
              "      <td>Own-child</td>\n",
              "      <td>White</td>\n",
              "      <td>Male</td>\n",
              "      <td>0</td>\n",
              "      <td>0</td>\n",
              "      <td>20</td>\n",
              "      <td>United-States</td>\n",
              "      <td>&lt;=50K</td>\n",
              "    </tr>\n",
              "    <tr>\n",
              "      <th>32559</th>\n",
              "      <td>52</td>\n",
              "      <td>Self-emp-inc</td>\n",
              "      <td>287927</td>\n",
              "      <td>HS-grad</td>\n",
              "      <td>9</td>\n",
              "      <td>Married-civ-spouse</td>\n",
              "      <td>Exec-managerial</td>\n",
              "      <td>Wife</td>\n",
              "      <td>White</td>\n",
              "      <td>Female</td>\n",
              "      <td>15024</td>\n",
              "      <td>0</td>\n",
              "      <td>40</td>\n",
              "      <td>United-States</td>\n",
              "      <td>&gt;50K</td>\n",
              "    </tr>\n",
              "  </tbody>\n",
              "</table>\n",
              "<p>32560 rows × 15 columns</p>\n",
              "</div>\n",
              "      <button class=\"colab-df-convert\" onclick=\"convertToInteractive('df-a832e231-fdc4-4102-aa8a-7aad7d79f285')\"\n",
              "              title=\"Convert this dataframe to an interactive table.\"\n",
              "              style=\"display:none;\">\n",
              "        \n",
              "  <svg xmlns=\"http://www.w3.org/2000/svg\" height=\"24px\"viewBox=\"0 0 24 24\"\n",
              "       width=\"24px\">\n",
              "    <path d=\"M0 0h24v24H0V0z\" fill=\"none\"/>\n",
              "    <path d=\"M18.56 5.44l.94 2.06.94-2.06 2.06-.94-2.06-.94-.94-2.06-.94 2.06-2.06.94zm-11 1L8.5 8.5l.94-2.06 2.06-.94-2.06-.94L8.5 2.5l-.94 2.06-2.06.94zm10 10l.94 2.06.94-2.06 2.06-.94-2.06-.94-.94-2.06-.94 2.06-2.06.94z\"/><path d=\"M17.41 7.96l-1.37-1.37c-.4-.4-.92-.59-1.43-.59-.52 0-1.04.2-1.43.59L10.3 9.45l-7.72 7.72c-.78.78-.78 2.05 0 2.83L4 21.41c.39.39.9.59 1.41.59.51 0 1.02-.2 1.41-.59l7.78-7.78 2.81-2.81c.8-.78.8-2.07 0-2.86zM5.41 20L4 18.59l7.72-7.72 1.47 1.35L5.41 20z\"/>\n",
              "  </svg>\n",
              "      </button>\n",
              "      \n",
              "  <style>\n",
              "    .colab-df-container {\n",
              "      display:flex;\n",
              "      flex-wrap:wrap;\n",
              "      gap: 12px;\n",
              "    }\n",
              "\n",
              "    .colab-df-convert {\n",
              "      background-color: #E8F0FE;\n",
              "      border: none;\n",
              "      border-radius: 50%;\n",
              "      cursor: pointer;\n",
              "      display: none;\n",
              "      fill: #1967D2;\n",
              "      height: 32px;\n",
              "      padding: 0 0 0 0;\n",
              "      width: 32px;\n",
              "    }\n",
              "\n",
              "    .colab-df-convert:hover {\n",
              "      background-color: #E2EBFA;\n",
              "      box-shadow: 0px 1px 2px rgba(60, 64, 67, 0.3), 0px 1px 3px 1px rgba(60, 64, 67, 0.15);\n",
              "      fill: #174EA6;\n",
              "    }\n",
              "\n",
              "    [theme=dark] .colab-df-convert {\n",
              "      background-color: #3B4455;\n",
              "      fill: #D2E3FC;\n",
              "    }\n",
              "\n",
              "    [theme=dark] .colab-df-convert:hover {\n",
              "      background-color: #434B5C;\n",
              "      box-shadow: 0px 1px 3px 1px rgba(0, 0, 0, 0.15);\n",
              "      filter: drop-shadow(0px 1px 2px rgba(0, 0, 0, 0.3));\n",
              "      fill: #FFFFFF;\n",
              "    }\n",
              "  </style>\n",
              "\n",
              "      <script>\n",
              "        const buttonEl =\n",
              "          document.querySelector('#df-a832e231-fdc4-4102-aa8a-7aad7d79f285 button.colab-df-convert');\n",
              "        buttonEl.style.display =\n",
              "          google.colab.kernel.accessAllowed ? 'block' : 'none';\n",
              "\n",
              "        async function convertToInteractive(key) {\n",
              "          const element = document.querySelector('#df-a832e231-fdc4-4102-aa8a-7aad7d79f285');\n",
              "          const dataTable =\n",
              "            await google.colab.kernel.invokeFunction('convertToInteractive',\n",
              "                                                     [key], {});\n",
              "          if (!dataTable) return;\n",
              "\n",
              "          const docLinkHtml = 'Like what you see? Visit the ' +\n",
              "            '<a target=\"_blank\" href=https://colab.research.google.com/notebooks/data_table.ipynb>data table notebook</a>'\n",
              "            + ' to learn more about interactive tables.';\n",
              "          element.innerHTML = '';\n",
              "          dataTable['output_type'] = 'display_data';\n",
              "          await google.colab.output.renderOutput(dataTable, element);\n",
              "          const docLink = document.createElement('div');\n",
              "          docLink.innerHTML = docLinkHtml;\n",
              "          element.appendChild(docLink);\n",
              "        }\n",
              "      </script>\n",
              "    </div>\n",
              "  </div>\n",
              "  "
            ]
          },
          "metadata": {},
          "execution_count": 82
        }
      ]
    },
    {
      "cell_type": "code",
      "source": [
        "df.isnull()"
      ],
      "metadata": {
        "colab": {
          "base_uri": "https://localhost:8080/",
          "height": 488
        },
        "id": "2I-EQB4QtXIE",
        "outputId": "31e54859-ed09-461e-cdc2-e9a147ff8ba4"
      },
      "execution_count": 8,
      "outputs": [
        {
          "output_type": "execute_result",
          "data": {
            "text/plain": [
              "         Age  Workclass  Fnlwgt  Education  education_num  marital_status  \\\n",
              "0      False      False   False      False          False           False   \n",
              "1      False      False   False      False          False           False   \n",
              "2      False      False   False      False          False           False   \n",
              "3      False      False   False      False          False           False   \n",
              "4      False      False   False      False          False           False   \n",
              "...      ...        ...     ...        ...            ...             ...   \n",
              "32555  False      False   False      False          False           False   \n",
              "32556  False      False   False      False          False           False   \n",
              "32557  False      False   False      False          False           False   \n",
              "32558  False      False   False      False          False           False   \n",
              "32559  False      False   False      False          False           False   \n",
              "\n",
              "       occupation  relationship   race    sex  capital_gain  capital_loss  \\\n",
              "0           False         False  False  False         False         False   \n",
              "1           False         False  False  False         False         False   \n",
              "2           False         False  False  False         False         False   \n",
              "3           False         False  False  False         False         False   \n",
              "4           False         False  False  False         False         False   \n",
              "...           ...           ...    ...    ...           ...           ...   \n",
              "32555       False         False  False  False         False         False   \n",
              "32556       False         False  False  False         False         False   \n",
              "32557       False         False  False  False         False         False   \n",
              "32558       False         False  False  False         False         False   \n",
              "32559       False         False  False  False         False         False   \n",
              "\n",
              "       hours_per_week  native_country  income  \n",
              "0               False           False   False  \n",
              "1               False           False   False  \n",
              "2               False           False   False  \n",
              "3               False           False   False  \n",
              "4               False           False   False  \n",
              "...               ...             ...     ...  \n",
              "32555           False           False   False  \n",
              "32556           False           False   False  \n",
              "32557           False           False   False  \n",
              "32558           False           False   False  \n",
              "32559           False           False   False  \n",
              "\n",
              "[32560 rows x 15 columns]"
            ],
            "text/html": [
              "\n",
              "  <div id=\"df-85ede286-f617-4b6b-822e-05d0f9d26c3b\">\n",
              "    <div class=\"colab-df-container\">\n",
              "      <div>\n",
              "<style scoped>\n",
              "    .dataframe tbody tr th:only-of-type {\n",
              "        vertical-align: middle;\n",
              "    }\n",
              "\n",
              "    .dataframe tbody tr th {\n",
              "        vertical-align: top;\n",
              "    }\n",
              "\n",
              "    .dataframe thead th {\n",
              "        text-align: right;\n",
              "    }\n",
              "</style>\n",
              "<table border=\"1\" class=\"dataframe\">\n",
              "  <thead>\n",
              "    <tr style=\"text-align: right;\">\n",
              "      <th></th>\n",
              "      <th>Age</th>\n",
              "      <th>Workclass</th>\n",
              "      <th>Fnlwgt</th>\n",
              "      <th>Education</th>\n",
              "      <th>education_num</th>\n",
              "      <th>marital_status</th>\n",
              "      <th>occupation</th>\n",
              "      <th>relationship</th>\n",
              "      <th>race</th>\n",
              "      <th>sex</th>\n",
              "      <th>capital_gain</th>\n",
              "      <th>capital_loss</th>\n",
              "      <th>hours_per_week</th>\n",
              "      <th>native_country</th>\n",
              "      <th>income</th>\n",
              "    </tr>\n",
              "  </thead>\n",
              "  <tbody>\n",
              "    <tr>\n",
              "      <th>0</th>\n",
              "      <td>False</td>\n",
              "      <td>False</td>\n",
              "      <td>False</td>\n",
              "      <td>False</td>\n",
              "      <td>False</td>\n",
              "      <td>False</td>\n",
              "      <td>False</td>\n",
              "      <td>False</td>\n",
              "      <td>False</td>\n",
              "      <td>False</td>\n",
              "      <td>False</td>\n",
              "      <td>False</td>\n",
              "      <td>False</td>\n",
              "      <td>False</td>\n",
              "      <td>False</td>\n",
              "    </tr>\n",
              "    <tr>\n",
              "      <th>1</th>\n",
              "      <td>False</td>\n",
              "      <td>False</td>\n",
              "      <td>False</td>\n",
              "      <td>False</td>\n",
              "      <td>False</td>\n",
              "      <td>False</td>\n",
              "      <td>False</td>\n",
              "      <td>False</td>\n",
              "      <td>False</td>\n",
              "      <td>False</td>\n",
              "      <td>False</td>\n",
              "      <td>False</td>\n",
              "      <td>False</td>\n",
              "      <td>False</td>\n",
              "      <td>False</td>\n",
              "    </tr>\n",
              "    <tr>\n",
              "      <th>2</th>\n",
              "      <td>False</td>\n",
              "      <td>False</td>\n",
              "      <td>False</td>\n",
              "      <td>False</td>\n",
              "      <td>False</td>\n",
              "      <td>False</td>\n",
              "      <td>False</td>\n",
              "      <td>False</td>\n",
              "      <td>False</td>\n",
              "      <td>False</td>\n",
              "      <td>False</td>\n",
              "      <td>False</td>\n",
              "      <td>False</td>\n",
              "      <td>False</td>\n",
              "      <td>False</td>\n",
              "    </tr>\n",
              "    <tr>\n",
              "      <th>3</th>\n",
              "      <td>False</td>\n",
              "      <td>False</td>\n",
              "      <td>False</td>\n",
              "      <td>False</td>\n",
              "      <td>False</td>\n",
              "      <td>False</td>\n",
              "      <td>False</td>\n",
              "      <td>False</td>\n",
              "      <td>False</td>\n",
              "      <td>False</td>\n",
              "      <td>False</td>\n",
              "      <td>False</td>\n",
              "      <td>False</td>\n",
              "      <td>False</td>\n",
              "      <td>False</td>\n",
              "    </tr>\n",
              "    <tr>\n",
              "      <th>4</th>\n",
              "      <td>False</td>\n",
              "      <td>False</td>\n",
              "      <td>False</td>\n",
              "      <td>False</td>\n",
              "      <td>False</td>\n",
              "      <td>False</td>\n",
              "      <td>False</td>\n",
              "      <td>False</td>\n",
              "      <td>False</td>\n",
              "      <td>False</td>\n",
              "      <td>False</td>\n",
              "      <td>False</td>\n",
              "      <td>False</td>\n",
              "      <td>False</td>\n",
              "      <td>False</td>\n",
              "    </tr>\n",
              "    <tr>\n",
              "      <th>...</th>\n",
              "      <td>...</td>\n",
              "      <td>...</td>\n",
              "      <td>...</td>\n",
              "      <td>...</td>\n",
              "      <td>...</td>\n",
              "      <td>...</td>\n",
              "      <td>...</td>\n",
              "      <td>...</td>\n",
              "      <td>...</td>\n",
              "      <td>...</td>\n",
              "      <td>...</td>\n",
              "      <td>...</td>\n",
              "      <td>...</td>\n",
              "      <td>...</td>\n",
              "      <td>...</td>\n",
              "    </tr>\n",
              "    <tr>\n",
              "      <th>32555</th>\n",
              "      <td>False</td>\n",
              "      <td>False</td>\n",
              "      <td>False</td>\n",
              "      <td>False</td>\n",
              "      <td>False</td>\n",
              "      <td>False</td>\n",
              "      <td>False</td>\n",
              "      <td>False</td>\n",
              "      <td>False</td>\n",
              "      <td>False</td>\n",
              "      <td>False</td>\n",
              "      <td>False</td>\n",
              "      <td>False</td>\n",
              "      <td>False</td>\n",
              "      <td>False</td>\n",
              "    </tr>\n",
              "    <tr>\n",
              "      <th>32556</th>\n",
              "      <td>False</td>\n",
              "      <td>False</td>\n",
              "      <td>False</td>\n",
              "      <td>False</td>\n",
              "      <td>False</td>\n",
              "      <td>False</td>\n",
              "      <td>False</td>\n",
              "      <td>False</td>\n",
              "      <td>False</td>\n",
              "      <td>False</td>\n",
              "      <td>False</td>\n",
              "      <td>False</td>\n",
              "      <td>False</td>\n",
              "      <td>False</td>\n",
              "      <td>False</td>\n",
              "    </tr>\n",
              "    <tr>\n",
              "      <th>32557</th>\n",
              "      <td>False</td>\n",
              "      <td>False</td>\n",
              "      <td>False</td>\n",
              "      <td>False</td>\n",
              "      <td>False</td>\n",
              "      <td>False</td>\n",
              "      <td>False</td>\n",
              "      <td>False</td>\n",
              "      <td>False</td>\n",
              "      <td>False</td>\n",
              "      <td>False</td>\n",
              "      <td>False</td>\n",
              "      <td>False</td>\n",
              "      <td>False</td>\n",
              "      <td>False</td>\n",
              "    </tr>\n",
              "    <tr>\n",
              "      <th>32558</th>\n",
              "      <td>False</td>\n",
              "      <td>False</td>\n",
              "      <td>False</td>\n",
              "      <td>False</td>\n",
              "      <td>False</td>\n",
              "      <td>False</td>\n",
              "      <td>False</td>\n",
              "      <td>False</td>\n",
              "      <td>False</td>\n",
              "      <td>False</td>\n",
              "      <td>False</td>\n",
              "      <td>False</td>\n",
              "      <td>False</td>\n",
              "      <td>False</td>\n",
              "      <td>False</td>\n",
              "    </tr>\n",
              "    <tr>\n",
              "      <th>32559</th>\n",
              "      <td>False</td>\n",
              "      <td>False</td>\n",
              "      <td>False</td>\n",
              "      <td>False</td>\n",
              "      <td>False</td>\n",
              "      <td>False</td>\n",
              "      <td>False</td>\n",
              "      <td>False</td>\n",
              "      <td>False</td>\n",
              "      <td>False</td>\n",
              "      <td>False</td>\n",
              "      <td>False</td>\n",
              "      <td>False</td>\n",
              "      <td>False</td>\n",
              "      <td>False</td>\n",
              "    </tr>\n",
              "  </tbody>\n",
              "</table>\n",
              "<p>32560 rows × 15 columns</p>\n",
              "</div>\n",
              "      <button class=\"colab-df-convert\" onclick=\"convertToInteractive('df-85ede286-f617-4b6b-822e-05d0f9d26c3b')\"\n",
              "              title=\"Convert this dataframe to an interactive table.\"\n",
              "              style=\"display:none;\">\n",
              "        \n",
              "  <svg xmlns=\"http://www.w3.org/2000/svg\" height=\"24px\"viewBox=\"0 0 24 24\"\n",
              "       width=\"24px\">\n",
              "    <path d=\"M0 0h24v24H0V0z\" fill=\"none\"/>\n",
              "    <path d=\"M18.56 5.44l.94 2.06.94-2.06 2.06-.94-2.06-.94-.94-2.06-.94 2.06-2.06.94zm-11 1L8.5 8.5l.94-2.06 2.06-.94-2.06-.94L8.5 2.5l-.94 2.06-2.06.94zm10 10l.94 2.06.94-2.06 2.06-.94-2.06-.94-.94-2.06-.94 2.06-2.06.94z\"/><path d=\"M17.41 7.96l-1.37-1.37c-.4-.4-.92-.59-1.43-.59-.52 0-1.04.2-1.43.59L10.3 9.45l-7.72 7.72c-.78.78-.78 2.05 0 2.83L4 21.41c.39.39.9.59 1.41.59.51 0 1.02-.2 1.41-.59l7.78-7.78 2.81-2.81c.8-.78.8-2.07 0-2.86zM5.41 20L4 18.59l7.72-7.72 1.47 1.35L5.41 20z\"/>\n",
              "  </svg>\n",
              "      </button>\n",
              "      \n",
              "  <style>\n",
              "    .colab-df-container {\n",
              "      display:flex;\n",
              "      flex-wrap:wrap;\n",
              "      gap: 12px;\n",
              "    }\n",
              "\n",
              "    .colab-df-convert {\n",
              "      background-color: #E8F0FE;\n",
              "      border: none;\n",
              "      border-radius: 50%;\n",
              "      cursor: pointer;\n",
              "      display: none;\n",
              "      fill: #1967D2;\n",
              "      height: 32px;\n",
              "      padding: 0 0 0 0;\n",
              "      width: 32px;\n",
              "    }\n",
              "\n",
              "    .colab-df-convert:hover {\n",
              "      background-color: #E2EBFA;\n",
              "      box-shadow: 0px 1px 2px rgba(60, 64, 67, 0.3), 0px 1px 3px 1px rgba(60, 64, 67, 0.15);\n",
              "      fill: #174EA6;\n",
              "    }\n",
              "\n",
              "    [theme=dark] .colab-df-convert {\n",
              "      background-color: #3B4455;\n",
              "      fill: #D2E3FC;\n",
              "    }\n",
              "\n",
              "    [theme=dark] .colab-df-convert:hover {\n",
              "      background-color: #434B5C;\n",
              "      box-shadow: 0px 1px 3px 1px rgba(0, 0, 0, 0.15);\n",
              "      filter: drop-shadow(0px 1px 2px rgba(0, 0, 0, 0.3));\n",
              "      fill: #FFFFFF;\n",
              "    }\n",
              "  </style>\n",
              "\n",
              "      <script>\n",
              "        const buttonEl =\n",
              "          document.querySelector('#df-85ede286-f617-4b6b-822e-05d0f9d26c3b button.colab-df-convert');\n",
              "        buttonEl.style.display =\n",
              "          google.colab.kernel.accessAllowed ? 'block' : 'none';\n",
              "\n",
              "        async function convertToInteractive(key) {\n",
              "          const element = document.querySelector('#df-85ede286-f617-4b6b-822e-05d0f9d26c3b');\n",
              "          const dataTable =\n",
              "            await google.colab.kernel.invokeFunction('convertToInteractive',\n",
              "                                                     [key], {});\n",
              "          if (!dataTable) return;\n",
              "\n",
              "          const docLinkHtml = 'Like what you see? Visit the ' +\n",
              "            '<a target=\"_blank\" href=https://colab.research.google.com/notebooks/data_table.ipynb>data table notebook</a>'\n",
              "            + ' to learn more about interactive tables.';\n",
              "          element.innerHTML = '';\n",
              "          dataTable['output_type'] = 'display_data';\n",
              "          await google.colab.output.renderOutput(dataTable, element);\n",
              "          const docLink = document.createElement('div');\n",
              "          docLink.innerHTML = docLinkHtml;\n",
              "          element.appendChild(docLink);\n",
              "        }\n",
              "      </script>\n",
              "    </div>\n",
              "  </div>\n",
              "  "
            ]
          },
          "metadata": {},
          "execution_count": 8
        }
      ]
    },
    {
      "cell_type": "code",
      "source": [
        "from sklearn import preprocessing\n",
        "label_encoder = preprocessing.LabelEncoder()\n",
        "df['Workclass']= label_encoder.fit_transform(df['Workclass'])\n"
      ],
      "metadata": {
        "id": "M_zBvO6ZTrJQ"
      },
      "execution_count": 10,
      "outputs": []
    },
    {
      "cell_type": "code",
      "source": [
        "df['marital_status']= label_encoder.fit_transform(df['marital_status'])\n",
        "df['relationship']= label_encoder.fit_transform(df['relationship'])\n",
        "df['race']= label_encoder.fit_transform(df['race'])\n",
        "df['sex']= label_encoder.fit_transform(df['sex'])\n",
        "df['native_country']= label_encoder.fit_transform(df['native_country'])"
      ],
      "metadata": {
        "id": "MCrvvMPyT8dC"
      },
      "execution_count": 11,
      "outputs": []
    },
    {
      "cell_type": "code",
      "source": [
        "df['income']= label_encoder.fit_transform(df['income'])"
      ],
      "metadata": {
        "id": "wK-fSirKUxf1"
      },
      "execution_count": 12,
      "outputs": []
    },
    {
      "cell_type": "code",
      "source": [
        "df=df.drop(columns=['Fnlwgt','Education','occupation','capital_gain','capital_loss'])"
      ],
      "metadata": {
        "id": "UjqSKxL6U4k0"
      },
      "execution_count": 13,
      "outputs": []
    },
    {
      "cell_type": "code",
      "source": [
        "corr=df.corr()\n"
      ],
      "metadata": {
        "id": "4A2txXyhRJS-"
      },
      "execution_count": 14,
      "outputs": []
    },
    {
      "cell_type": "code",
      "source": [
        "sns.heatmap(corr,annot=True)"
      ],
      "metadata": {
        "id": "sM4vEG8-Rr3c",
        "colab": {
          "base_uri": "https://localhost:8080/",
          "height": 357
        },
        "outputId": "17677fee-eea8-421d-eb2a-a8045bc13cbd"
      },
      "execution_count": 15,
      "outputs": [
        {
          "output_type": "execute_result",
          "data": {
            "text/plain": [
              "<matplotlib.axes._subplots.AxesSubplot at 0x7fc3e3639e80>"
            ]
          },
          "metadata": {},
          "execution_count": 15
        },
        {
          "output_type": "display_data",
          "data": {
            "text/plain": [
              "<Figure size 432x288 with 2 Axes>"
            ],
            "image/png": "[encoded data removed]"
          },
          "metadata": {
            "needs_background": "light"
          }
        }
      ]
    },
    {
      "cell_type": "code",
      "source": [
        "df=df.drop(columns=['Workclass','race','native_country'])"
      ],
      "metadata": {
        "id": "d723bFFpV4ey"
      },
      "execution_count": 16,
      "outputs": []
    },
    {
      "cell_type": "code",
      "source": [
        "corr=df.corr()\n",
        "sns.heatmap(corr,annot=True)"
      ],
      "metadata": {
        "colab": {
          "base_uri": "https://localhost:8080/",
          "height": 357
        },
        "id": "Ox6_uGObWHPa",
        "outputId": "84b94cf8-9c6d-4d1f-d919-e26ef18604bf"
      },
      "execution_count": 17,
      "outputs": [
        {
          "output_type": "execute_result",
          "data": {
            "text/plain": [
              "<matplotlib.axes._subplots.AxesSubplot at 0x7fc3f1fe04c0>"
            ]
          },
          "metadata": {},
          "execution_count": 17
        },
        {
          "output_type": "display_data",
          "data": {
            "text/plain": [
              "<Figure size 432x288 with 2 Axes>"
            ],
            "image/png": "[encoded data removed]"
          },
          "metadata": {
            "needs_background": "light"
          }
        }
      ]
    },
    {
      "cell_type": "markdown",
      "source": [
        "SPLITTING INPUT AND OUTPUT"
      ],
      "metadata": {
        "id": "e4BpygZvojVm"
      }
    },
    {
      "cell_type": "code",
      "source": [
        "X=df.drop(['income','marital_status','sex','Age','hours_per_week'],axis=1)\n",
        "y=df['income']"
      ],
      "metadata": {
        "id": "x2ofpSmKXNtz"
      },
      "execution_count": 18,
      "outputs": []
    },
    {
      "cell_type": "markdown",
      "source": [
        "a. DECISION TREE"
      ],
      "metadata": {
        "id": "YBajwAmtohTJ"
      }
    },
    {
      "cell_type": "code",
      "source": [
        "from sklearn import tree\n",
        "model = tree.DecisionTreeClassifier(criterion=\"entropy\")"
      ],
      "metadata": {
        "id": "flM2-4AXXDTT"
      },
      "execution_count": 19,
      "outputs": []
    },
    {
      "cell_type": "code",
      "source": [
        "from sklearn.model_selection import train_test_split\n",
        "\n",
        "X_train, X_test, y_train, y_test = train_test_split(X, y, test_size = 0.30, random_state = 42)"
      ],
      "metadata": {
        "id": "YyzMhYuPXMSu"
      },
      "execution_count": 20,
      "outputs": []
    },
    {
      "cell_type": "code",
      "source": [
        "model.fit(X_train, y_train)"
      ],
      "metadata": {
        "colab": {
          "base_uri": "https://localhost:8080/",
          "height": 0
        },
        "id": "AuAa_i4AXdb5",
        "outputId": "35e6e5db-6235-453e-a7b4-08aea4b9d751"
      },
      "execution_count": 21,
      "outputs": [
        {
          "output_type": "execute_result",
          "data": {
            "text/plain": [
              "DecisionTreeClassifier(criterion='entropy')"
            ]
          },
          "metadata": {},
          "execution_count": 21
        }
      ]
    },
    {
      "cell_type": "code",
      "source": [
        "model.score(X_train, y_train)"
      ],
      "metadata": {
        "colab": {
          "base_uri": "https://localhost:8080/",
          "height": 0
        },
        "id": "opYlbeEeXjOB",
        "outputId": "96d3e8fa-d9f0-4619-a4e3-f28ed34b78bb"
      },
      "execution_count": 22,
      "outputs": [
        {
          "output_type": "execute_result",
          "data": {
            "text/plain": [
              "0.8227009477009477"
            ]
          },
          "metadata": {},
          "execution_count": 22
        }
      ]
    },
    {
      "cell_type": "code",
      "source": [
        "y_pred = model.predict(X_test)"
      ],
      "metadata": {
        "id": "pkemrxilXl3w"
      },
      "execution_count": 23,
      "outputs": []
    },
    {
      "cell_type": "code",
      "source": [
        "model.score(X_test,y_test)"
      ],
      "metadata": {
        "colab": {
          "base_uri": "https://localhost:8080/",
          "height": 0
        },
        "id": "kVQukfr7Xn2B",
        "outputId": "a5741606-0bf7-46f7-f34a-1c2161216353"
      },
      "execution_count": 24,
      "outputs": [
        {
          "output_type": "execute_result",
          "data": {
            "text/plain": [
              "0.8162366912366913"
            ]
          },
          "metadata": {},
          "execution_count": 24
        }
      ]
    },
    {
      "cell_type": "code",
      "source": [
        "import matplotlib.pyplot as plt\n",
        "\n",
        "plt.figure(figsize=(20,20))\n",
        "\n",
        "from sklearn import tree\n",
        "\n",
        "tree.plot_tree(model.fit(X_train, y_train)) "
      ],
      "metadata": {
        "colab": {
          "base_uri": "https://localhost:8080/",
          "height": 3877
        },
        "id": "oKwFV0h0XvyM",
        "outputId": "32e562b3-f265-4787-9153-07a8808f9c36"
      },
      "execution_count": 25,
      "outputs": [
        {
          "output_type": "execute_result",
          "data": {
            "text/plain": [
              "[Text(0.425, 0.9615384615384616, 'X[1] <= 0.5\\nentropy = 0.795\\nsamples = 22792\\nvalue = [17324, 5468]'),\n",
              " Text(0.14054054054054055, 0.8846153846153846, 'X[0] <= 12.5\\nentropy = 0.993\\nsamples = 9248\\nvalue = [5083, 4165]'),\n",
              " Text(0.0972972972972973, 0.8076923076923077, 'X[0] <= 7.5\\nentropy = 0.916\\nsamples = 6477\\nvalue = [4335, 2142]'),\n",
              " Text(0.05405405405405406, 0.7307692307692307, 'X[0] <= 5.5\\nentropy = 0.52\\nsamples = 976\\nvalue = [862, 114]'),\n",
              " Text(0.032432432432432434, 0.6538461538461539, 'X[0] <= 1.5\\nentropy = 0.428\\nsamples = 538\\nvalue = [491, 47]'),\n",
              " Text(0.021621621621621623, 0.5769230769230769, 'entropy = 0.0\\nsamples = 7\\nvalue = [7, 0]'),\n",
              " Text(0.043243243243243246, 0.5769230769230769, 'X[0] <= 4.5\\nentropy = 0.431\\nsamples = 531\\nvalue = [484, 47]'),\n",
              " Text(0.032432432432432434, 0.5, 'X[0] <= 3.5\\nentropy = 0.454\\nsamples = 378\\nvalue = [342, 36]'),\n",
              " Text(0.021621621621621623, 0.4230769230769231, 'X[0] <= 2.5\\nentropy = 0.421\\nsamples = 152\\nvalue = [139, 13]'),\n",
              " Text(0.010810810810810811, 0.34615384615384615, 'entropy = 0.414\\nsamples = 48\\nvalue = [44, 4]'),\n",
              " Text(0.032432432432432434, 0.34615384615384615, 'entropy = 0.425\\nsamples = 104\\nvalue = [95, 9]'),\n",
              " Text(0.043243243243243246, 0.4230769230769231, 'entropy = 0.475\\nsamples = 226\\nvalue = [203, 23]'),\n",
              " Text(0.05405405405405406, 0.5, 'entropy = 0.373\\nsamples = 153\\nvalue = [142, 11]'),\n",
              " Text(0.07567567567567568, 0.6538461538461539, 'X[0] <= 6.5\\nentropy = 0.617\\nsamples = 438\\nvalue = [371, 67]'),\n",
              " Text(0.06486486486486487, 0.5769230769230769, 'entropy = 0.646\\nsamples = 218\\nvalue = [182, 36]'),\n",
              " Text(0.08648648648648649, 0.5769230769230769, 'entropy = 0.587\\nsamples = 220\\nvalue = [189, 31]'),\n",
              " Text(0.14054054054054055, 0.7307692307692307, 'X[0] <= 9.5\\nentropy = 0.95\\nsamples = 5501\\nvalue = [3473, 2028]'),\n",
              " Text(0.11891891891891893, 0.6538461538461539, 'X[0] <= 8.5\\nentropy = 0.891\\nsamples = 3062\\nvalue = [2119, 943]'),\n",
              " Text(0.10810810810810811, 0.5769230769230769, 'entropy = 0.86\\nsamples = 67\\nvalue = [48, 19]'),\n",
              " Text(0.12972972972972974, 0.5769230769230769, 'entropy = 0.891\\nsamples = 2995\\nvalue = [2071, 924]'),\n",
              " Text(0.16216216216216217, 0.6538461538461539, 'X[0] <= 11.5\\nentropy = 0.991\\nsamples = 2439\\nvalue = [1354, 1085]'),\n",
              " Text(0.15135135135135136, 0.5769230769230769, 'X[0] <= 10.5\\nentropy = 0.989\\nsamples = 2167\\nvalue = [1217, 950]'),\n",
              " Text(0.14054054054054055, 0.5, 'entropy = 0.988\\nsamples = 1741\\nvalue = [984, 757]'),\n",
              " Text(0.16216216216216217, 0.5, 'entropy = 0.994\\nsamples = 426\\nvalue = [233, 193]'),\n",
              " Text(0.17297297297297298, 0.5769230769230769, 'entropy = 1.0\\nsamples = 272\\nvalue = [137, 135]'),\n",
              " Text(0.1837837837837838, 0.8076923076923077, 'X[0] <= 13.5\\nentropy = 0.841\\nsamples = 2771\\nvalue = [748, 2023]'),\n",
              " Text(0.17297297297297298, 0.7307692307692307, 'entropy = 0.899\\nsamples = 1712\\nvalue = [540, 1172]'),\n",
              " Text(0.1945945945945946, 0.7307692307692307, 'X[0] <= 14.5\\nentropy = 0.715\\nsamples = 1059\\nvalue = [208, 851]'),\n",
              " Text(0.1837837837837838, 0.6538461538461539, 'entropy = 0.759\\nsamples = 611\\nvalue = [134, 477]'),\n",
              " Text(0.20540540540540542, 0.6538461538461539, 'X[0] <= 15.5\\nentropy = 0.647\\nsamples = 448\\nvalue = [74, 374]'),\n",
              " Text(0.1945945945945946, 0.5769230769230769, 'entropy = 0.629\\nsamples = 260\\nvalue = [41, 219]'),\n",
              " Text(0.21621621621621623, 0.5769230769230769, 'entropy = 0.67\\nsamples = 188\\nvalue = [33, 155]'),\n",
              " Text(0.7094594594594594, 0.8846153846153846, 'X[1] <= 4.5\\nentropy = 0.457\\nsamples = 13544\\nvalue = [12241, 1303]'),\n",
              " Text(0.5216216216216216, 0.8076923076923077, 'X[0] <= 12.5\\nentropy = 0.346\\nsamples = 12480\\nvalue = [11672, 808]'),\n",
              " Text(0.36486486486486486, 0.7307692307692307, 'X[1] <= 1.5\\nentropy = 0.21\\nsamples = 9994\\nvalue = [9662, 332]'),\n",
              " Text(0.26756756756756755, 0.6538461538461539, 'X[0] <= 9.5\\nentropy = 0.303\\nsamples = 4161\\nvalue = [3936, 225]'),\n",
              " Text(0.23783783783783785, 0.5769230769230769, 'X[0] <= 3.5\\nentropy = 0.253\\nsamples = 2405\\nvalue = [2303, 102]'),\n",
              " Text(0.22702702702702704, 0.5, 'entropy = 0.0\\nsamples = 95\\nvalue = [95, 0]'),\n",
              " Text(0.24864864864864866, 0.5, 'X[0] <= 7.5\\nentropy = 0.261\\nsamples = 2310\\nvalue = [2208, 102]'),\n",
              " Text(0.22162162162162163, 0.4230769230769231, 'X[0] <= 5.5\\nentropy = 0.206\\nsamples = 465\\nvalue = [450, 15]'),\n",
              " Text(0.2, 0.34615384615384615, 'X[0] <= 4.5\\nentropy = 0.262\\nsamples = 180\\nvalue = [172, 8]'),\n",
              " Text(0.1891891891891892, 0.2692307692307692, 'entropy = 0.289\\nsamples = 99\\nvalue = [94, 5]'),\n",
              " Text(0.21081081081081082, 0.2692307692307692, 'entropy = 0.229\\nsamples = 81\\nvalue = [78, 3]'),\n",
              " Text(0.24324324324324326, 0.34615384615384615, 'X[0] <= 6.5\\nentropy = 0.166\\nsamples = 285\\nvalue = [278, 7]'),\n",
              " Text(0.23243243243243245, 0.2692307692307692, 'entropy = 0.104\\nsamples = 146\\nvalue = [144, 2]'),\n",
              " Text(0.25405405405405407, 0.2692307692307692, 'entropy = 0.224\\nsamples = 139\\nvalue = [134, 5]'),\n",
              " Text(0.2756756756756757, 0.4230769230769231, 'X[0] <= 8.5\\nentropy = 0.274\\nsamples = 1845\\nvalue = [1758, 87]'),\n",
              " Text(0.2648648648648649, 0.34615384615384615, 'entropy = 0.27\\nsamples = 65\\nvalue = [62, 3]'),\n",
              " Text(0.2864864864864865, 0.34615384615384615, 'entropy = 0.274\\nsamples = 1780\\nvalue = [1696, 84]'),\n",
              " Text(0.2972972972972973, 0.5769230769230769, 'X[0] <= 10.5\\nentropy = 0.366\\nsamples = 1756\\nvalue = [1633, 123]'),\n",
              " Text(0.2864864864864865, 0.5, 'entropy = 0.346\\nsamples = 1265\\nvalue = [1183, 82]'),\n",
              " Text(0.3081081081081081, 0.5, 'X[0] <= 11.5\\nentropy = 0.414\\nsamples = 491\\nvalue = [450, 41]'),\n",
              " Text(0.2972972972972973, 0.4230769230769231, 'entropy = 0.403\\nsamples = 249\\nvalue = [229, 20]'),\n",
              " Text(0.31891891891891894, 0.4230769230769231, 'entropy = 0.426\\nsamples = 242\\nvalue = [221, 21]'),\n",
              " Text(0.46216216216216216, 0.6538461538461539, 'X[1] <= 3.5\\nentropy = 0.132\\nsamples = 5833\\nvalue = [5726, 107]'),\n",
              " Text(0.3945945945945946, 0.5769230769230769, 'X[1] <= 2.5\\nentropy = 0.079\\nsamples = 3796\\nvalue = [3759, 37]'),\n",
              " Text(0.35135135135135137, 0.5, 'X[0] <= 7.5\\nentropy = 0.159\\nsamples = 606\\nvalue = [592, 14]'),\n",
              " Text(0.34054054054054056, 0.4230769230769231, 'entropy = 0.0\\nsamples = 161\\nvalue = [161, 0]'),\n",
              " Text(0.3621621621621622, 0.4230769230769231, 'X[0] <= 10.5\\nentropy = 0.202\\nsamples = 445\\nvalue = [431, 14]'),\n",
              " Text(0.34054054054054056, 0.34615384615384615, 'X[0] <= 8.5\\nentropy = 0.189\\nsamples = 416\\nvalue = [404, 12]'),\n",
              " Text(0.32972972972972975, 0.2692307692307692, 'entropy = 0.337\\nsamples = 16\\nvalue = [15, 1]'),\n",
              " Text(0.35135135135135137, 0.2692307692307692, 'X[0] <= 9.5\\nentropy = 0.182\\nsamples = 400\\nvalue = [389, 11]'),\n",
              " Text(0.34054054054054056, 0.19230769230769232, 'entropy = 0.16\\nsamples = 256\\nvalue = [250, 6]'),\n",
              " Text(0.3621621621621622, 0.19230769230769232, 'entropy = 0.218\\nsamples = 144\\nvalue = [139, 5]'),\n",
              " Text(0.3837837837837838, 0.34615384615384615, 'X[0] <= 11.5\\nentropy = 0.362\\nsamples = 29\\nvalue = [27, 2]'),\n",
              " Text(0.372972972972973, 0.2692307692307692, 'entropy = 0.31\\nsamples = 18\\nvalue = [17, 1]'),\n",
              " Text(0.3945945945945946, 0.2692307692307692, 'entropy = 0.439\\nsamples = 11\\nvalue = [10, 1]'),\n",
              " Text(0.43783783783783786, 0.5, 'X[0] <= 10.5\\nentropy = 0.062\\nsamples = 3190\\nvalue = [3167, 23]'),\n",
              " Text(0.41621621621621624, 0.4230769230769231, 'X[0] <= 4.5\\nentropy = 0.058\\nsamples = 3003\\nvalue = [2983, 20]'),\n",
              " Text(0.40540540540540543, 0.34615384615384615, 'entropy = 0.0\\nsamples = 58\\nvalue = [58, 0]'),\n",
              " Text(0.42702702702702705, 0.34615384615384615, 'X[0] <= 5.5\\nentropy = 0.059\\nsamples = 2945\\nvalue = [2925, 20]'),\n",
              " Text(0.41621621621621624, 0.2692307692307692, 'entropy = 0.127\\nsamples = 57\\nvalue = [56, 1]'),\n",
              " Text(0.43783783783783786, 0.2692307692307692, 'X[0] <= 8.5\\nentropy = 0.057\\nsamples = 2888\\nvalue = [2869, 19]'),\n",
              " Text(0.41621621621621624, 0.19230769230769232, 'X[0] <= 7.5\\nentropy = 0.046\\nsamples = 587\\nvalue = [584, 3]'),\n",
              " Text(0.40540540540540543, 0.11538461538461539, 'X[0] <= 6.5\\nentropy = 0.055\\nsamples = 478\\nvalue = [475, 3]'),\n",
              " Text(0.3945945945945946, 0.038461538461538464, 'entropy = 0.053\\nsamples = 166\\nvalue = [165, 1]'),\n",
              " Text(0.41621621621621624, 0.038461538461538464, 'entropy = 0.056\\nsamples = 312\\nvalue = [310, 2]'),\n",
              " Text(0.42702702702702705, 0.11538461538461539, 'entropy = 0.0\\nsamples = 109\\nvalue = [109, 0]'),\n",
              " Text(0.4594594594594595, 0.19230769230769232, 'X[0] <= 9.5\\nentropy = 0.06\\nsamples = 2301\\nvalue = [2285, 16]'),\n",
              " Text(0.4486486486486487, 0.11538461538461539, 'entropy = 0.056\\nsamples = 1082\\nvalue = [1075, 7]'),\n",
              " Text(0.4702702702702703, 0.11538461538461539, 'entropy = 0.063\\nsamples = 1219\\nvalue = [1210, 9]'),\n",
              " Text(0.4594594594594595, 0.4230769230769231, 'X[0] <= 11.5\\nentropy = 0.119\\nsamples = 187\\nvalue = [184, 3]'),\n",
              " Text(0.4486486486486487, 0.34615384615384615, 'entropy = 0.197\\nsamples = 98\\nvalue = [95, 3]'),\n",
              " Text(0.4702702702702703, 0.34615384615384615, 'entropy = 0.0\\nsamples = 89\\nvalue = [89, 0]'),\n",
              " Text(0.5297297297297298, 0.5769230769230769, 'X[0] <= 9.5\\nentropy = 0.216\\nsamples = 2037\\nvalue = [1967, 70]'),\n",
              " Text(0.5027027027027027, 0.5, 'X[0] <= 4.5\\nentropy = 0.163\\nsamples = 1250\\nvalue = [1220, 30]'),\n",
              " Text(0.4918918918918919, 0.4230769230769231, 'entropy = 0.0\\nsamples = 102\\nvalue = [102, 0]'),\n",
              " Text(0.5135135135135135, 0.4230769230769231, 'X[0] <= 7.5\\nentropy = 0.175\\nsamples = 1148\\nvalue = [1118, 30]'),\n",
              " Text(0.4918918918918919, 0.34615384615384615, 'X[0] <= 5.5\\nentropy = 0.253\\nsamples = 236\\nvalue = [226, 10]'),\n",
              " Text(0.4810810810810811, 0.2692307692307692, 'entropy = 0.342\\nsamples = 47\\nvalue = [44, 3]'),\n",
              " Text(0.5027027027027027, 0.2692307692307692, 'X[0] <= 6.5\\nentropy = 0.229\\nsamples = 189\\nvalue = [182, 7]'),\n",
              " Text(0.4918918918918919, 0.19230769230769232, 'entropy = 0.224\\nsamples = 83\\nvalue = [80, 3]'),\n",
              " Text(0.5135135135135135, 0.19230769230769232, 'entropy = 0.232\\nsamples = 106\\nvalue = [102, 4]'),\n",
              " Text(0.5351351351351351, 0.34615384615384615, 'X[0] <= 8.5\\nentropy = 0.152\\nsamples = 912\\nvalue = [892, 20]'),\n",
              " Text(0.5243243243243243, 0.2692307692307692, 'entropy = 0.0\\nsamples = 22\\nvalue = [22, 0]'),\n",
              " Text(0.5459459459459459, 0.2692307692307692, 'entropy = 0.155\\nsamples = 890\\nvalue = [870, 20]'),\n",
              " Text(0.5567567567567567, 0.5, 'X[0] <= 10.5\\nentropy = 0.29\\nsamples = 787\\nvalue = [747, 40]'),\n",
              " Text(0.5459459459459459, 0.4230769230769231, 'entropy = 0.272\\nsamples = 556\\nvalue = [530, 26]'),\n",
              " Text(0.5675675675675675, 0.4230769230769231, 'X[0] <= 11.5\\nentropy = 0.33\\nsamples = 231\\nvalue = [217, 14]'),\n",
              " Text(0.5567567567567567, 0.34615384615384615, 'entropy = 0.328\\nsamples = 133\\nvalue = [125, 8]'),\n",
              " Text(0.5783783783783784, 0.34615384615384615, 'entropy = 0.332\\nsamples = 98\\nvalue = [92, 6]'),\n",
              " Text(0.6783783783783783, 0.7307692307692307, 'X[0] <= 14.5\\nentropy = 0.705\\nsamples = 2486\\nvalue = [2010, 476]'),\n",
              " Text(0.6324324324324324, 0.6538461538461539, 'X[0] <= 13.5\\nentropy = 0.648\\nsamples = 2297\\nvalue = [1916, 381]'),\n",
              " Text(0.6108108108108108, 0.5769230769230769, 'X[1] <= 1.5\\nentropy = 0.585\\nsamples = 1788\\nvalue = [1537, 251]'),\n",
              " Text(0.6, 0.5, 'entropy = 0.648\\nsamples = 1134\\nvalue = [946, 188]'),\n",
              " Text(0.6216216216216216, 0.5, 'X[1] <= 3.5\\nentropy = 0.457\\nsamples = 654\\nvalue = [591, 63]'),\n",
              " Text(0.6108108108108108, 0.4230769230769231, 'X[1] <= 2.5\\nentropy = 0.307\\nsamples = 419\\nvalue = [396, 23]'),\n",
              " Text(0.6, 0.34615384615384615, 'entropy = 0.219\\nsamples = 57\\nvalue = [55, 2]'),\n",
              " Text(0.6216216216216216, 0.34615384615384615, 'entropy = 0.319\\nsamples = 362\\nvalue = [341, 21]'),\n",
              " Text(0.6324324324324324, 0.4230769230769231, 'entropy = 0.658\\nsamples = 235\\nvalue = [195, 40]'),\n",
              " Text(0.654054054054054, 0.5769230769230769, 'X[1] <= 1.5\\nentropy = 0.82\\nsamples = 509\\nvalue = [379, 130]'),\n",
              " Text(0.6432432432432432, 0.5, 'entropy = 0.835\\nsamples = 369\\nvalue = [271, 98]'),\n",
              " Text(0.6648648648648648, 0.5, 'X[1] <= 3.5\\nentropy = 0.776\\nsamples = 140\\nvalue = [108, 32]'),\n",
              " Text(0.654054054054054, 0.4230769230769231, 'X[1] <= 2.5\\nentropy = 0.535\\nsamples = 41\\nvalue = [36, 5]'),\n",
              " Text(0.6432432432432432, 0.34615384615384615, 'entropy = 0.65\\nsamples = 6\\nvalue = [5, 1]'),\n",
              " Text(0.6648648648648648, 0.34615384615384615, 'entropy = 0.513\\nsamples = 35\\nvalue = [31, 4]'),\n",
              " Text(0.6756756756756757, 0.4230769230769231, 'entropy = 0.845\\nsamples = 99\\nvalue = [72, 27]'),\n",
              " Text(0.7243243243243244, 0.6538461538461539, 'X[1] <= 1.5\\nentropy = 1.0\\nsamples = 189\\nvalue = [94, 95]'),\n",
              " Text(0.6972972972972973, 0.5769230769230769, 'X[0] <= 15.5\\nentropy = 0.998\\nsamples = 143\\nvalue = [68, 75]'),\n",
              " Text(0.6864864864864865, 0.5, 'entropy = 1.0\\nsamples = 81\\nvalue = [41, 40]'),\n",
              " Text(0.7081081081081081, 0.5, 'entropy = 0.988\\nsamples = 62\\nvalue = [27, 35]'),\n",
              " Text(0.7513513513513513, 0.5769230769230769, 'X[1] <= 3.5\\nentropy = 0.988\\nsamples = 46\\nvalue = [26, 20]'),\n",
              " Text(0.7297297297297297, 0.5, 'X[1] <= 2.5\\nentropy = 0.592\\nsamples = 14\\nvalue = [12, 2]'),\n",
              " Text(0.7189189189189189, 0.4230769230769231, 'entropy = 0.0\\nsamples = 3\\nvalue = [3, 0]'),\n",
              " Text(0.7405405405405405, 0.4230769230769231, 'X[0] <= 15.5\\nentropy = 0.684\\nsamples = 11\\nvalue = [9, 2]'),\n",
              " Text(0.7297297297297297, 0.34615384615384615, 'entropy = 0.722\\nsamples = 5\\nvalue = [4, 1]'),\n",
              " Text(0.7513513513513513, 0.34615384615384615, 'entropy = 0.65\\nsamples = 6\\nvalue = [5, 1]'),\n",
              " Text(0.772972972972973, 0.5, 'X[0] <= 15.5\\nentropy = 0.989\\nsamples = 32\\nvalue = [14, 18]'),\n",
              " Text(0.7621621621621621, 0.4230769230769231, 'entropy = 1.0\\nsamples = 16\\nvalue = [8, 8]'),\n",
              " Text(0.7837837837837838, 0.4230769230769231, 'entropy = 0.954\\nsamples = 16\\nvalue = [6, 10]'),\n",
              " Text(0.8972972972972973, 0.8076923076923077, 'X[0] <= 10.5\\nentropy = 0.997\\nsamples = 1064\\nvalue = [569, 495]'),\n",
              " Text(0.8486486486486486, 0.7307692307692307, 'X[0] <= 7.5\\nentropy = 0.924\\nsamples = 657\\nvalue = [434, 223]'),\n",
              " Text(0.8162162162162162, 0.6538461538461539, 'X[0] <= 2.5\\nentropy = 0.414\\nsamples = 72\\nvalue = [66, 6]'),\n",
              " Text(0.8054054054054054, 0.5769230769230769, 'entropy = 0.0\\nsamples = 5\\nvalue = [5, 0]'),\n",
              " Text(0.827027027027027, 0.5769230769230769, 'X[0] <= 6.5\\nentropy = 0.435\\nsamples = 67\\nvalue = [61, 6]'),\n",
              " Text(0.8162162162162162, 0.5, 'X[0] <= 3.5\\nentropy = 0.489\\nsamples = 47\\nvalue = [42, 5]'),\n",
              " Text(0.8054054054054054, 0.4230769230769231, 'entropy = 0.592\\nsamples = 7\\nvalue = [6, 1]'),\n",
              " Text(0.827027027027027, 0.4230769230769231, 'X[0] <= 5.5\\nentropy = 0.469\\nsamples = 40\\nvalue = [36, 4]'),\n",
              " Text(0.8162162162162162, 0.34615384615384615, 'X[0] <= 4.5\\nentropy = 0.426\\nsamples = 23\\nvalue = [21, 2]'),\n",
              " Text(0.8054054054054054, 0.2692307692307692, 'entropy = 0.414\\nsamples = 12\\nvalue = [11, 1]'),\n",
              " Text(0.827027027027027, 0.2692307692307692, 'entropy = 0.439\\nsamples = 11\\nvalue = [10, 1]'),\n",
              " Text(0.8378378378378378, 0.34615384615384615, 'entropy = 0.523\\nsamples = 17\\nvalue = [15, 2]'),\n",
              " Text(0.8378378378378378, 0.5, 'entropy = 0.286\\nsamples = 20\\nvalue = [19, 1]'),\n",
              " Text(0.8810810810810811, 0.6538461538461539, 'X[0] <= 9.5\\nentropy = 0.951\\nsamples = 585\\nvalue = [368, 217]'),\n",
              " Text(0.8702702702702703, 0.5769230769230769, 'X[0] <= 8.5\\nentropy = 0.925\\nsamples = 364\\nvalue = [240, 124]'),\n",
              " Text(0.8594594594594595, 0.5, 'entropy = 0.75\\nsamples = 14\\nvalue = [11, 3]'),\n",
              " Text(0.8810810810810811, 0.5, 'entropy = 0.93\\nsamples = 350\\nvalue = [229, 121]'),\n",
              " Text(0.8918918918918919, 0.5769230769230769, 'entropy = 0.982\\nsamples = 221\\nvalue = [128, 93]'),\n",
              " Text(0.9459459459459459, 0.7307692307692307, 'X[0] <= 13.5\\nentropy = 0.917\\nsamples = 407\\nvalue = [135, 272]'),\n",
              " Text(0.9243243243243243, 0.6538461538461539, 'X[0] <= 12.5\\nentropy = 0.958\\nsamples = 308\\nvalue = [117, 191]'),\n",
              " Text(0.9135135135135135, 0.5769230769230769, 'X[0] <= 11.5\\nentropy = 0.998\\nsamples = 104\\nvalue = [49, 55]'),\n",
              " Text(0.9027027027027027, 0.5, 'entropy = 0.981\\nsamples = 55\\nvalue = [23, 32]'),\n",
              " Text(0.9243243243243243, 0.5, 'entropy = 0.997\\nsamples = 49\\nvalue = [26, 23]'),\n",
              " Text(0.9351351351351351, 0.5769230769230769, 'entropy = 0.918\\nsamples = 204\\nvalue = [68, 136]'),\n",
              " Text(0.9675675675675676, 0.6538461538461539, 'X[0] <= 14.5\\nentropy = 0.684\\nsamples = 99\\nvalue = [18, 81]'),\n",
              " Text(0.9567567567567568, 0.5769230769230769, 'entropy = 0.77\\nsamples = 71\\nvalue = [16, 55]'),\n",
              " Text(0.9783783783783784, 0.5769230769230769, 'X[0] <= 15.5\\nentropy = 0.371\\nsamples = 28\\nvalue = [2, 26]'),\n",
              " Text(0.9675675675675676, 0.5, 'entropy = 0.337\\nsamples = 16\\nvalue = [1, 15]'),\n",
              " Text(0.9891891891891892, 0.5, 'entropy = 0.414\\nsamples = 12\\nvalue = [1, 11]')]"
            ]
          },
          "metadata": {},
          "execution_count": 25
        },
        {
          "output_type": "display_data",
          "data": {
            "text/plain": [
              "<Figure size 1440x1440 with 1 Axes>"
            ],
            "image/png": "[encoded data removed]"
          },
          "metadata": {
            "needs_background": "light"
          }
        }
      ]
    },
    {
      "cell_type": "code",
      "source": [
        "from sklearn.metrics import confusion_matrix\n",
        "\n",
        "cf=confusion_matrix(y_test, y_pred, labels = [1,0])"
      ],
      "metadata": {
        "id": "H2d4VAs5YT95"
      },
      "execution_count": 26,
      "outputs": []
    },
    {
      "cell_type": "code",
      "source": [
        "sns.heatmap(cf,annot=True)"
      ],
      "metadata": {
        "colab": {
          "base_uri": "https://localhost:8080/",
          "height": 282
        },
        "id": "D1nGlfuiaqmw",
        "outputId": "c3693bad-2e37-4b88-fa0e-da56eda0c771"
      },
      "execution_count": 27,
      "outputs": [
        {
          "output_type": "execute_result",
          "data": {
            "text/plain": [
              "<matplotlib.axes._subplots.AxesSubplot at 0x7fc3def1dfd0>"
            ]
          },
          "metadata": {},
          "execution_count": 27
        },
        {
          "output_type": "display_data",
          "data": {
            "text/plain": [
              "<Figure size 432x288 with 2 Axes>"
            ],
            "image/png": "[encoded data removed]"
          },
          "metadata": {
            "needs_background": "light"
          }
        }
      ]
    },
    {
      "cell_type": "code",
      "source": [
        "from sklearn.metrics import classification_report\n",
        "\n",
        "print(classification_report(y_test, y_pred))"
      ],
      "metadata": {
        "colab": {
          "base_uri": "https://localhost:8080/",
          "height": 0
        },
        "id": "HydCwVc-ZVTF",
        "outputId": "cb24c5f6-e83f-497a-c1fe-612b40556557"
      },
      "execution_count": 28,
      "outputs": [
        {
          "output_type": "stream",
          "name": "stdout",
          "text": [
            "              precision    recall  f1-score   support\n",
            "\n",
            "           0       0.84      0.94      0.89      7395\n",
            "           1       0.70      0.42      0.53      2373\n",
            "\n",
            "    accuracy                           0.82      9768\n",
            "   macro avg       0.77      0.68      0.71      9768\n",
            "weighted avg       0.80      0.82      0.80      9768\n",
            "\n"
          ]
        }
      ]
    },
    {
      "cell_type": "markdown",
      "source": [
        "b. RANDOM-FOREST CLASSIFIER"
      ],
      "metadata": {
        "id": "2jivIZaToYYP"
      }
    },
    {
      "cell_type": "code",
      "source": [
        "from sklearn.ensemble import RandomForestClassifier\n",
        "classifier_rf = RandomForestClassifier(random_state=42, n_jobs=-1, max_depth=5, n_estimators=100, oob_score=True)"
      ],
      "metadata": {
        "id": "BlwgANiJLI8X"
      },
      "execution_count": 29,
      "outputs": []
    },
    {
      "cell_type": "code",
      "source": [
        "classifier_rf.fit(X_train, y_train)"
      ],
      "metadata": {
        "colab": {
          "base_uri": "https://localhost:8080/",
          "height": 0
        },
        "id": "OjyVnfCqMsuE",
        "outputId": "f7335801-21c6-4836-c89d-24e7e05e70d9"
      },
      "execution_count": 30,
      "outputs": [
        {
          "output_type": "execute_result",
          "data": {
            "text/plain": [
              "RandomForestClassifier(max_depth=5, n_jobs=-1, oob_score=True, random_state=42)"
            ]
          },
          "metadata": {},
          "execution_count": 30
        }
      ]
    },
    {
      "cell_type": "code",
      "source": [
        "classifier_rf.oob_score_"
      ],
      "metadata": {
        "colab": {
          "base_uri": "https://localhost:8080/",
          "height": 0
        },
        "id": "8uiP8wgqMyv1",
        "outputId": "fc6084d7-821e-4a7e-fbe3-7e023369b7fb"
      },
      "execution_count": 31,
      "outputs": [
        {
          "output_type": "execute_result",
          "data": {
            "text/plain": [
              "0.819980694980695"
            ]
          },
          "metadata": {},
          "execution_count": 31
        }
      ]
    },
    {
      "cell_type": "code",
      "source": [
        "classifier_rf.score(X_test, y_test)"
      ],
      "metadata": {
        "colab": {
          "base_uri": "https://localhost:8080/",
          "height": 0
        },
        "id": "kx9kW9ErM1c5",
        "outputId": "10ec1cec-d6b2-47ed-a308-17f1d4e07165"
      },
      "execution_count": 32,
      "outputs": [
        {
          "output_type": "execute_result",
          "data": {
            "text/plain": [
              "0.8158271908271908"
            ]
          },
          "metadata": {},
          "execution_count": 32
        }
      ]
    },
    {
      "cell_type": "code",
      "source": [
        "rf = RandomForestClassifier(random_state=42, n_jobs=-1)"
      ],
      "metadata": {
        "id": "-nWbERzRM3nl"
      },
      "execution_count": 33,
      "outputs": []
    },
    {
      "cell_type": "code",
      "source": [
        "params = {\n",
        "    'max_depth': [2,3,5,10,20],\n",
        "    'min_samples_leaf': [5,10,20,50,100,200],\n",
        "    'n_estimators': [10,25,30,50,100,200]\n",
        "}"
      ],
      "metadata": {
        "id": "OpvJYYb8M57t"
      },
      "execution_count": 34,
      "outputs": []
    },
    {
      "cell_type": "code",
      "source": [
        "from sklearn.model_selection import GridSearchCV"
      ],
      "metadata": {
        "id": "JbEt2DOSM71C"
      },
      "execution_count": 35,
      "outputs": []
    },
    {
      "cell_type": "code",
      "source": [
        "grid_search = GridSearchCV(estimator=rf, param_grid=params, cv = 4, n_jobs=-1, verbose=1, scoring=\"accuracy\")"
      ],
      "metadata": {
        "id": "n1Z8L-JhM9we"
      },
      "execution_count": 36,
      "outputs": []
    },
    {
      "cell_type": "code",
      "source": [
        "grid_search.fit(X_train, y_train)"
      ],
      "metadata": {
        "colab": {
          "base_uri": "https://localhost:8080/",
          "height": 0
        },
        "id": "_-b6jcvLNAWh",
        "outputId": "f529231b-4872-47f4-c3f3-16a4da476a82"
      },
      "execution_count": 38,
      "outputs": [
        {
          "output_type": "stream",
          "name": "stdout",
          "text": [
            "Fitting 4 folds for each of 180 candidates, totalling 720 fits\n"
          ]
        },
        {
          "output_type": "execute_result",
          "data": {
            "text/plain": [
              "GridSearchCV(cv=4, estimator=RandomForestClassifier(n_jobs=-1, random_state=42),\n",
              "             n_jobs=-1,\n",
              "             param_grid={'max_depth': [2, 3, 5, 10, 20],\n",
              "                         'min_samples_leaf': [5, 10, 20, 50, 100, 200],\n",
              "                         'n_estimators': [10, 25, 30, 50, 100, 200]},\n",
              "             scoring='accuracy', verbose=1)"
            ]
          },
          "metadata": {},
          "execution_count": 38
        }
      ]
    },
    {
      "cell_type": "code",
      "source": [
        "grid_search.best_score_"
      ],
      "metadata": {
        "colab": {
          "base_uri": "https://localhost:8080/",
          "height": 0
        },
        "id": "Mmz3wPs1NDY_",
        "outputId": "60883bbf-b4ff-4482-f658-49f97d6ce777"
      },
      "execution_count": 39,
      "outputs": [
        {
          "output_type": "execute_result",
          "data": {
            "text/plain": [
              "0.821911196911197"
            ]
          },
          "metadata": {},
          "execution_count": 39
        }
      ]
    },
    {
      "cell_type": "code",
      "source": [
        "rf_best = grid_search.best_estimator_\n",
        "rf_best"
      ],
      "metadata": {
        "colab": {
          "base_uri": "https://localhost:8080/",
          "height": 0
        },
        "id": "JoByyQBuNKC4",
        "outputId": "0519a3ac-fa7c-4222-b398-cd6a99226895"
      },
      "execution_count": 40,
      "outputs": [
        {
          "output_type": "execute_result",
          "data": {
            "text/plain": [
              "RandomForestClassifier(max_depth=10, min_samples_leaf=10, n_estimators=50,\n",
              "                       n_jobs=-1, random_state=42)"
            ]
          },
          "metadata": {},
          "execution_count": 40
        }
      ]
    },
    {
      "cell_type": "code",
      "source": [
        "rf_best.feature_importances_"
      ],
      "metadata": {
        "colab": {
          "base_uri": "https://localhost:8080/",
          "height": 0
        },
        "id": "bkKa2i8HN1ep",
        "outputId": "d414efa6-2432-442d-bcf2-601809c7ea14"
      },
      "execution_count": 41,
      "outputs": [
        {
          "output_type": "execute_result",
          "data": {
            "text/plain": [
              "array([0.40102007, 0.59897993])"
            ]
          },
          "metadata": {},
          "execution_count": 41
        }
      ]
    },
    {
      "cell_type": "code",
      "source": [
        "\n",
        "from sklearn.metrics import confusion_matrix\n",
        "\n",
        "y_pred = rf_best.predict(X_test)\n",
        "\n",
        "cm = confusion_matrix(y_test, y_pred)\n",
        "cm"
      ],
      "metadata": {
        "colab": {
          "base_uri": "https://localhost:8080/",
          "height": 0
        },
        "id": "JubN63w7ODYq",
        "outputId": "67f25703-ac08-4e15-862c-4bce8f671b24"
      },
      "execution_count": 42,
      "outputs": [
        {
          "output_type": "execute_result",
          "data": {
            "text/plain": [
              "array([[6971,  424],\n",
              "       [1371, 1002]])"
            ]
          },
          "metadata": {},
          "execution_count": 42
        }
      ]
    },
    {
      "cell_type": "code",
      "source": [
        "plt.figure(figsize=(10,7))\n",
        "sns.heatmap(cm, annot=True)\n",
        "plt.xlabel('Predicted')\n",
        "plt.ylabel('Truth')"
      ],
      "metadata": {
        "colab": {
          "base_uri": "https://localhost:8080/",
          "height": 459
        },
        "id": "KWA_AkeVOFpc",
        "outputId": "825cff68-f9e2-4476-ee26-d5ac95471322"
      },
      "execution_count": 43,
      "outputs": [
        {
          "output_type": "execute_result",
          "data": {
            "text/plain": [
              "Text(69.0, 0.5, 'Truth')"
            ]
          },
          "metadata": {},
          "execution_count": 43
        },
        {
          "output_type": "display_data",
          "data": {
            "text/plain": [
              "<Figure size 720x504 with 2 Axes>"
            ],
            "image/png": "[encoded data removed]"
          },
          "metadata": {
            "needs_background": "light"
          }
        }
      ]
    },
    {
      "cell_type": "code",
      "source": [
        "from scipy.stats import randint\n",
        "\n",
        "rs_space={'max_depth':list(np.arange(10, 100, step=10)) + [None],\n",
        "              'n_estimators':np.arange(10, 500, step=50),\n",
        "              'max_features':randint(1,7),\n",
        "              'criterion':['gini','entropy'],\n",
        "              'min_samples_leaf':randint(1,4),\n",
        "              'min_samples_split':np.arange(2, 10, step=2)\n",
        "         }\n",
        "         "
      ],
      "metadata": {
        "id": "sOR7mPwvOR4i"
      },
      "execution_count": 44,
      "outputs": []
    },
    {
      "cell_type": "code",
      "source": [
        "from sklearn.model_selection import RandomizedSearchCV\n",
        "rf = RandomForestClassifier(random_state=42, n_jobs=-1)\n",
        "rf_random = RandomizedSearchCV(rf, rs_space, n_iter=50, scoring='accuracy', n_jobs=-1, cv=4)"
      ],
      "metadata": {
        "id": "egY3AXJsOUe_"
      },
      "execution_count": 45,
      "outputs": []
    },
    {
      "cell_type": "code",
      "source": [
        "%%time \n",
        "model_random = rf_random.fit(X_train, y_train)"
      ],
      "metadata": {
        "id": "KR5t9GirOYVe",
        "colab": {
          "base_uri": "https://localhost:8080/",
          "height": 0
        },
        "outputId": "e7002d3c-0d08-470b-fa70-cc3a07419b1b"
      },
      "execution_count": 46,
      "outputs": [
        {
          "output_type": "stream",
          "name": "stderr",
          "text": [
            "/usr/local/lib/python3.8/dist-packages/sklearn/model_selection/_validation.py:372: FitFailedWarning: \n",
            "124 fits failed out of a total of 200.\n",
            "The score on these train-test partitions for these parameters will be set to nan.\n",
            "If these failures are not expected, you can try to debug them by setting error_score='raise'.\n",
            "\n",
            "Below are more details about the failures:\n",
            "--------------------------------------------------------------------------------\n",
            "124 fits failed with the following error:\n",
            "Traceback (most recent call last):\n",
            "  File \"/usr/local/lib/python3.8/dist-packages/sklearn/model_selection/_validation.py\", line 680, in _fit_and_score\n",
            "    estimator.fit(X_train, y_train, **fit_params)\n",
            "  File \"/usr/local/lib/python3.8/dist-packages/sklearn/ensemble/_forest.py\", line 450, in fit\n",
            "    trees = Parallel(\n",
            "  File \"/usr/local/lib/python3.8/dist-packages/joblib/parallel.py\", line 1098, in __call__\n",
            "    self.retrieve()\n",
            "  File \"/usr/local/lib/python3.8/dist-packages/joblib/parallel.py\", line 975, in retrieve\n",
            "    self._output.extend(job.get(timeout=self.timeout))\n",
            "  File \"/usr/lib/python3.8/multiprocessing/pool.py\", line 771, in get\n",
            "    raise self._value\n",
            "  File \"/usr/lib/python3.8/multiprocessing/pool.py\", line 125, in worker\n",
            "    result = (True, func(*args, **kwds))\n",
            "  File \"/usr/local/lib/python3.8/dist-packages/joblib/_parallel_backends.py\", line 620, in __call__\n",
            "    return self.func(*args, **kwargs)\n",
            "  File \"/usr/local/lib/python3.8/dist-packages/joblib/parallel.py\", line 288, in __call__\n",
            "    return [func(*args, **kwargs)\n",
            "  File \"/usr/local/lib/python3.8/dist-packages/joblib/parallel.py\", line 288, in <listcomp>\n",
            "    return [func(*args, **kwargs)\n",
            "  File \"/usr/local/lib/python3.8/dist-packages/sklearn/utils/fixes.py\", line 216, in __call__\n",
            "    return self.function(*args, **kwargs)\n",
            "  File \"/usr/local/lib/python3.8/dist-packages/sklearn/ensemble/_forest.py\", line 185, in _parallel_build_trees\n",
            "    tree.fit(X, y, sample_weight=curr_sample_weight, check_input=False)\n",
            "  File \"/usr/local/lib/python3.8/dist-packages/sklearn/tree/_classes.py\", line 937, in fit\n",
            "    super().fit(\n",
            "  File \"/usr/local/lib/python3.8/dist-packages/sklearn/tree/_classes.py\", line 308, in fit\n",
            "    raise ValueError(\"max_features must be in (0, n_features]\")\n",
            "ValueError: max_features must be in (0, n_features]\n",
            "\n",
            "  warnings.warn(some_fits_failed_message, FitFailedWarning)\n",
            "/usr/local/lib/python3.8/dist-packages/sklearn/model_selection/_search.py:969: UserWarning: One or more of the test scores are non-finite: [0.82142857        nan        nan        nan 0.82164795 0.8215602\n",
            " 0.8215602         nan 0.82142857        nan        nan        nan\n",
            "        nan        nan        nan        nan        nan        nan\n",
            " 0.82142857 0.82142857 0.8217357         nan        nan        nan\n",
            "        nan 0.82160407        nan 0.8215602  0.82160407        nan\n",
            " 0.82142857 0.8215602         nan        nan        nan        nan\n",
            " 0.82160407        nan 0.82142857 0.82160407        nan 0.82164795\n",
            "        nan        nan 0.82160407        nan 0.82160407        nan\n",
            "        nan        nan]\n",
            "  warnings.warn(\n"
          ]
        },
        {
          "output_type": "stream",
          "name": "stdout",
          "text": [
            "CPU times: user 6.87 s, sys: 475 ms, total: 7.34 s\n",
            "Wall time: 1min 32s\n"
          ]
        }
      ]
    },
    {
      "cell_type": "code",
      "source": [
        "model_random.best_params_"
      ],
      "metadata": {
        "colab": {
          "base_uri": "https://localhost:8080/",
          "height": 0
        },
        "id": "qeAytcDoObg5",
        "outputId": "8a13addd-fed3-4e3b-d3ed-8aae452c12c2"
      },
      "execution_count": 47,
      "outputs": [
        {
          "output_type": "execute_result",
          "data": {
            "text/plain": [
              "{'criterion': 'gini',\n",
              " 'max_depth': 50,\n",
              " 'max_features': 2,\n",
              " 'min_samples_leaf': 2,\n",
              " 'min_samples_split': 6,\n",
              " 'n_estimators': 460}"
            ]
          },
          "metadata": {},
          "execution_count": 47
        }
      ]
    },
    {
      "cell_type": "code",
      "source": [
        "model_random.best_score_"
      ],
      "metadata": {
        "colab": {
          "base_uri": "https://localhost:8080/",
          "height": 0
        },
        "id": "LSIa-6x9Odqu",
        "outputId": "01be3681-abbe-40ea-854e-7a294fcf8b7f"
      },
      "execution_count": 48,
      "outputs": [
        {
          "output_type": "execute_result",
          "data": {
            "text/plain": [
              "0.8217356967356967"
            ]
          },
          "metadata": {},
          "execution_count": 48
        }
      ]
    },
    {
      "cell_type": "code",
      "source": [
        "rf_best1 = model_random.best_estimator_\n",
        "rf_best1"
      ],
      "metadata": {
        "colab": {
          "base_uri": "https://localhost:8080/",
          "height": 0
        },
        "id": "ydkGNaRLOf7e",
        "outputId": "9f796340-ea15-4e1c-9749-3798817e2620"
      },
      "execution_count": 49,
      "outputs": [
        {
          "output_type": "execute_result",
          "data": {
            "text/plain": [
              "RandomForestClassifier(max_depth=50, max_features=2, min_samples_leaf=2,\n",
              "                       min_samples_split=6, n_estimators=460, n_jobs=-1,\n",
              "                       random_state=42)"
            ]
          },
          "metadata": {},
          "execution_count": 49
        }
      ]
    },
    {
      "cell_type": "code",
      "source": [
        "from sklearn.metrics import confusion_matrix\n",
        "\n",
        "y_pred1 = rf_best1.predict(X_test)\n",
        "\n",
        "cm1 = confusion_matrix(y_test, y_pred)\n",
        "cm1"
      ],
      "metadata": {
        "colab": {
          "base_uri": "https://localhost:8080/",
          "height": 0
        },
        "id": "i7kuj8xfOKae",
        "outputId": "466c0a79-cf47-4b14-be49-63dd90e8ad04"
      },
      "execution_count": 50,
      "outputs": [
        {
          "output_type": "execute_result",
          "data": {
            "text/plain": [
              "array([[6971,  424],\n",
              "       [1371, 1002]])"
            ]
          },
          "metadata": {},
          "execution_count": 50
        }
      ]
    },
    {
      "cell_type": "code",
      "source": [
        "from sklearn.metrics import classification_report\n",
        "print(classification_report(y_test, y_pred))"
      ],
      "metadata": {
        "colab": {
          "base_uri": "https://localhost:8080/",
          "height": 0
        },
        "id": "jVuQ5NG9Ovzc",
        "outputId": "37b83777-48e5-4fd6-800b-3496c737ccde"
      },
      "execution_count": 51,
      "outputs": [
        {
          "output_type": "stream",
          "name": "stdout",
          "text": [
            "              precision    recall  f1-score   support\n",
            "\n",
            "           0       0.84      0.94      0.89      7395\n",
            "           1       0.70      0.42      0.53      2373\n",
            "\n",
            "    accuracy                           0.82      9768\n",
            "   macro avg       0.77      0.68      0.71      9768\n",
            "weighted avg       0.80      0.82      0.80      9768\n",
            "\n"
          ]
        }
      ]
    },
    {
      "cell_type": "markdown",
      "source": [
        "c. LOGISTIC REGRESSION\n"
      ],
      "metadata": {
        "id": "442VGuEQoP4C"
      }
    },
    {
      "cell_type": "code",
      "source": [
        "from sklearn.linear_model import LogisticRegression\n",
        "classifier = LogisticRegression(random_state = 0)\n",
        "classifier.fit(X_train, y_train)"
      ],
      "metadata": {
        "colab": {
          "base_uri": "https://localhost:8080/",
          "height": 0
        },
        "id": "wIoYQRqfggQj",
        "outputId": "4bcac79b-de96-4662-d11b-ddeef39493c1"
      },
      "execution_count": 52,
      "outputs": [
        {
          "output_type": "execute_result",
          "data": {
            "text/plain": [
              "LogisticRegression(random_state=0)"
            ]
          },
          "metadata": {},
          "execution_count": 52
        }
      ]
    },
    {
      "cell_type": "code",
      "source": [
        "y_pred = classifier.predict(X_test)"
      ],
      "metadata": {
        "id": "0dBjNcuDh5eu"
      },
      "execution_count": null,
      "outputs": []
    },
    {
      "cell_type": "code",
      "source": [
        "print(classifier.score(X_train, y_train))\n",
        "print(classifier.score(X_test, y_test))"
      ],
      "metadata": {
        "colab": {
          "base_uri": "https://localhost:8080/"
        },
        "id": "worrSdAxiUJQ",
        "outputId": "af198f81-498f-4ce2-aa5d-edd67c09e8c2"
      },
      "execution_count": null,
      "outputs": [
        {
          "output_type": "stream",
          "name": "stdout",
          "text": [
            "0.8086170586170586\n",
            "0.8029279279279279\n"
          ]
        }
      ]
    },
    {
      "cell_type": "code",
      "source": [
        "from sklearn.metrics import confusion_matrix\n",
        "cm = confusion_matrix(y_test, y_pred)\n",
        "  \n",
        "print (\"Confusion Matrix : \\n\", cm)"
      ],
      "metadata": {
        "colab": {
          "base_uri": "https://localhost:8080/"
        },
        "id": "yeXrp1xAiGK-",
        "outputId": "74882766-efe0-4555-a88c-63de9d6ad7d3"
      },
      "execution_count": null,
      "outputs": [
        {
          "output_type": "stream",
          "name": "stdout",
          "text": [
            "Confusion Matrix : \n",
            " [[6906  489]\n",
            " [1436  937]]\n"
          ]
        }
      ]
    },
    {
      "cell_type": "code",
      "source": [
        "sns.heatmap(cm,annot=True)"
      ],
      "metadata": {
        "colab": {
          "base_uri": "https://localhost:8080/",
          "height": 283
        },
        "id": "ZSvv6bzHiGTl",
        "outputId": "f45f3aec-af91-43ac-8f5b-2d0de35bb377"
      },
      "execution_count": null,
      "outputs": [
        {
          "output_type": "execute_result",
          "data": {
            "text/plain": [
              "<matplotlib.axes._subplots.AxesSubplot at 0x7f85f22da640>"
            ]
          },
          "metadata": {},
          "execution_count": 139
        },
        {
          "output_type": "display_data",
          "data": {
            "text/plain": [
              "<Figure size 432x288 with 2 Axes>"
            ],
            "image/png": "[encoded data removed]"
          },
          "metadata": {
            "needs_background": "light"
          }
        }
      ]
    },
    {
      "cell_type": "code",
      "source": [
        "from sklearn.metrics import classification_report\n",
        "print(classification_report(y_test, y_pred))"
      ],
      "metadata": {
        "colab": {
          "base_uri": "https://localhost:8080/"
        },
        "id": "04X8Eo3CiOg9",
        "outputId": "4e07749e-9f23-4dd7-b566-3629ec6705a8"
      },
      "execution_count": null,
      "outputs": [
        {
          "output_type": "stream",
          "name": "stdout",
          "text": [
            "              precision    recall  f1-score   support\n",
            "\n",
            "           0       0.83      0.93      0.88      7395\n",
            "           1       0.66      0.39      0.49      2373\n",
            "\n",
            "    accuracy                           0.80      9768\n",
            "   macro avg       0.74      0.66      0.69      9768\n",
            "weighted avg       0.79      0.80      0.78      9768\n",
            "\n"
          ]
        }
      ]
    },
    {
      "cell_type": "markdown",
      "source": [
        "d. KNN CLASSIFIER"
      ],
      "metadata": {
        "id": "BDDiKOAdob1C"
      }
    },
    {
      "cell_type": "code",
      "source": [
        "from sklearn.neighbors import KNeighborsClassifier\n",
        "\n",
        "error1= []\n",
        "error2= []\n",
        "for k in range(1,15):\n",
        "    knn= KNeighborsClassifier(n_neighbors=k)\n",
        "    knn.fit(X_train,y_train)\n",
        "    y_pred1= knn.predict(X_train)\n",
        "    error1.append(np.mean(y_train!= y_pred1))\n",
        "    y_pred2= knn.predict(X_test)\n",
        "    error2.append(np.mean(y_test!= y_pred2))\n",
        "\n",
        "plt.figure(figsize=(20,10))\n",
        "plt.plot(range(1,15),error1,label=\"train\")\n",
        "plt.plot(range(1,15),error2,label=\"test\")\n",
        "plt.xlabel('k Value')\n",
        "plt.ylabel('Error')\n",
        "plt.legend()"
      ],
      "metadata": {
        "colab": {
          "base_uri": "https://localhost:8080/",
          "height": 624
        },
        "id": "aeD6BhpNG_Wp",
        "outputId": "8337c592-03d6-44e1-bffa-a7bc474545ae"
      },
      "execution_count": null,
      "outputs": [
        {
          "output_type": "execute_result",
          "data": {
            "text/plain": [
              "<matplotlib.legend.Legend at 0x7f85f9c59430>"
            ]
          },
          "metadata": {},
          "execution_count": 102
        },
        {
          "output_type": "display_data",
          "data": {
            "text/plain": [
              "<Figure size 1440x720 with 1 Axes>"
            ],
            "image/png": "[encoded data removed]"
          },
          "metadata": {
            "needs_background": "light"
          }
        }
      ]
    },
    {
      "cell_type": "code",
      "source": [
        "knn = KNeighborsClassifier(n_neighbors=6)"
      ],
      "metadata": {
        "id": "Ms3uYvGDJJlT"
      },
      "execution_count": null,
      "outputs": []
    },
    {
      "cell_type": "code",
      "source": [
        "knn.fit(X_train, y_train)"
      ],
      "metadata": {
        "colab": {
          "base_uri": "https://localhost:8080/"
        },
        "id": "KWGRVCjcKbex",
        "outputId": "cb4cfc30-ffb5-4aa1-a043-46f2aa6bd805"
      },
      "execution_count": null,
      "outputs": [
        {
          "output_type": "execute_result",
          "data": {
            "text/plain": [
              "KNeighborsClassifier(n_neighbors=6)"
            ]
          },
          "metadata": {},
          "execution_count": 104
        }
      ]
    },
    {
      "cell_type": "code",
      "source": [
        "knn.score(X_test, y_test)"
      ],
      "metadata": {
        "colab": {
          "base_uri": "https://localhost:8080/"
        },
        "id": "t2whB3GGKeXb",
        "outputId": "1eff9639-3ddf-4ac0-a0a5-a16a59df4720"
      },
      "execution_count": null,
      "outputs": [
        {
          "output_type": "execute_result",
          "data": {
            "text/plain": [
              "0.813984438984439"
            ]
          },
          "metadata": {},
          "execution_count": 105
        }
      ]
    },
    {
      "cell_type": "code",
      "source": [
        "from sklearn.metrics import confusion_matrix\n",
        "y_pred = knn.predict(X_test)\n",
        "cm = confusion_matrix(y_test, y_pred)\n",
        "cm"
      ],
      "metadata": {
        "colab": {
          "base_uri": "https://localhost:8080/"
        },
        "id": "L8OWwHf8KiWT",
        "outputId": "9027574b-634a-4ce4-a647-8744b6805ee0"
      },
      "execution_count": null,
      "outputs": [
        {
          "output_type": "execute_result",
          "data": {
            "text/plain": [
              "array([[6888,  507],\n",
              "       [1310, 1063]])"
            ]
          },
          "metadata": {},
          "execution_count": 106
        }
      ]
    },
    {
      "cell_type": "code",
      "source": [
        "%matplotlib inline\n",
        "import matplotlib.pyplot as plt\n",
        "import seaborn as sn\n",
        "plt.figure(figsize=(10,10))\n",
        "sn.heatmap(cm, annot=True)\n",
        "plt.xlabel('Predicted')\n",
        "plt.ylabel('Truth')"
      ],
      "metadata": {
        "colab": {
          "base_uri": "https://localhost:8080/",
          "height": 624
        },
        "id": "pBB1BP9DKleF",
        "outputId": "d97fd0fe-b5b6-4caf-8776-c6c069718e35"
      },
      "execution_count": null,
      "outputs": [
        {
          "output_type": "execute_result",
          "data": {
            "text/plain": [
              "Text(69.0, 0.5, 'Truth')"
            ]
          },
          "metadata": {},
          "execution_count": 107
        },
        {
          "output_type": "display_data",
          "data": {
            "text/plain": [
              "<Figure size 720x720 with 2 Axes>"
            ],
            "image/png": "[encoded data removed]"
          },
          "metadata": {
            "needs_background": "light"
          }
        }
      ]
    },
    {
      "cell_type": "code",
      "source": [
        "from sklearn.metrics import classification_report\n",
        "\n",
        "print(classification_report(y_test, y_pred))"
      ],
      "metadata": {
        "colab": {
          "base_uri": "https://localhost:8080/"
        },
        "id": "JapJrxk7KztL",
        "outputId": "d775def9-2bab-453a-8cfb-86d7ad9ea761"
      },
      "execution_count": null,
      "outputs": [
        {
          "output_type": "stream",
          "name": "stdout",
          "text": [
            "              precision    recall  f1-score   support\n",
            "\n",
            "           0       0.84      0.93      0.88      7395\n",
            "           1       0.68      0.45      0.54      2373\n",
            "\n",
            "    accuracy                           0.81      9768\n",
            "   macro avg       0.76      0.69      0.71      9768\n",
            "weighted avg       0.80      0.81      0.80      9768\n",
            "\n"
          ]
        }
      ]
    },
    {
      "cell_type": "markdown",
      "source": [
        "e.SVC "
      ],
      "metadata": {
        "id": "wplB7A6hoSmR"
      }
    },
    {
      "cell_type": "code",
      "source": [
        "from sklearn.svm import SVC\n",
        "svm_model = SVC(gamma='auto',kernel=\"linear\").fit(X_train, y_train)\n",
        "svm_predictions = svm_model.predict(X_test)\n",
        "\n",
        "acc_train = svm_model.score(X_train, y_train)\n",
        "acc_test = svm_model.score(X_test, y_test)\n",
        "print(acc_train,\"accuracy for train\")\n",
        "print(acc_test,\"accuracy for test\")"
      ],
      "metadata": {
        "colab": {
          "base_uri": "https://localhost:8080/"
        },
        "id": "MGp3sxVXdbzc",
        "outputId": "3a65cdee-7ada-4aad-82f3-3139fb082792"
      },
      "execution_count": null,
      "outputs": [
        {
          "output_type": "stream",
          "name": "stdout",
          "text": [
            "0.76009126009126 accuracy for train\n",
            "0.7570638820638821 accuracy for test\n"
          ]
        }
      ]
    },
    {
      "cell_type": "code",
      "source": [
        "from sklearn.metrics import confusion_matrix\n",
        "cm = confusion_matrix(y_test, y_pred)\n",
        "cm"
      ],
      "metadata": {
        "colab": {
          "base_uri": "https://localhost:8080/"
        },
        "id": "rwA2u-4dgUn1",
        "outputId": "3353e5f4-9c6b-4667-a533-57b360e71dd2"
      },
      "execution_count": null,
      "outputs": [
        {
          "output_type": "execute_result",
          "data": {
            "text/plain": [
              "array([[6971,  424],\n",
              "       [1371, 1002]])"
            ]
          },
          "metadata": {},
          "execution_count": 132
        }
      ]
    },
    {
      "cell_type": "code",
      "source": [
        "sns.heatmap(cm,annot=True)"
      ],
      "metadata": {
        "colab": {
          "base_uri": "https://localhost:8080/",
          "height": 283
        },
        "id": "WQdU768KgZkv",
        "outputId": "b0be8d36-091e-4562-9e2a-997e373c85b8"
      },
      "execution_count": null,
      "outputs": [
        {
          "output_type": "execute_result",
          "data": {
            "text/plain": [
              "<matplotlib.axes._subplots.AxesSubplot at 0x7f85f079bee0>"
            ]
          },
          "metadata": {},
          "execution_count": 133
        },
        {
          "output_type": "display_data",
          "data": {
            "text/plain": [
              "<Figure size 432x288 with 2 Axes>"
            ],
            "image/png": "[encoded data removed]"
          },
          "metadata": {
            "needs_background": "light"
          }
        }
      ]
    },
    {
      "cell_type": "code",
      "source": [
        "from sklearn.metrics import classification_report\n",
        "print(classification_report(y_test, y_pred))"
      ],
      "metadata": {
        "colab": {
          "base_uri": "https://localhost:8080/"
        },
        "id": "QLNR-rLygenw",
        "outputId": "364aa613-c787-484a-fd6e-9512be6838af"
      },
      "execution_count": null,
      "outputs": [
        {
          "output_type": "stream",
          "name": "stdout",
          "text": [
            "              precision    recall  f1-score   support\n",
            "\n",
            "           0       0.84      0.94      0.89      7395\n",
            "           1       0.70      0.42      0.53      2373\n",
            "\n",
            "    accuracy                           0.82      9768\n",
            "   macro avg       0.77      0.68      0.71      9768\n",
            "weighted avg       0.80      0.82      0.80      9768\n",
            "\n"
          ]
        }
      ]
    }
  ]
}