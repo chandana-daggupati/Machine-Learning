{
  "nbformat": 4,
  "nbformat_minor": 0,
  "metadata": {
    "colab": {
      "provenance": [],
      "include_colab_link": true
    },
    "kernelspec": {
      "name": "python3",
      "display_name": "Python 3"
    },
    "language_info": {
      "name": "python"
    }
  },
  "cells": [
    {
      "cell_type": "markdown",
      "metadata": {
        "id": "view-in-github",
        "colab_type": "text"
      },
      "source": [
        "<a href=\"https://colab.research.google.com/github/chandana-daggupati/Machine-Learning/blob/main/SVM.ipynb\" target=\"_parent\"><img src=\"https://colab.research.google.com/assets/colab-badge.svg\" alt=\"Open In Colab\"/></a>"
      ]
    },
    {
      "cell_type": "markdown",
      "metadata": {
        "id": "GxpRVmCHJspm"
      },
      "source": [
        "**Support Vector Machine (SVM) Classifier**"
      ]
    },
    {
      "cell_type": "code",
      "metadata": {
        "id": "IlBToEbPJr_q"
      },
      "source": [
        "## Importing Libraries\n",
        "\n",
        "import pandas as pd\n",
        "import numpy as np\n",
        "import matplotlib.pyplot as plt\n",
        "from sklearn.model_selection import train_test_split\n",
        "\n",
        "%matplotlib inline"
      ],
      "execution_count": null,
      "outputs": []
    },
    {
      "cell_type": "code",
      "metadata": {
        "id": "jQHuT4SsKB8w"
      },
      "source": [
        "## Loading the dataset\n",
        "\n",
        "from sklearn.datasets import load_iris\n",
        "iris = load_iris()"
      ],
      "execution_count": null,
      "outputs": []
    },
    {
      "cell_type": "code",
      "metadata": {
        "id": "Mot2mVy9KHcC",
        "colab": {
          "base_uri": "https://localhost:8080/"
        },
        "outputId": "1cda3550-e5fb-48dd-e46c-d00e631dcd3f"
      },
      "source": [
        "## Displaying Input Variables\n",
        "\n",
        "iris.feature_names"
      ],
      "execution_count": null,
      "outputs": [
        {
          "output_type": "execute_result",
          "data": {
            "text/plain": [
              "['sepal length (cm)',\n",
              " 'sepal width (cm)',\n",
              " 'petal length (cm)',\n",
              " 'petal width (cm)']"
            ]
          },
          "metadata": {},
          "execution_count": 35
        }
      ]
    },
    {
      "cell_type": "code",
      "metadata": {
        "id": "p9Qea280KLS6",
        "colab": {
          "base_uri": "https://localhost:8080/"
        },
        "outputId": "96f0719c-a778-44f9-a248-d99d663a61f8"
      },
      "source": [
        "## Displaying the Output Variable\n",
        "\n",
        "iris.target_names"
      ],
      "execution_count": null,
      "outputs": [
        {
          "output_type": "execute_result",
          "data": {
            "text/plain": [
              "array(['setosa', 'versicolor', 'virginica'], dtype='<U10')"
            ]
          },
          "metadata": {},
          "execution_count": 36
        }
      ]
    },
    {
      "cell_type": "code",
      "metadata": {
        "id": "m6RjaphQKO2a",
        "colab": {
          "base_uri": "https://localhost:8080/",
          "height": 206
        },
        "outputId": "e83b3dd4-1763-407e-d1b2-760a78730b83"
      },
      "source": [
        "## Creating a Dataframe out of the dataset loaded\n",
        "\n",
        "df = pd.DataFrame(iris.data,columns=iris.feature_names)\n",
        "df.head()"
      ],
      "execution_count": null,
      "outputs": [
        {
          "output_type": "execute_result",
          "data": {
            "text/plain": [
              "   sepal length (cm)  sepal width (cm)  petal length (cm)  petal width (cm)\n",
              "0                5.1               3.5                1.4               0.2\n",
              "1                4.9               3.0                1.4               0.2\n",
              "2                4.7               3.2                1.3               0.2\n",
              "3                4.6               3.1                1.5               0.2\n",
              "4                5.0               3.6                1.4               0.2"
            ],
            "text/html": [
              "\n",
              "  <div id=\"df-2b03785b-a734-456b-9d12-6fac6111eda5\">\n",
              "    <div class=\"colab-df-container\">\n",
              "      <div>\n",
              "<style scoped>\n",
              "    .dataframe tbody tr th:only-of-type {\n",
              "        vertical-align: middle;\n",
              "    }\n",
              "\n",
              "    .dataframe tbody tr th {\n",
              "        vertical-align: top;\n",
              "    }\n",
              "\n",
              "    .dataframe thead th {\n",
              "        text-align: right;\n",
              "    }\n",
              "</style>\n",
              "<table border=\"1\" class=\"dataframe\">\n",
              "  <thead>\n",
              "    <tr style=\"text-align: right;\">\n",
              "      <th></th>\n",
              "      <th>sepal length (cm)</th>\n",
              "      <th>sepal width (cm)</th>\n",
              "      <th>petal length (cm)</th>\n",
              "      <th>petal width (cm)</th>\n",
              "    </tr>\n",
              "  </thead>\n",
              "  <tbody>\n",
              "    <tr>\n",
              "      <th>0</th>\n",
              "      <td>5.1</td>\n",
              "      <td>3.5</td>\n",
              "      <td>1.4</td>\n",
              "      <td>0.2</td>\n",
              "    </tr>\n",
              "    <tr>\n",
              "      <th>1</th>\n",
              "      <td>4.9</td>\n",
              "      <td>3.0</td>\n",
              "      <td>1.4</td>\n",
              "      <td>0.2</td>\n",
              "    </tr>\n",
              "    <tr>\n",
              "      <th>2</th>\n",
              "      <td>4.7</td>\n",
              "      <td>3.2</td>\n",
              "      <td>1.3</td>\n",
              "      <td>0.2</td>\n",
              "    </tr>\n",
              "    <tr>\n",
              "      <th>3</th>\n",
              "      <td>4.6</td>\n",
              "      <td>3.1</td>\n",
              "      <td>1.5</td>\n",
              "      <td>0.2</td>\n",
              "    </tr>\n",
              "    <tr>\n",
              "      <th>4</th>\n",
              "      <td>5.0</td>\n",
              "      <td>3.6</td>\n",
              "      <td>1.4</td>\n",
              "      <td>0.2</td>\n",
              "    </tr>\n",
              "  </tbody>\n",
              "</table>\n",
              "</div>\n",
              "      <button class=\"colab-df-convert\" onclick=\"convertToInteractive('df-2b03785b-a734-456b-9d12-6fac6111eda5')\"\n",
              "              title=\"Convert this dataframe to an interactive table.\"\n",
              "              style=\"display:none;\">\n",
              "        \n",
              "  <svg xmlns=\"http://www.w3.org/2000/svg\" height=\"24px\"viewBox=\"0 0 24 24\"\n",
              "       width=\"24px\">\n",
              "    <path d=\"M0 0h24v24H0V0z\" fill=\"none\"/>\n",
              "    <path d=\"M18.56 5.44l.94 2.06.94-2.06 2.06-.94-2.06-.94-.94-2.06-.94 2.06-2.06.94zm-11 1L8.5 8.5l.94-2.06 2.06-.94-2.06-.94L8.5 2.5l-.94 2.06-2.06.94zm10 10l.94 2.06.94-2.06 2.06-.94-2.06-.94-.94-2.06-.94 2.06-2.06.94z\"/><path d=\"M17.41 7.96l-1.37-1.37c-.4-.4-.92-.59-1.43-.59-.52 0-1.04.2-1.43.59L10.3 9.45l-7.72 7.72c-.78.78-.78 2.05 0 2.83L4 21.41c.39.39.9.59 1.41.59.51 0 1.02-.2 1.41-.59l7.78-7.78 2.81-2.81c.8-.78.8-2.07 0-2.86zM5.41 20L4 18.59l7.72-7.72 1.47 1.35L5.41 20z\"/>\n",
              "  </svg>\n",
              "      </button>\n",
              "      \n",
              "  <style>\n",
              "    .colab-df-container {\n",
              "      display:flex;\n",
              "      flex-wrap:wrap;\n",
              "      gap: 12px;\n",
              "    }\n",
              "\n",
              "    .colab-df-convert {\n",
              "      background-color: #E8F0FE;\n",
              "      border: none;\n",
              "      border-radius: 50%;\n",
              "      cursor: pointer;\n",
              "      display: none;\n",
              "      fill: #1967D2;\n",
              "      height: 32px;\n",
              "      padding: 0 0 0 0;\n",
              "      width: 32px;\n",
              "    }\n",
              "\n",
              "    .colab-df-convert:hover {\n",
              "      background-color: #E2EBFA;\n",
              "      box-shadow: 0px 1px 2px rgba(60, 64, 67, 0.3), 0px 1px 3px 1px rgba(60, 64, 67, 0.15);\n",
              "      fill: #174EA6;\n",
              "    }\n",
              "\n",
              "    [theme=dark] .colab-df-convert {\n",
              "      background-color: #3B4455;\n",
              "      fill: #D2E3FC;\n",
              "    }\n",
              "\n",
              "    [theme=dark] .colab-df-convert:hover {\n",
              "      background-color: #434B5C;\n",
              "      box-shadow: 0px 1px 3px 1px rgba(0, 0, 0, 0.15);\n",
              "      filter: drop-shadow(0px 1px 2px rgba(0, 0, 0, 0.3));\n",
              "      fill: #FFFFFF;\n",
              "    }\n",
              "  </style>\n",
              "\n",
              "      <script>\n",
              "        const buttonEl =\n",
              "          document.querySelector('#df-2b03785b-a734-456b-9d12-6fac6111eda5 button.colab-df-convert');\n",
              "        buttonEl.style.display =\n",
              "          google.colab.kernel.accessAllowed ? 'block' : 'none';\n",
              "\n",
              "        async function convertToInteractive(key) {\n",
              "          const element = document.querySelector('#df-2b03785b-a734-456b-9d12-6fac6111eda5');\n",
              "          const dataTable =\n",
              "            await google.colab.kernel.invokeFunction('convertToInteractive',\n",
              "                                                     [key], {});\n",
              "          if (!dataTable) return;\n",
              "\n",
              "          const docLinkHtml = 'Like what you see? Visit the ' +\n",
              "            '<a target=\"_blank\" href=https://colab.research.google.com/notebooks/data_table.ipynb>data table notebook</a>'\n",
              "            + ' to learn more about interactive tables.';\n",
              "          element.innerHTML = '';\n",
              "          dataTable['output_type'] = 'display_data';\n",
              "          await google.colab.output.renderOutput(dataTable, element);\n",
              "          const docLink = document.createElement('div');\n",
              "          docLink.innerHTML = docLinkHtml;\n",
              "          element.appendChild(docLink);\n",
              "        }\n",
              "      </script>\n",
              "    </div>\n",
              "  </div>\n",
              "  "
            ]
          },
          "metadata": {},
          "execution_count": 37
        }
      ]
    },
    {
      "cell_type": "code",
      "metadata": {
        "id": "GqbLcP1_KYhQ",
        "colab": {
          "base_uri": "https://localhost:8080/",
          "height": 206
        },
        "outputId": "199b4534-dc0d-441a-87bd-0282b3a441c4"
      },
      "source": [
        "df['target'] = iris.target\n",
        "df.head()"
      ],
      "execution_count": null,
      "outputs": [
        {
          "output_type": "execute_result",
          "data": {
            "text/plain": [
              "   sepal length (cm)  sepal width (cm)  petal length (cm)  petal width (cm)  \\\n",
              "0                5.1               3.5                1.4               0.2   \n",
              "1                4.9               3.0                1.4               0.2   \n",
              "2                4.7               3.2                1.3               0.2   \n",
              "3                4.6               3.1                1.5               0.2   \n",
              "4                5.0               3.6                1.4               0.2   \n",
              "\n",
              "   target  \n",
              "0       0  \n",
              "1       0  \n",
              "2       0  \n",
              "3       0  \n",
              "4       0  "
            ],
            "text/html": [
              "\n",
              "  <div id=\"df-5ffaed00-1160-4ce1-bbe9-2c18f9b09bd7\">\n",
              "    <div class=\"colab-df-container\">\n",
              "      <div>\n",
              "<style scoped>\n",
              "    .dataframe tbody tr th:only-of-type {\n",
              "        vertical-align: middle;\n",
              "    }\n",
              "\n",
              "    .dataframe tbody tr th {\n",
              "        vertical-align: top;\n",
              "    }\n",
              "\n",
              "    .dataframe thead th {\n",
              "        text-align: right;\n",
              "    }\n",
              "</style>\n",
              "<table border=\"1\" class=\"dataframe\">\n",
              "  <thead>\n",
              "    <tr style=\"text-align: right;\">\n",
              "      <th></th>\n",
              "      <th>sepal length (cm)</th>\n",
              "      <th>sepal width (cm)</th>\n",
              "      <th>petal length (cm)</th>\n",
              "      <th>petal width (cm)</th>\n",
              "      <th>target</th>\n",
              "    </tr>\n",
              "  </thead>\n",
              "  <tbody>\n",
              "    <tr>\n",
              "      <th>0</th>\n",
              "      <td>5.1</td>\n",
              "      <td>3.5</td>\n",
              "      <td>1.4</td>\n",
              "      <td>0.2</td>\n",
              "      <td>0</td>\n",
              "    </tr>\n",
              "    <tr>\n",
              "      <th>1</th>\n",
              "      <td>4.9</td>\n",
              "      <td>3.0</td>\n",
              "      <td>1.4</td>\n",
              "      <td>0.2</td>\n",
              "      <td>0</td>\n",
              "    </tr>\n",
              "    <tr>\n",
              "      <th>2</th>\n",
              "      <td>4.7</td>\n",
              "      <td>3.2</td>\n",
              "      <td>1.3</td>\n",
              "      <td>0.2</td>\n",
              "      <td>0</td>\n",
              "    </tr>\n",
              "    <tr>\n",
              "      <th>3</th>\n",
              "      <td>4.6</td>\n",
              "      <td>3.1</td>\n",
              "      <td>1.5</td>\n",
              "      <td>0.2</td>\n",
              "      <td>0</td>\n",
              "    </tr>\n",
              "    <tr>\n",
              "      <th>4</th>\n",
              "      <td>5.0</td>\n",
              "      <td>3.6</td>\n",
              "      <td>1.4</td>\n",
              "      <td>0.2</td>\n",
              "      <td>0</td>\n",
              "    </tr>\n",
              "  </tbody>\n",
              "</table>\n",
              "</div>\n",
              "      <button class=\"colab-df-convert\" onclick=\"convertToInteractive('df-5ffaed00-1160-4ce1-bbe9-2c18f9b09bd7')\"\n",
              "              title=\"Convert this dataframe to an interactive table.\"\n",
              "              style=\"display:none;\">\n",
              "        \n",
              "  <svg xmlns=\"http://www.w3.org/2000/svg\" height=\"24px\"viewBox=\"0 0 24 24\"\n",
              "       width=\"24px\">\n",
              "    <path d=\"M0 0h24v24H0V0z\" fill=\"none\"/>\n",
              "    <path d=\"M18.56 5.44l.94 2.06.94-2.06 2.06-.94-2.06-.94-.94-2.06-.94 2.06-2.06.94zm-11 1L8.5 8.5l.94-2.06 2.06-.94-2.06-.94L8.5 2.5l-.94 2.06-2.06.94zm10 10l.94 2.06.94-2.06 2.06-.94-2.06-.94-.94-2.06-.94 2.06-2.06.94z\"/><path d=\"M17.41 7.96l-1.37-1.37c-.4-.4-.92-.59-1.43-.59-.52 0-1.04.2-1.43.59L10.3 9.45l-7.72 7.72c-.78.78-.78 2.05 0 2.83L4 21.41c.39.39.9.59 1.41.59.51 0 1.02-.2 1.41-.59l7.78-7.78 2.81-2.81c.8-.78.8-2.07 0-2.86zM5.41 20L4 18.59l7.72-7.72 1.47 1.35L5.41 20z\"/>\n",
              "  </svg>\n",
              "      </button>\n",
              "      \n",
              "  <style>\n",
              "    .colab-df-container {\n",
              "      display:flex;\n",
              "      flex-wrap:wrap;\n",
              "      gap: 12px;\n",
              "    }\n",
              "\n",
              "    .colab-df-convert {\n",
              "      background-color: #E8F0FE;\n",
              "      border: none;\n",
              "      border-radius: 50%;\n",
              "      cursor: pointer;\n",
              "      display: none;\n",
              "      fill: #1967D2;\n",
              "      height: 32px;\n",
              "      padding: 0 0 0 0;\n",
              "      width: 32px;\n",
              "    }\n",
              "\n",
              "    .colab-df-convert:hover {\n",
              "      background-color: #E2EBFA;\n",
              "      box-shadow: 0px 1px 2px rgba(60, 64, 67, 0.3), 0px 1px 3px 1px rgba(60, 64, 67, 0.15);\n",
              "      fill: #174EA6;\n",
              "    }\n",
              "\n",
              "    [theme=dark] .colab-df-convert {\n",
              "      background-color: #3B4455;\n",
              "      fill: #D2E3FC;\n",
              "    }\n",
              "\n",
              "    [theme=dark] .colab-df-convert:hover {\n",
              "      background-color: #434B5C;\n",
              "      box-shadow: 0px 1px 3px 1px rgba(0, 0, 0, 0.15);\n",
              "      filter: drop-shadow(0px 1px 2px rgba(0, 0, 0, 0.3));\n",
              "      fill: #FFFFFF;\n",
              "    }\n",
              "  </style>\n",
              "\n",
              "      <script>\n",
              "        const buttonEl =\n",
              "          document.querySelector('#df-5ffaed00-1160-4ce1-bbe9-2c18f9b09bd7 button.colab-df-convert');\n",
              "        buttonEl.style.display =\n",
              "          google.colab.kernel.accessAllowed ? 'block' : 'none';\n",
              "\n",
              "        async function convertToInteractive(key) {\n",
              "          const element = document.querySelector('#df-5ffaed00-1160-4ce1-bbe9-2c18f9b09bd7');\n",
              "          const dataTable =\n",
              "            await google.colab.kernel.invokeFunction('convertToInteractive',\n",
              "                                                     [key], {});\n",
              "          if (!dataTable) return;\n",
              "\n",
              "          const docLinkHtml = 'Like what you see? Visit the ' +\n",
              "            '<a target=\"_blank\" href=https://colab.research.google.com/notebooks/data_table.ipynb>data table notebook</a>'\n",
              "            + ' to learn more about interactive tables.';\n",
              "          element.innerHTML = '';\n",
              "          dataTable['output_type'] = 'display_data';\n",
              "          await google.colab.output.renderOutput(dataTable, element);\n",
              "          const docLink = document.createElement('div');\n",
              "          docLink.innerHTML = docLinkHtml;\n",
              "          element.appendChild(docLink);\n",
              "        }\n",
              "      </script>\n",
              "    </div>\n",
              "  </div>\n",
              "  "
            ]
          },
          "metadata": {},
          "execution_count": 38
        }
      ]
    },
    {
      "cell_type": "code",
      "metadata": {
        "id": "oO4LGglPKc-c",
        "colab": {
          "base_uri": "https://localhost:8080/",
          "height": 206
        },
        "outputId": "7e33aa87-e03c-4cb3-d3f0-265c6fdf5f21"
      },
      "source": [
        "df[df.target==1].head()"
      ],
      "execution_count": null,
      "outputs": [
        {
          "output_type": "execute_result",
          "data": {
            "text/plain": [
              "    sepal length (cm)  sepal width (cm)  petal length (cm)  petal width (cm)  \\\n",
              "50                7.0               3.2                4.7               1.4   \n",
              "51                6.4               3.2                4.5               1.5   \n",
              "52                6.9               3.1                4.9               1.5   \n",
              "53                5.5               2.3                4.0               1.3   \n",
              "54                6.5               2.8                4.6               1.5   \n",
              "\n",
              "    target  \n",
              "50       1  \n",
              "51       1  \n",
              "52       1  \n",
              "53       1  \n",
              "54       1  "
            ],
            "text/html": [
              "\n",
              "  <div id=\"df-888f46aa-7503-4e86-b152-82d960058c71\">\n",
              "    <div class=\"colab-df-container\">\n",
              "      <div>\n",
              "<style scoped>\n",
              "    .dataframe tbody tr th:only-of-type {\n",
              "        vertical-align: middle;\n",
              "    }\n",
              "\n",
              "    .dataframe tbody tr th {\n",
              "        vertical-align: top;\n",
              "    }\n",
              "\n",
              "    .dataframe thead th {\n",
              "        text-align: right;\n",
              "    }\n",
              "</style>\n",
              "<table border=\"1\" class=\"dataframe\">\n",
              "  <thead>\n",
              "    <tr style=\"text-align: right;\">\n",
              "      <th></th>\n",
              "      <th>sepal length (cm)</th>\n",
              "      <th>sepal width (cm)</th>\n",
              "      <th>petal length (cm)</th>\n",
              "      <th>petal width (cm)</th>\n",
              "      <th>target</th>\n",
              "    </tr>\n",
              "  </thead>\n",
              "  <tbody>\n",
              "    <tr>\n",
              "      <th>50</th>\n",
              "      <td>7.0</td>\n",
              "      <td>3.2</td>\n",
              "      <td>4.7</td>\n",
              "      <td>1.4</td>\n",
              "      <td>1</td>\n",
              "    </tr>\n",
              "    <tr>\n",
              "      <th>51</th>\n",
              "      <td>6.4</td>\n",
              "      <td>3.2</td>\n",
              "      <td>4.5</td>\n",
              "      <td>1.5</td>\n",
              "      <td>1</td>\n",
              "    </tr>\n",
              "    <tr>\n",
              "      <th>52</th>\n",
              "      <td>6.9</td>\n",
              "      <td>3.1</td>\n",
              "      <td>4.9</td>\n",
              "      <td>1.5</td>\n",
              "      <td>1</td>\n",
              "    </tr>\n",
              "    <tr>\n",
              "      <th>53</th>\n",
              "      <td>5.5</td>\n",
              "      <td>2.3</td>\n",
              "      <td>4.0</td>\n",
              "      <td>1.3</td>\n",
              "      <td>1</td>\n",
              "    </tr>\n",
              "    <tr>\n",
              "      <th>54</th>\n",
              "      <td>6.5</td>\n",
              "      <td>2.8</td>\n",
              "      <td>4.6</td>\n",
              "      <td>1.5</td>\n",
              "      <td>1</td>\n",
              "    </tr>\n",
              "  </tbody>\n",
              "</table>\n",
              "</div>\n",
              "      <button class=\"colab-df-convert\" onclick=\"convertToInteractive('df-888f46aa-7503-4e86-b152-82d960058c71')\"\n",
              "              title=\"Convert this dataframe to an interactive table.\"\n",
              "              style=\"display:none;\">\n",
              "        \n",
              "  <svg xmlns=\"http://www.w3.org/2000/svg\" height=\"24px\"viewBox=\"0 0 24 24\"\n",
              "       width=\"24px\">\n",
              "    <path d=\"M0 0h24v24H0V0z\" fill=\"none\"/>\n",
              "    <path d=\"M18.56 5.44l.94 2.06.94-2.06 2.06-.94-2.06-.94-.94-2.06-.94 2.06-2.06.94zm-11 1L8.5 8.5l.94-2.06 2.06-.94-2.06-.94L8.5 2.5l-.94 2.06-2.06.94zm10 10l.94 2.06.94-2.06 2.06-.94-2.06-.94-.94-2.06-.94 2.06-2.06.94z\"/><path d=\"M17.41 7.96l-1.37-1.37c-.4-.4-.92-.59-1.43-.59-.52 0-1.04.2-1.43.59L10.3 9.45l-7.72 7.72c-.78.78-.78 2.05 0 2.83L4 21.41c.39.39.9.59 1.41.59.51 0 1.02-.2 1.41-.59l7.78-7.78 2.81-2.81c.8-.78.8-2.07 0-2.86zM5.41 20L4 18.59l7.72-7.72 1.47 1.35L5.41 20z\"/>\n",
              "  </svg>\n",
              "      </button>\n",
              "      \n",
              "  <style>\n",
              "    .colab-df-container {\n",
              "      display:flex;\n",
              "      flex-wrap:wrap;\n",
              "      gap: 12px;\n",
              "    }\n",
              "\n",
              "    .colab-df-convert {\n",
              "      background-color: #E8F0FE;\n",
              "      border: none;\n",
              "      border-radius: 50%;\n",
              "      cursor: pointer;\n",
              "      display: none;\n",
              "      fill: #1967D2;\n",
              "      height: 32px;\n",
              "      padding: 0 0 0 0;\n",
              "      width: 32px;\n",
              "    }\n",
              "\n",
              "    .colab-df-convert:hover {\n",
              "      background-color: #E2EBFA;\n",
              "      box-shadow: 0px 1px 2px rgba(60, 64, 67, 0.3), 0px 1px 3px 1px rgba(60, 64, 67, 0.15);\n",
              "      fill: #174EA6;\n",
              "    }\n",
              "\n",
              "    [theme=dark] .colab-df-convert {\n",
              "      background-color: #3B4455;\n",
              "      fill: #D2E3FC;\n",
              "    }\n",
              "\n",
              "    [theme=dark] .colab-df-convert:hover {\n",
              "      background-color: #434B5C;\n",
              "      box-shadow: 0px 1px 3px 1px rgba(0, 0, 0, 0.15);\n",
              "      filter: drop-shadow(0px 1px 2px rgba(0, 0, 0, 0.3));\n",
              "      fill: #FFFFFF;\n",
              "    }\n",
              "  </style>\n",
              "\n",
              "      <script>\n",
              "        const buttonEl =\n",
              "          document.querySelector('#df-888f46aa-7503-4e86-b152-82d960058c71 button.colab-df-convert');\n",
              "        buttonEl.style.display =\n",
              "          google.colab.kernel.accessAllowed ? 'block' : 'none';\n",
              "\n",
              "        async function convertToInteractive(key) {\n",
              "          const element = document.querySelector('#df-888f46aa-7503-4e86-b152-82d960058c71');\n",
              "          const dataTable =\n",
              "            await google.colab.kernel.invokeFunction('convertToInteractive',\n",
              "                                                     [key], {});\n",
              "          if (!dataTable) return;\n",
              "\n",
              "          const docLinkHtml = 'Like what you see? Visit the ' +\n",
              "            '<a target=\"_blank\" href=https://colab.research.google.com/notebooks/data_table.ipynb>data table notebook</a>'\n",
              "            + ' to learn more about interactive tables.';\n",
              "          element.innerHTML = '';\n",
              "          dataTable['output_type'] = 'display_data';\n",
              "          await google.colab.output.renderOutput(dataTable, element);\n",
              "          const docLink = document.createElement('div');\n",
              "          docLink.innerHTML = docLinkHtml;\n",
              "          element.appendChild(docLink);\n",
              "        }\n",
              "      </script>\n",
              "    </div>\n",
              "  </div>\n",
              "  "
            ]
          },
          "metadata": {},
          "execution_count": 39
        }
      ]
    },
    {
      "cell_type": "code",
      "metadata": {
        "id": "vY0FsCZZKhyF",
        "colab": {
          "base_uri": "https://localhost:8080/",
          "height": 206
        },
        "outputId": "a704023d-d0af-40f6-dcab-4924f800853c"
      },
      "source": [
        "df[df.target==2].head()"
      ],
      "execution_count": null,
      "outputs": [
        {
          "output_type": "execute_result",
          "data": {
            "text/plain": [
              "     sepal length (cm)  sepal width (cm)  petal length (cm)  petal width (cm)  \\\n",
              "100                6.3               3.3                6.0               2.5   \n",
              "101                5.8               2.7                5.1               1.9   \n",
              "102                7.1               3.0                5.9               2.1   \n",
              "103                6.3               2.9                5.6               1.8   \n",
              "104                6.5               3.0                5.8               2.2   \n",
              "\n",
              "     target  \n",
              "100       2  \n",
              "101       2  \n",
              "102       2  \n",
              "103       2  \n",
              "104       2  "
            ],
            "text/html": [
              "\n",
              "  <div id=\"df-444b0ce7-ec02-42f9-a84b-5877dc9d0bfd\">\n",
              "    <div class=\"colab-df-container\">\n",
              "      <div>\n",
              "<style scoped>\n",
              "    .dataframe tbody tr th:only-of-type {\n",
              "        vertical-align: middle;\n",
              "    }\n",
              "\n",
              "    .dataframe tbody tr th {\n",
              "        vertical-align: top;\n",
              "    }\n",
              "\n",
              "    .dataframe thead th {\n",
              "        text-align: right;\n",
              "    }\n",
              "</style>\n",
              "<table border=\"1\" class=\"dataframe\">\n",
              "  <thead>\n",
              "    <tr style=\"text-align: right;\">\n",
              "      <th></th>\n",
              "      <th>sepal length (cm)</th>\n",
              "      <th>sepal width (cm)</th>\n",
              "      <th>petal length (cm)</th>\n",
              "      <th>petal width (cm)</th>\n",
              "      <th>target</th>\n",
              "    </tr>\n",
              "  </thead>\n",
              "  <tbody>\n",
              "    <tr>\n",
              "      <th>100</th>\n",
              "      <td>6.3</td>\n",
              "      <td>3.3</td>\n",
              "      <td>6.0</td>\n",
              "      <td>2.5</td>\n",
              "      <td>2</td>\n",
              "    </tr>\n",
              "    <tr>\n",
              "      <th>101</th>\n",
              "      <td>5.8</td>\n",
              "      <td>2.7</td>\n",
              "      <td>5.1</td>\n",
              "      <td>1.9</td>\n",
              "      <td>2</td>\n",
              "    </tr>\n",
              "    <tr>\n",
              "      <th>102</th>\n",
              "      <td>7.1</td>\n",
              "      <td>3.0</td>\n",
              "      <td>5.9</td>\n",
              "      <td>2.1</td>\n",
              "      <td>2</td>\n",
              "    </tr>\n",
              "    <tr>\n",
              "      <th>103</th>\n",
              "      <td>6.3</td>\n",
              "      <td>2.9</td>\n",
              "      <td>5.6</td>\n",
              "      <td>1.8</td>\n",
              "      <td>2</td>\n",
              "    </tr>\n",
              "    <tr>\n",
              "      <th>104</th>\n",
              "      <td>6.5</td>\n",
              "      <td>3.0</td>\n",
              "      <td>5.8</td>\n",
              "      <td>2.2</td>\n",
              "      <td>2</td>\n",
              "    </tr>\n",
              "  </tbody>\n",
              "</table>\n",
              "</div>\n",
              "      <button class=\"colab-df-convert\" onclick=\"convertToInteractive('df-444b0ce7-ec02-42f9-a84b-5877dc9d0bfd')\"\n",
              "              title=\"Convert this dataframe to an interactive table.\"\n",
              "              style=\"display:none;\">\n",
              "        \n",
              "  <svg xmlns=\"http://www.w3.org/2000/svg\" height=\"24px\"viewBox=\"0 0 24 24\"\n",
              "       width=\"24px\">\n",
              "    <path d=\"M0 0h24v24H0V0z\" fill=\"none\"/>\n",
              "    <path d=\"M18.56 5.44l.94 2.06.94-2.06 2.06-.94-2.06-.94-.94-2.06-.94 2.06-2.06.94zm-11 1L8.5 8.5l.94-2.06 2.06-.94-2.06-.94L8.5 2.5l-.94 2.06-2.06.94zm10 10l.94 2.06.94-2.06 2.06-.94-2.06-.94-.94-2.06-.94 2.06-2.06.94z\"/><path d=\"M17.41 7.96l-1.37-1.37c-.4-.4-.92-.59-1.43-.59-.52 0-1.04.2-1.43.59L10.3 9.45l-7.72 7.72c-.78.78-.78 2.05 0 2.83L4 21.41c.39.39.9.59 1.41.59.51 0 1.02-.2 1.41-.59l7.78-7.78 2.81-2.81c.8-.78.8-2.07 0-2.86zM5.41 20L4 18.59l7.72-7.72 1.47 1.35L5.41 20z\"/>\n",
              "  </svg>\n",
              "      </button>\n",
              "      \n",
              "  <style>\n",
              "    .colab-df-container {\n",
              "      display:flex;\n",
              "      flex-wrap:wrap;\n",
              "      gap: 12px;\n",
              "    }\n",
              "\n",
              "    .colab-df-convert {\n",
              "      background-color: #E8F0FE;\n",
              "      border: none;\n",
              "      border-radius: 50%;\n",
              "      cursor: pointer;\n",
              "      display: none;\n",
              "      fill: #1967D2;\n",
              "      height: 32px;\n",
              "      padding: 0 0 0 0;\n",
              "      width: 32px;\n",
              "    }\n",
              "\n",
              "    .colab-df-convert:hover {\n",
              "      background-color: #E2EBFA;\n",
              "      box-shadow: 0px 1px 2px rgba(60, 64, 67, 0.3), 0px 1px 3px 1px rgba(60, 64, 67, 0.15);\n",
              "      fill: #174EA6;\n",
              "    }\n",
              "\n",
              "    [theme=dark] .colab-df-convert {\n",
              "      background-color: #3B4455;\n",
              "      fill: #D2E3FC;\n",
              "    }\n",
              "\n",
              "    [theme=dark] .colab-df-convert:hover {\n",
              "      background-color: #434B5C;\n",
              "      box-shadow: 0px 1px 3px 1px rgba(0, 0, 0, 0.15);\n",
              "      filter: drop-shadow(0px 1px 2px rgba(0, 0, 0, 0.3));\n",
              "      fill: #FFFFFF;\n",
              "    }\n",
              "  </style>\n",
              "\n",
              "      <script>\n",
              "        const buttonEl =\n",
              "          document.querySelector('#df-444b0ce7-ec02-42f9-a84b-5877dc9d0bfd button.colab-df-convert');\n",
              "        buttonEl.style.display =\n",
              "          google.colab.kernel.accessAllowed ? 'block' : 'none';\n",
              "\n",
              "        async function convertToInteractive(key) {\n",
              "          const element = document.querySelector('#df-444b0ce7-ec02-42f9-a84b-5877dc9d0bfd');\n",
              "          const dataTable =\n",
              "            await google.colab.kernel.invokeFunction('convertToInteractive',\n",
              "                                                     [key], {});\n",
              "          if (!dataTable) return;\n",
              "\n",
              "          const docLinkHtml = 'Like what you see? Visit the ' +\n",
              "            '<a target=\"_blank\" href=https://colab.research.google.com/notebooks/data_table.ipynb>data table notebook</a>'\n",
              "            + ' to learn more about interactive tables.';\n",
              "          element.innerHTML = '';\n",
              "          dataTable['output_type'] = 'display_data';\n",
              "          await google.colab.output.renderOutput(dataTable, element);\n",
              "          const docLink = document.createElement('div');\n",
              "          docLink.innerHTML = docLinkHtml;\n",
              "          element.appendChild(docLink);\n",
              "        }\n",
              "      </script>\n",
              "    </div>\n",
              "  </div>\n",
              "  "
            ]
          },
          "metadata": {},
          "execution_count": 40
        }
      ]
    },
    {
      "cell_type": "code",
      "metadata": {
        "id": "1M77ILdLKlYx",
        "colab": {
          "base_uri": "https://localhost:8080/",
          "height": 206
        },
        "outputId": "12ddbee4-1444-4a44-f7da-ad1bfe436b8a"
      },
      "source": [
        "df['flower_name'] =df.target.apply(lambda x: iris.target_names[x])\n",
        "df.head()"
      ],
      "execution_count": null,
      "outputs": [
        {
          "output_type": "execute_result",
          "data": {
            "text/plain": [
              "   sepal length (cm)  sepal width (cm)  petal length (cm)  petal width (cm)  \\\n",
              "0                5.1               3.5                1.4               0.2   \n",
              "1                4.9               3.0                1.4               0.2   \n",
              "2                4.7               3.2                1.3               0.2   \n",
              "3                4.6               3.1                1.5               0.2   \n",
              "4                5.0               3.6                1.4               0.2   \n",
              "\n",
              "   target flower_name  \n",
              "0       0      setosa  \n",
              "1       0      setosa  \n",
              "2       0      setosa  \n",
              "3       0      setosa  \n",
              "4       0      setosa  "
            ],
            "text/html": [
              "\n",
              "  <div id=\"df-4dab3c77-05fc-4c30-8c95-dd5003e30319\">\n",
              "    <div class=\"colab-df-container\">\n",
              "      <div>\n",
              "<style scoped>\n",
              "    .dataframe tbody tr th:only-of-type {\n",
              "        vertical-align: middle;\n",
              "    }\n",
              "\n",
              "    .dataframe tbody tr th {\n",
              "        vertical-align: top;\n",
              "    }\n",
              "\n",
              "    .dataframe thead th {\n",
              "        text-align: right;\n",
              "    }\n",
              "</style>\n",
              "<table border=\"1\" class=\"dataframe\">\n",
              "  <thead>\n",
              "    <tr style=\"text-align: right;\">\n",
              "      <th></th>\n",
              "      <th>sepal length (cm)</th>\n",
              "      <th>sepal width (cm)</th>\n",
              "      <th>petal length (cm)</th>\n",
              "      <th>petal width (cm)</th>\n",
              "      <th>target</th>\n",
              "      <th>flower_name</th>\n",
              "    </tr>\n",
              "  </thead>\n",
              "  <tbody>\n",
              "    <tr>\n",
              "      <th>0</th>\n",
              "      <td>5.1</td>\n",
              "      <td>3.5</td>\n",
              "      <td>1.4</td>\n",
              "      <td>0.2</td>\n",
              "      <td>0</td>\n",
              "      <td>setosa</td>\n",
              "    </tr>\n",
              "    <tr>\n",
              "      <th>1</th>\n",
              "      <td>4.9</td>\n",
              "      <td>3.0</td>\n",
              "      <td>1.4</td>\n",
              "      <td>0.2</td>\n",
              "      <td>0</td>\n",
              "      <td>setosa</td>\n",
              "    </tr>\n",
              "    <tr>\n",
              "      <th>2</th>\n",
              "      <td>4.7</td>\n",
              "      <td>3.2</td>\n",
              "      <td>1.3</td>\n",
              "      <td>0.2</td>\n",
              "      <td>0</td>\n",
              "      <td>setosa</td>\n",
              "    </tr>\n",
              "    <tr>\n",
              "      <th>3</th>\n",
              "      <td>4.6</td>\n",
              "      <td>3.1</td>\n",
              "      <td>1.5</td>\n",
              "      <td>0.2</td>\n",
              "      <td>0</td>\n",
              "      <td>setosa</td>\n",
              "    </tr>\n",
              "    <tr>\n",
              "      <th>4</th>\n",
              "      <td>5.0</td>\n",
              "      <td>3.6</td>\n",
              "      <td>1.4</td>\n",
              "      <td>0.2</td>\n",
              "      <td>0</td>\n",
              "      <td>setosa</td>\n",
              "    </tr>\n",
              "  </tbody>\n",
              "</table>\n",
              "</div>\n",
              "      <button class=\"colab-df-convert\" onclick=\"convertToInteractive('df-4dab3c77-05fc-4c30-8c95-dd5003e30319')\"\n",
              "              title=\"Convert this dataframe to an interactive table.\"\n",
              "              style=\"display:none;\">\n",
              "        \n",
              "  <svg xmlns=\"http://www.w3.org/2000/svg\" height=\"24px\"viewBox=\"0 0 24 24\"\n",
              "       width=\"24px\">\n",
              "    <path d=\"M0 0h24v24H0V0z\" fill=\"none\"/>\n",
              "    <path d=\"M18.56 5.44l.94 2.06.94-2.06 2.06-.94-2.06-.94-.94-2.06-.94 2.06-2.06.94zm-11 1L8.5 8.5l.94-2.06 2.06-.94-2.06-.94L8.5 2.5l-.94 2.06-2.06.94zm10 10l.94 2.06.94-2.06 2.06-.94-2.06-.94-.94-2.06-.94 2.06-2.06.94z\"/><path d=\"M17.41 7.96l-1.37-1.37c-.4-.4-.92-.59-1.43-.59-.52 0-1.04.2-1.43.59L10.3 9.45l-7.72 7.72c-.78.78-.78 2.05 0 2.83L4 21.41c.39.39.9.59 1.41.59.51 0 1.02-.2 1.41-.59l7.78-7.78 2.81-2.81c.8-.78.8-2.07 0-2.86zM5.41 20L4 18.59l7.72-7.72 1.47 1.35L5.41 20z\"/>\n",
              "  </svg>\n",
              "      </button>\n",
              "      \n",
              "  <style>\n",
              "    .colab-df-container {\n",
              "      display:flex;\n",
              "      flex-wrap:wrap;\n",
              "      gap: 12px;\n",
              "    }\n",
              "\n",
              "    .colab-df-convert {\n",
              "      background-color: #E8F0FE;\n",
              "      border: none;\n",
              "      border-radius: 50%;\n",
              "      cursor: pointer;\n",
              "      display: none;\n",
              "      fill: #1967D2;\n",
              "      height: 32px;\n",
              "      padding: 0 0 0 0;\n",
              "      width: 32px;\n",
              "    }\n",
              "\n",
              "    .colab-df-convert:hover {\n",
              "      background-color: #E2EBFA;\n",
              "      box-shadow: 0px 1px 2px rgba(60, 64, 67, 0.3), 0px 1px 3px 1px rgba(60, 64, 67, 0.15);\n",
              "      fill: #174EA6;\n",
              "    }\n",
              "\n",
              "    [theme=dark] .colab-df-convert {\n",
              "      background-color: #3B4455;\n",
              "      fill: #D2E3FC;\n",
              "    }\n",
              "\n",
              "    [theme=dark] .colab-df-convert:hover {\n",
              "      background-color: #434B5C;\n",
              "      box-shadow: 0px 1px 3px 1px rgba(0, 0, 0, 0.15);\n",
              "      filter: drop-shadow(0px 1px 2px rgba(0, 0, 0, 0.3));\n",
              "      fill: #FFFFFF;\n",
              "    }\n",
              "  </style>\n",
              "\n",
              "      <script>\n",
              "        const buttonEl =\n",
              "          document.querySelector('#df-4dab3c77-05fc-4c30-8c95-dd5003e30319 button.colab-df-convert');\n",
              "        buttonEl.style.display =\n",
              "          google.colab.kernel.accessAllowed ? 'block' : 'none';\n",
              "\n",
              "        async function convertToInteractive(key) {\n",
              "          const element = document.querySelector('#df-4dab3c77-05fc-4c30-8c95-dd5003e30319');\n",
              "          const dataTable =\n",
              "            await google.colab.kernel.invokeFunction('convertToInteractive',\n",
              "                                                     [key], {});\n",
              "          if (!dataTable) return;\n",
              "\n",
              "          const docLinkHtml = 'Like what you see? Visit the ' +\n",
              "            '<a target=\"_blank\" href=https://colab.research.google.com/notebooks/data_table.ipynb>data table notebook</a>'\n",
              "            + ' to learn more about interactive tables.';\n",
              "          element.innerHTML = '';\n",
              "          dataTable['output_type'] = 'display_data';\n",
              "          await google.colab.output.renderOutput(dataTable, element);\n",
              "          const docLink = document.createElement('div');\n",
              "          docLink.innerHTML = docLinkHtml;\n",
              "          element.appendChild(docLink);\n",
              "        }\n",
              "      </script>\n",
              "    </div>\n",
              "  </div>\n",
              "  "
            ]
          },
          "metadata": {},
          "execution_count": 41
        }
      ]
    },
    {
      "cell_type": "code",
      "metadata": {
        "id": "YbL-xVp2Kw_x",
        "colab": {
          "base_uri": "https://localhost:8080/",
          "height": 363
        },
        "outputId": "127ad4a6-2d96-4ce2-de68-18322034f842"
      },
      "source": [
        "df[45:55]"
      ],
      "execution_count": null,
      "outputs": [
        {
          "output_type": "execute_result",
          "data": {
            "text/plain": [
              "    sepal length (cm)  sepal width (cm)  petal length (cm)  petal width (cm)  \\\n",
              "45                4.8               3.0                1.4               0.3   \n",
              "46                5.1               3.8                1.6               0.2   \n",
              "47                4.6               3.2                1.4               0.2   \n",
              "48                5.3               3.7                1.5               0.2   \n",
              "49                5.0               3.3                1.4               0.2   \n",
              "50                7.0               3.2                4.7               1.4   \n",
              "51                6.4               3.2                4.5               1.5   \n",
              "52                6.9               3.1                4.9               1.5   \n",
              "53                5.5               2.3                4.0               1.3   \n",
              "54                6.5               2.8                4.6               1.5   \n",
              "\n",
              "    target flower_name  \n",
              "45       0      setosa  \n",
              "46       0      setosa  \n",
              "47       0      setosa  \n",
              "48       0      setosa  \n",
              "49       0      setosa  \n",
              "50       1  versicolor  \n",
              "51       1  versicolor  \n",
              "52       1  versicolor  \n",
              "53       1  versicolor  \n",
              "54       1  versicolor  "
            ],
            "text/html": [
              "\n",
              "  <div id=\"df-43f01bad-3a82-419d-9333-a617d248d749\">\n",
              "    <div class=\"colab-df-container\">\n",
              "      <div>\n",
              "<style scoped>\n",
              "    .dataframe tbody tr th:only-of-type {\n",
              "        vertical-align: middle;\n",
              "    }\n",
              "\n",
              "    .dataframe tbody tr th {\n",
              "        vertical-align: top;\n",
              "    }\n",
              "\n",
              "    .dataframe thead th {\n",
              "        text-align: right;\n",
              "    }\n",
              "</style>\n",
              "<table border=\"1\" class=\"dataframe\">\n",
              "  <thead>\n",
              "    <tr style=\"text-align: right;\">\n",
              "      <th></th>\n",
              "      <th>sepal length (cm)</th>\n",
              "      <th>sepal width (cm)</th>\n",
              "      <th>petal length (cm)</th>\n",
              "      <th>petal width (cm)</th>\n",
              "      <th>target</th>\n",
              "      <th>flower_name</th>\n",
              "    </tr>\n",
              "  </thead>\n",
              "  <tbody>\n",
              "    <tr>\n",
              "      <th>45</th>\n",
              "      <td>4.8</td>\n",
              "      <td>3.0</td>\n",
              "      <td>1.4</td>\n",
              "      <td>0.3</td>\n",
              "      <td>0</td>\n",
              "      <td>setosa</td>\n",
              "    </tr>\n",
              "    <tr>\n",
              "      <th>46</th>\n",
              "      <td>5.1</td>\n",
              "      <td>3.8</td>\n",
              "      <td>1.6</td>\n",
              "      <td>0.2</td>\n",
              "      <td>0</td>\n",
              "      <td>setosa</td>\n",
              "    </tr>\n",
              "    <tr>\n",
              "      <th>47</th>\n",
              "      <td>4.6</td>\n",
              "      <td>3.2</td>\n",
              "      <td>1.4</td>\n",
              "      <td>0.2</td>\n",
              "      <td>0</td>\n",
              "      <td>setosa</td>\n",
              "    </tr>\n",
              "    <tr>\n",
              "      <th>48</th>\n",
              "      <td>5.3</td>\n",
              "      <td>3.7</td>\n",
              "      <td>1.5</td>\n",
              "      <td>0.2</td>\n",
              "      <td>0</td>\n",
              "      <td>setosa</td>\n",
              "    </tr>\n",
              "    <tr>\n",
              "      <th>49</th>\n",
              "      <td>5.0</td>\n",
              "      <td>3.3</td>\n",
              "      <td>1.4</td>\n",
              "      <td>0.2</td>\n",
              "      <td>0</td>\n",
              "      <td>setosa</td>\n",
              "    </tr>\n",
              "    <tr>\n",
              "      <th>50</th>\n",
              "      <td>7.0</td>\n",
              "      <td>3.2</td>\n",
              "      <td>4.7</td>\n",
              "      <td>1.4</td>\n",
              "      <td>1</td>\n",
              "      <td>versicolor</td>\n",
              "    </tr>\n",
              "    <tr>\n",
              "      <th>51</th>\n",
              "      <td>6.4</td>\n",
              "      <td>3.2</td>\n",
              "      <td>4.5</td>\n",
              "      <td>1.5</td>\n",
              "      <td>1</td>\n",
              "      <td>versicolor</td>\n",
              "    </tr>\n",
              "    <tr>\n",
              "      <th>52</th>\n",
              "      <td>6.9</td>\n",
              "      <td>3.1</td>\n",
              "      <td>4.9</td>\n",
              "      <td>1.5</td>\n",
              "      <td>1</td>\n",
              "      <td>versicolor</td>\n",
              "    </tr>\n",
              "    <tr>\n",
              "      <th>53</th>\n",
              "      <td>5.5</td>\n",
              "      <td>2.3</td>\n",
              "      <td>4.0</td>\n",
              "      <td>1.3</td>\n",
              "      <td>1</td>\n",
              "      <td>versicolor</td>\n",
              "    </tr>\n",
              "    <tr>\n",
              "      <th>54</th>\n",
              "      <td>6.5</td>\n",
              "      <td>2.8</td>\n",
              "      <td>4.6</td>\n",
              "      <td>1.5</td>\n",
              "      <td>1</td>\n",
              "      <td>versicolor</td>\n",
              "    </tr>\n",
              "  </tbody>\n",
              "</table>\n",
              "</div>\n",
              "      <button class=\"colab-df-convert\" onclick=\"convertToInteractive('df-43f01bad-3a82-419d-9333-a617d248d749')\"\n",
              "              title=\"Convert this dataframe to an interactive table.\"\n",
              "              style=\"display:none;\">\n",
              "        \n",
              "  <svg xmlns=\"http://www.w3.org/2000/svg\" height=\"24px\"viewBox=\"0 0 24 24\"\n",
              "       width=\"24px\">\n",
              "    <path d=\"M0 0h24v24H0V0z\" fill=\"none\"/>\n",
              "    <path d=\"M18.56 5.44l.94 2.06.94-2.06 2.06-.94-2.06-.94-.94-2.06-.94 2.06-2.06.94zm-11 1L8.5 8.5l.94-2.06 2.06-.94-2.06-.94L8.5 2.5l-.94 2.06-2.06.94zm10 10l.94 2.06.94-2.06 2.06-.94-2.06-.94-.94-2.06-.94 2.06-2.06.94z\"/><path d=\"M17.41 7.96l-1.37-1.37c-.4-.4-.92-.59-1.43-.59-.52 0-1.04.2-1.43.59L10.3 9.45l-7.72 7.72c-.78.78-.78 2.05 0 2.83L4 21.41c.39.39.9.59 1.41.59.51 0 1.02-.2 1.41-.59l7.78-7.78 2.81-2.81c.8-.78.8-2.07 0-2.86zM5.41 20L4 18.59l7.72-7.72 1.47 1.35L5.41 20z\"/>\n",
              "  </svg>\n",
              "      </button>\n",
              "      \n",
              "  <style>\n",
              "    .colab-df-container {\n",
              "      display:flex;\n",
              "      flex-wrap:wrap;\n",
              "      gap: 12px;\n",
              "    }\n",
              "\n",
              "    .colab-df-convert {\n",
              "      background-color: #E8F0FE;\n",
              "      border: none;\n",
              "      border-radius: 50%;\n",
              "      cursor: pointer;\n",
              "      display: none;\n",
              "      fill: #1967D2;\n",
              "      height: 32px;\n",
              "      padding: 0 0 0 0;\n",
              "      width: 32px;\n",
              "    }\n",
              "\n",
              "    .colab-df-convert:hover {\n",
              "      background-color: #E2EBFA;\n",
              "      box-shadow: 0px 1px 2px rgba(60, 64, 67, 0.3), 0px 1px 3px 1px rgba(60, 64, 67, 0.15);\n",
              "      fill: #174EA6;\n",
              "    }\n",
              "\n",
              "    [theme=dark] .colab-df-convert {\n",
              "      background-color: #3B4455;\n",
              "      fill: #D2E3FC;\n",
              "    }\n",
              "\n",
              "    [theme=dark] .colab-df-convert:hover {\n",
              "      background-color: #434B5C;\n",
              "      box-shadow: 0px 1px 3px 1px rgba(0, 0, 0, 0.15);\n",
              "      filter: drop-shadow(0px 1px 2px rgba(0, 0, 0, 0.3));\n",
              "      fill: #FFFFFF;\n",
              "    }\n",
              "  </style>\n",
              "\n",
              "      <script>\n",
              "        const buttonEl =\n",
              "          document.querySelector('#df-43f01bad-3a82-419d-9333-a617d248d749 button.colab-df-convert');\n",
              "        buttonEl.style.display =\n",
              "          google.colab.kernel.accessAllowed ? 'block' : 'none';\n",
              "\n",
              "        async function convertToInteractive(key) {\n",
              "          const element = document.querySelector('#df-43f01bad-3a82-419d-9333-a617d248d749');\n",
              "          const dataTable =\n",
              "            await google.colab.kernel.invokeFunction('convertToInteractive',\n",
              "                                                     [key], {});\n",
              "          if (!dataTable) return;\n",
              "\n",
              "          const docLinkHtml = 'Like what you see? Visit the ' +\n",
              "            '<a target=\"_blank\" href=https://colab.research.google.com/notebooks/data_table.ipynb>data table notebook</a>'\n",
              "            + ' to learn more about interactive tables.';\n",
              "          element.innerHTML = '';\n",
              "          dataTable['output_type'] = 'display_data';\n",
              "          await google.colab.output.renderOutput(dataTable, element);\n",
              "          const docLink = document.createElement('div');\n",
              "          docLink.innerHTML = docLinkHtml;\n",
              "          element.appendChild(docLink);\n",
              "        }\n",
              "      </script>\n",
              "    </div>\n",
              "  </div>\n",
              "  "
            ]
          },
          "metadata": {},
          "execution_count": 42
        }
      ]
    },
    {
      "cell_type": "code",
      "metadata": {
        "id": "MMo2QI_mKzx0"
      },
      "source": [
        "df0 = df[:50]\n",
        "df1 = df[50:100]\n",
        "df2 = df[100:]"
      ],
      "execution_count": null,
      "outputs": []
    },
    {
      "cell_type": "markdown",
      "metadata": {
        "id": "BCbJLLA5K7Qu"
      },
      "source": [
        "**Sepal length vs Sepal Width (Setosa vs Versicolor)**"
      ]
    },
    {
      "cell_type": "code",
      "metadata": {
        "id": "0PSt5oUSK2GC",
        "colab": {
          "base_uri": "https://localhost:8080/",
          "height": 300
        },
        "outputId": "a56a41f9-ab00-4eb0-e4e0-d6eb16588b21"
      },
      "source": [
        "plt.xlabel('Sepal Length')\n",
        "plt.ylabel('Sepal Width')\n",
        "plt.scatter(df0['sepal length (cm)'], df0['sepal width (cm)'],color=\"green\",marker='+')\n",
        "plt.scatter(df1['sepal length (cm)'], df1['sepal width (cm)'],color=\"blue\",marker='.')"
      ],
      "execution_count": null,
      "outputs": [
        {
          "output_type": "execute_result",
          "data": {
            "text/plain": [
              "<matplotlib.collections.PathCollection at 0x7f2e0be70a90>"
            ]
          },
          "metadata": {},
          "execution_count": 44
        },
        {
          "output_type": "display_data",
          "data": {
            "text/plain": [
              "<Figure size 432x288 with 1 Axes>"
            ],
            "image/png": "[encoded data removed]"
          },
          "metadata": {
            "needs_background": "light"
          }
        }
      ]
    },
    {
      "cell_type": "markdown",
      "metadata": {
        "id": "uMb7B7YvLBFK"
      },
      "source": [
        "**Petal length vs Pepal Width (Setosa vs Versicolor)**"
      ]
    },
    {
      "cell_type": "code",
      "metadata": {
        "id": "k_0uVsMNLAOg",
        "colab": {
          "base_uri": "https://localhost:8080/",
          "height": 297
        },
        "outputId": "97830bfd-0d4c-47c0-ac6a-247bd3091c23"
      },
      "source": [
        "plt.xlabel('Petal Length')\n",
        "plt.ylabel('Petal Width')\n",
        "plt.scatter(df0['petal length (cm)'], df0['petal width (cm)'],color=\"green\",marker='+')\n",
        "plt.scatter(df1['petal length (cm)'], df1['petal width (cm)'],color=\"blue\",marker='.')"
      ],
      "execution_count": null,
      "outputs": [
        {
          "output_type": "execute_result",
          "data": {
            "text/plain": [
              "<matplotlib.collections.PathCollection at 0x7f2e0be40fd0>"
            ]
          },
          "metadata": {},
          "execution_count": 45
        },
        {
          "output_type": "display_data",
          "data": {
            "text/plain": [
              "<Figure size 432x288 with 1 Axes>"
            ],
            "image/png": "[encoded data removed]"
          },
          "metadata": {
            "needs_background": "light"
          }
        }
      ]
    },
    {
      "cell_type": "markdown",
      "metadata": {
        "id": "04ju8k2jLKk3"
      },
      "source": [
        "**Train Using Support Vector Machine (SVM)**"
      ]
    },
    {
      "cell_type": "code",
      "metadata": {
        "id": "xE77og-tLHsa"
      },
      "source": [
        "## Separating Input/Output Varaiables and Creating Training-Testing Sets\n",
        "\n",
        "X = df.drop(['target','flower_name'], axis='columns')\n",
        "y = df.target\n",
        "\n",
        "X_train, X_test, y_train, y_test = train_test_split(X, y, test_size=0.2)"
      ],
      "execution_count": null,
      "outputs": []
    },
    {
      "cell_type": "code",
      "metadata": {
        "id": "Bk9nXT03LU59"
      },
      "source": [
        "from sklearn.svm import SVC\n",
        "model = SVC()"
      ],
      "execution_count": null,
      "outputs": []
    },
    {
      "cell_type": "code",
      "metadata": {
        "id": "phAMw7veLXwF",
        "colab": {
          "base_uri": "https://localhost:8080/"
        },
        "outputId": "3944e5e6-e98b-4d65-d68e-b388e04fa083"
      },
      "source": [
        "model.fit(X_train, y_train)"
      ],
      "execution_count": null,
      "outputs": [
        {
          "output_type": "execute_result",
          "data": {
            "text/plain": [
              "SVC()"
            ]
          },
          "metadata": {},
          "execution_count": 48
        }
      ]
    },
    {
      "cell_type": "code",
      "metadata": {
        "id": "_Jrpk1A0La7E",
        "colab": {
          "base_uri": "https://localhost:8080/"
        },
        "outputId": "34a4753f-4dc8-4fb8-fd1d-1ce0c82eaae9"
      },
      "source": [
        "model.score(X_test, y_test)"
      ],
      "execution_count": null,
      "outputs": [
        {
          "output_type": "execute_result",
          "data": {
            "text/plain": [
              "0.9666666666666667"
            ]
          },
          "metadata": {},
          "execution_count": 49
        }
      ]
    },
    {
      "cell_type": "code",
      "metadata": {
        "id": "HCsJ_4FhLdF2",
        "colab": {
          "base_uri": "https://localhost:8080/"
        },
        "outputId": "c88fe14c-c042-469f-fdeb-aa7587ea5cb6"
      },
      "source": [
        "model.predict([[4.8,3.0,1.5,0.3]])"
      ],
      "execution_count": null,
      "outputs": [
        {
          "output_type": "stream",
          "name": "stderr",
          "text": [
            "/usr/local/lib/python3.8/dist-packages/sklearn/base.py:450: UserWarning: X does not have valid feature names, but SVC was fitted with feature names\n",
            "  warnings.warn(\n"
          ]
        },
        {
          "output_type": "execute_result",
          "data": {
            "text/plain": [
              "array([0])"
            ]
          },
          "metadata": {},
          "execution_count": 50
        }
      ]
    },
    {
      "cell_type": "markdown",
      "metadata": {
        "id": "EgiWNNxVLlHV"
      },
      "source": [
        "**Parameter Tuning**"
      ]
    },
    {
      "cell_type": "markdown",
      "source": [],
      "metadata": {
        "id": "2_E4YF29Xg2q"
      }
    },
    {
      "cell_type": "code",
      "metadata": {
        "id": "uSV0t3hALhOq",
        "colab": {
          "base_uri": "https://localhost:8080/"
        },
        "outputId": "095ad9bf-c8ad-4bf2-bfbb-2ae00337f99f"
      },
      "source": [
        "## 1. Regularization (C)\n",
        "\n",
        "model_C = SVC(C=1)\n",
        "model_C.fit(X_train, y_train)\n",
        "model_C.score(X_test, y_test)"
      ],
      "execution_count": null,
      "outputs": [
        {
          "output_type": "execute_result",
          "data": {
            "text/plain": [
              "0.9666666666666667"
            ]
          },
          "metadata": {},
          "execution_count": 51
        }
      ]
    },
    {
      "cell_type": "code",
      "metadata": {
        "id": "tNG80iSqLq1w",
        "colab": {
          "base_uri": "https://localhost:8080/"
        },
        "outputId": "0f609b14-c4ab-4168-d197-301123dbbf7f"
      },
      "source": [
        "model_C = SVC(C=10)\n",
        "model_C.fit(X_train, y_train)\n",
        "model_C.score(X_test, y_test)"
      ],
      "execution_count": null,
      "outputs": [
        {
          "output_type": "execute_result",
          "data": {
            "text/plain": [
              "0.9666666666666667"
            ]
          },
          "metadata": {},
          "execution_count": 52
        }
      ]
    },
    {
      "cell_type": "code",
      "metadata": {
        "id": "wehiz790LtS5",
        "colab": {
          "base_uri": "https://localhost:8080/"
        },
        "outputId": "34f1b460-1974-4efc-ea1d-9544bad77b03"
      },
      "source": [
        "## 2. Gamma\n",
        "\n",
        "model_g = SVC(gamma=10)\n",
        "model_g.fit(X_train, y_train)\n",
        "model_g.score(X_test, y_test)"
      ],
      "execution_count": null,
      "outputs": [
        {
          "output_type": "execute_result",
          "data": {
            "text/plain": [
              "0.9666666666666667"
            ]
          },
          "metadata": {},
          "execution_count": 53
        }
      ]
    },
    {
      "cell_type": "code",
      "metadata": {
        "id": "-G2mUDO2L1CK",
        "colab": {
          "base_uri": "https://localhost:8080/"
        },
        "outputId": "3cfea136-2885-4107-c813-5ebaaaeb0cbc"
      },
      "source": [
        "## 3. Kernel\n",
        "\n",
        "model_linear_kernal = SVC(kernel='linear')\n",
        "model_linear_kernal.fit(X_train, y_train)"
      ],
      "execution_count": null,
      "outputs": [
        {
          "output_type": "execute_result",
          "data": {
            "text/plain": [
              "SVC(kernel='linear')"
            ]
          },
          "metadata": {},
          "execution_count": 54
        }
      ]
    },
    {
      "cell_type": "code",
      "metadata": {
        "id": "l7xxT1SdL5wu",
        "colab": {
          "base_uri": "https://localhost:8080/"
        },
        "outputId": "5647f673-2b80-422c-ab35-f7f7dd05589e"
      },
      "source": [
        "model_linear_kernal.score(X_test, y_test)"
      ],
      "execution_count": null,
      "outputs": [
        {
          "output_type": "execute_result",
          "data": {
            "text/plain": [
              "0.9666666666666667"
            ]
          },
          "metadata": {},
          "execution_count": 55
        }
      ]
    },
    {
      "cell_type": "code",
      "metadata": {
        "id": "9SUWSimaZx2z"
      },
      "source": [
        "y_pred = model_linear_kernal.predict(X_test)"
      ],
      "execution_count": null,
      "outputs": []
    },
    {
      "cell_type": "code",
      "metadata": {
        "id": "WXIdRFk9gU2i",
        "colab": {
          "base_uri": "https://localhost:8080/"
        },
        "outputId": "37cc3e4d-d935-4ae7-fee1-531c66c6b9a6"
      },
      "source": [
        "## Model Performance - Confusion Matrix\n",
        "\n",
        "from sklearn.metrics import confusion_matrix\n",
        "\n",
        "print(\"Confusion Matrix: \")\n",
        "print(confusion_matrix(y_test, y_pred))"
      ],
      "execution_count": null,
      "outputs": [
        {
          "output_type": "stream",
          "name": "stdout",
          "text": [
            "Confusion Matrix: \n",
            "[[11  0  0]\n",
            " [ 0  8  1]\n",
            " [ 0  0 10]]\n"
          ]
        }
      ]
    },
    {
      "cell_type": "code",
      "metadata": {
        "id": "1LghEZRvd-dU",
        "colab": {
          "base_uri": "https://localhost:8080/"
        },
        "outputId": "f2d308b8-9189-4d46-c573-eb98427d0696"
      },
      "source": [
        "## Model Performance - Classification Report\n",
        "\n",
        "from sklearn import metrics\n",
        "#  accuracy\n",
        "print(\"acuracy:\", metrics.accuracy_score(y_test,y_pred))\n",
        "#  precision score\n",
        "print(\"precision:\", metrics.precision_score(y_test,y_pred, average='macro'))\n",
        "#  recall score\n",
        "print(\"recall\" , metrics.recall_score(y_test,y_pred, average='macro'))\n",
        "print(metrics.classification_report(y_test, y_pred))"
      ],
      "execution_count": null,
      "outputs": [
        {
          "output_type": "stream",
          "name": "stdout",
          "text": [
            "acuracy: 0.9666666666666667\n",
            "precision: 0.9696969696969697\n",
            "recall 0.9629629629629629\n",
            "              precision    recall  f1-score   support\n",
            "\n",
            "           0       1.00      1.00      1.00        11\n",
            "           1       1.00      0.89      0.94         9\n",
            "           2       0.91      1.00      0.95        10\n",
            "\n",
            "    accuracy                           0.97        30\n",
            "   macro avg       0.97      0.96      0.96        30\n",
            "weighted avg       0.97      0.97      0.97        30\n",
            "\n"
          ]
        }
      ]
    },
    {
      "cell_type": "code",
      "metadata": {
        "id": "S9OMCSCxZ8p4",
        "colab": {
          "base_uri": "https://localhost:8080/",
          "height": 295
        },
        "outputId": "65fbb3f4-5a13-448a-c61a-35d5a86e66f3"
      },
      "source": [
        "## Visulaizing the Results  \n",
        "\n",
        "from matplotlib.colors import ListedColormap \n",
        "\n",
        "X = iris.data[:, :2]\n",
        "y = iris.target\n",
        "\n",
        "C = 1.0 # SVM regularization parameter\n",
        "svc = SVC(kernel='linear', C=1).fit(X, y)\n",
        "\n",
        "# create a mesh to plot in\n",
        "x_min, x_max = X[:, 0].min() - 1, X[:, 0].max() + 1\n",
        "y_min, y_max = X[:, 1].min() - 1, X[:, 1].max() + 1\n",
        "h = (x_max / x_min)/100\n",
        "xx, yy = np.meshgrid(np.arange(x_min, x_max, h), np.arange(y_min, y_max, h))\n",
        "\n",
        "plt.subplot(1, 1, 1)\n",
        "Z = svc.predict(np.c_[xx.ravel(), yy.ravel()])\n",
        "Z = Z.reshape(xx.shape)\n",
        "plt.contourf(xx, yy, Z, cmap=plt.cm.Paired, alpha=0.8)\n",
        "\n",
        "plt.scatter(X[:, 0], X[:, 1], c=y, cmap=plt.cm.Paired)\n",
        "plt.xlabel('Sepal length')\n",
        "plt.ylabel('Sepal width')\n",
        "plt.xlim(xx.min(), xx.max())\n",
        "plt.title('SVC with linear kernel')\n",
        "plt.show()"
      ],
      "execution_count": null,
      "outputs": [
        {
          "output_type": "display_data",
          "data": {
            "text/plain": [
              "<Figure size 432x288 with 1 Axes>"
            ],
            "image/png": "[encoded data removed]"
          },
          "metadata": {
            "needs_background": "light"
          }
        }
      ]
    },
    {
      "cell_type": "code",
      "metadata": {
        "id": "D03CDi8IculV",
        "colab": {
          "base_uri": "https://localhost:8080/",
          "height": 295
        },
        "outputId": "a7121713-1c08-427b-d4e7-fcce0784cb9d"
      },
      "source": [
        "C = 1.0 # SVM regularization parameter\n",
        "svc = SVC(kernel='rbf', C=100, gamma=0.01).fit(X, y)\n",
        "\n",
        "# create a mesh to plot in\n",
        "x_min, x_max = X[:, 0].min() - 1, X[:, 0].max() + 1\n",
        "y_min, y_max = X[:, 1].min() - 1, X[:, 1].max() + 1\n",
        "h = (x_max / x_min)/100\n",
        "xx, yy = np.meshgrid(np.arange(x_min, x_max, h), np.arange(y_min, y_max, h))\n",
        "\n",
        "plt.subplot(1, 1, 1)\n",
        "Z = svc.predict(np.c_[xx.ravel(), yy.ravel()])\n",
        "Z = Z.reshape(xx.shape)\n",
        "plt.contourf(xx, yy, Z, cmap=plt.cm.Paired, alpha=0.8)\n",
        "\n",
        "plt.scatter(X[:, 0], X[:, 1], c=y, cmap=plt.cm.Paired)\n",
        "plt.xlabel('Sepal length')\n",
        "plt.ylabel('Sepal width')\n",
        "plt.xlim(xx.min(), xx.max())\n",
        "plt.title('SVC with rbf kernel')\n",
        "plt.show()"
      ],
      "execution_count": null,
      "outputs": [
        {
          "output_type": "display_data",
          "data": {
            "text/plain": [
              "<Figure size 432x288 with 1 Axes>"
            ],
            "image/png": "[encoded data removed]"
          },
          "metadata": {
            "needs_background": "light"
          }
        }
      ]
    },
    {
      "cell_type": "code",
      "metadata": {
        "id": "4sILuoUPc3O8",
        "colab": {
          "base_uri": "https://localhost:8080/",
          "height": 295
        },
        "outputId": "930cc686-a562-4274-8fd1-e53dfd2d0892"
      },
      "source": [
        "C = 1.0 # SVM regularization parameter\n",
        "svc = SVC(kernel='rbf', C=10, gamma=10).fit(X, y)\n",
        "\n",
        "# create a mesh to plot in\n",
        "x_min, x_max = X[:, 0].min() - 1, X[:, 0].max() + 1\n",
        "y_min, y_max = X[:, 1].min() - 1, X[:, 1].max() + 1\n",
        "h = (x_max / x_min)/100\n",
        "xx, yy = np.meshgrid(np.arange(x_min, x_max, h), np.arange(y_min, y_max, h))\n",
        "\n",
        "plt.subplot(1, 1, 1)\n",
        "Z = svc.predict(np.c_[xx.ravel(), yy.ravel()])\n",
        "Z = Z.reshape(xx.shape)\n",
        "plt.contourf(xx, yy, Z, cmap=plt.cm.Paired, alpha=0.8)\n",
        "\n",
        "plt.scatter(X[:, 0], X[:, 1], c=y, cmap=plt.cm.Paired)\n",
        "plt.xlabel('Sepal length')\n",
        "plt.ylabel('Sepal width')\n",
        "plt.xlim(xx.min(), xx.max())\n",
        "plt.title('SVC with rbf kernel')\n",
        "plt.show()"
      ],
      "execution_count": null,
      "outputs": [
        {
          "output_type": "display_data",
          "data": {
            "text/plain": [
              "<Figure size 432x288 with 1 Axes>"
            ],
            "image/png": "[encoded data removed]"
          },
          "metadata": {
            "needs_background": "light"
          }
        }
      ]
    },
    {
      "cell_type": "markdown",
      "metadata": {
        "id": "F2NfxHFSfT2g"
      },
      "source": [
        "**Prameter Finetuning through GridSearch**"
      ]
    },
    {
      "cell_type": "code",
      "metadata": {
        "id": "rypmIHNpfSno",
        "colab": {
          "base_uri": "https://localhost:8080/"
        },
        "outputId": "62c9f94d-6e26-4ac5-d282-547033d6653b"
      },
      "source": [
        "from sklearn.model_selection import GridSearchCV\n",
        "\n",
        "param_grid = {'C':(1, 10, 100, 1000), 'gamma':(0.1, 0.01, 0.001, 0.0001)}\n",
        "\n",
        "grid_search = GridSearchCV(svc, param_grid, cv=10, verbose=10)\n",
        "\n",
        "grid_search.fit(X_train, y_train)"
      ],
      "execution_count": null,
      "outputs": [
        {
          "output_type": "stream",
          "name": "stdout",
          "text": [
            "Fitting 10 folds for each of 16 candidates, totalling 160 fits\n",
            "[CV 1/10; 1/16] START C=1, gamma=0.1............................................\n",
            "[CV 1/10; 1/16] END .............C=1, gamma=0.1;, score=1.000 total time=   0.0s\n",
            "[CV 2/10; 1/16] START C=1, gamma=0.1............................................\n",
            "[CV 2/10; 1/16] END .............C=1, gamma=0.1;, score=0.833 total time=   0.0s\n",
            "[CV 3/10; 1/16] START C=1, gamma=0.1............................................\n",
            "[CV 3/10; 1/16] END .............C=1, gamma=0.1;, score=0.917 total time=   0.0s\n",
            "[CV 4/10; 1/16] START C=1, gamma=0.1............................................\n",
            "[CV 4/10; 1/16] END .............C=1, gamma=0.1;, score=1.000 total time=   0.0s\n",
            "[CV 5/10; 1/16] START C=1, gamma=0.1............................................\n",
            "[CV 5/10; 1/16] END .............C=1, gamma=0.1;, score=0.917 total time=   0.0s\n",
            "[CV 6/10; 1/16] START C=1, gamma=0.1............................................\n",
            "[CV 6/10; 1/16] END .............C=1, gamma=0.1;, score=0.917 total time=   0.0s\n",
            "[CV 7/10; 1/16] START C=1, gamma=0.1............................................\n",
            "[CV 7/10; 1/16] END .............C=1, gamma=0.1;, score=1.000 total time=   0.0s\n",
            "[CV 8/10; 1/16] START C=1, gamma=0.1............................................\n",
            "[CV 8/10; 1/16] END .............C=1, gamma=0.1;, score=1.000 total time=   0.0s\n",
            "[CV 9/10; 1/16] START C=1, gamma=0.1............................................\n",
            "[CV 9/10; 1/16] END .............C=1, gamma=0.1;, score=1.000 total time=   0.0s\n",
            "[CV 10/10; 1/16] START C=1, gamma=0.1...........................................\n",
            "[CV 10/10; 1/16] END ............C=1, gamma=0.1;, score=0.917 total time=   0.0s\n",
            "[CV 1/10; 2/16] START C=1, gamma=0.01...........................................\n",
            "[CV 1/10; 2/16] END ............C=1, gamma=0.01;, score=1.000 total time=   0.0s\n",
            "[CV 2/10; 2/16] START C=1, gamma=0.01...........................................\n",
            "[CV 2/10; 2/16] END ............C=1, gamma=0.01;, score=0.833 total time=   0.0s\n",
            "[CV 3/10; 2/16] START C=1, gamma=0.01...........................................\n",
            "[CV 3/10; 2/16] END ............C=1, gamma=0.01;, score=0.917 total time=   0.0s\n",
            "[CV 4/10; 2/16] START C=1, gamma=0.01...........................................\n",
            "[CV 4/10; 2/16] END ............C=1, gamma=0.01;, score=1.000 total time=   0.0s\n",
            "[CV 5/10; 2/16] START C=1, gamma=0.01...........................................\n",
            "[CV 5/10; 2/16] END ............C=1, gamma=0.01;, score=0.917 total time=   0.0s\n",
            "[CV 6/10; 2/16] START C=1, gamma=0.01...........................................\n",
            "[CV 6/10; 2/16] END ............C=1, gamma=0.01;, score=0.917 total time=   0.0s\n",
            "[CV 7/10; 2/16] START C=1, gamma=0.01...........................................\n",
            "[CV 7/10; 2/16] END ............C=1, gamma=0.01;, score=0.917 total time=   0.0s\n",
            "[CV 8/10; 2/16] START C=1, gamma=0.01...........................................\n",
            "[CV 8/10; 2/16] END ............C=1, gamma=0.01;, score=1.000 total time=   0.0s\n",
            "[CV 9/10; 2/16] START C=1, gamma=0.01...........................................\n",
            "[CV 9/10; 2/16] END ............C=1, gamma=0.01;, score=1.000 total time=   0.0s\n",
            "[CV 10/10; 2/16] START C=1, gamma=0.01..........................................\n",
            "[CV 10/10; 2/16] END ...........C=1, gamma=0.01;, score=1.000 total time=   0.0s\n",
            "[CV 1/10; 3/16] START C=1, gamma=0.001..........................................\n",
            "[CV 1/10; 3/16] END ...........C=1, gamma=0.001;, score=0.917 total time=   0.0s\n",
            "[CV 2/10; 3/16] START C=1, gamma=0.001..........................................\n",
            "[CV 2/10; 3/16] END ...........C=1, gamma=0.001;, score=0.333 total time=   0.0s\n",
            "[CV 3/10; 3/16] START C=1, gamma=0.001..........................................\n",
            "[CV 3/10; 3/16] END ...........C=1, gamma=0.001;, score=0.333 total time=   0.0s\n",
            "[CV 4/10; 3/16] START C=1, gamma=0.001..........................................\n",
            "[CV 4/10; 3/16] END ...........C=1, gamma=0.001;, score=0.333 total time=   0.0s\n",
            "[CV 5/10; 3/16] START C=1, gamma=0.001..........................................\n",
            "[CV 5/10; 3/16] END ...........C=1, gamma=0.001;, score=0.333 total time=   0.0s\n",
            "[CV 6/10; 3/16] START C=1, gamma=0.001..........................................\n",
            "[CV 6/10; 3/16] END ...........C=1, gamma=0.001;, score=0.333 total time=   0.0s\n",
            "[CV 7/10; 3/16] START C=1, gamma=0.001..........................................\n",
            "[CV 7/10; 3/16] END ...........C=1, gamma=0.001;, score=0.333 total time=   0.0s\n",
            "[CV 8/10; 3/16] START C=1, gamma=0.001..........................................\n",
            "[CV 8/10; 3/16] END ...........C=1, gamma=0.001;, score=0.333 total time=   0.0s\n",
            "[CV 9/10; 3/16] START C=1, gamma=0.001..........................................\n",
            "[CV 9/10; 3/16] END ...........C=1, gamma=0.001;, score=0.417 total time=   0.0s\n",
            "[CV 10/10; 3/16] START C=1, gamma=0.001.........................................\n",
            "[CV 10/10; 3/16] END ..........C=1, gamma=0.001;, score=0.333 total time=   0.0s\n",
            "[CV 1/10; 4/16] START C=1, gamma=0.0001.........................................\n",
            "[CV 1/10; 4/16] END ..........C=1, gamma=0.0001;, score=0.917 total time=   0.0s\n",
            "[CV 2/10; 4/16] START C=1, gamma=0.0001.........................................\n",
            "[CV 2/10; 4/16] END ..........C=1, gamma=0.0001;, score=0.333 total time=   0.0s\n",
            "[CV 3/10; 4/16] START C=1, gamma=0.0001.........................................\n",
            "[CV 3/10; 4/16] END ..........C=1, gamma=0.0001;, score=0.333 total time=   0.0s\n",
            "[CV 4/10; 4/16] START C=1, gamma=0.0001.........................................\n",
            "[CV 4/10; 4/16] END ..........C=1, gamma=0.0001;, score=0.333 total time=   0.0s\n",
            "[CV 5/10; 4/16] START C=1, gamma=0.0001.........................................\n",
            "[CV 5/10; 4/16] END ..........C=1, gamma=0.0001;, score=0.333 total time=   0.0s\n",
            "[CV 6/10; 4/16] START C=1, gamma=0.0001.........................................\n",
            "[CV 6/10; 4/16] END ..........C=1, gamma=0.0001;, score=0.333 total time=   0.0s\n",
            "[CV 7/10; 4/16] START C=1, gamma=0.0001.........................................\n",
            "[CV 7/10; 4/16] END ..........C=1, gamma=0.0001;, score=0.333 total time=   0.0s\n",
            "[CV 8/10; 4/16] START C=1, gamma=0.0001.........................................\n",
            "[CV 8/10; 4/16] END ..........C=1, gamma=0.0001;, score=0.333 total time=   0.0s\n",
            "[CV 9/10; 4/16] START C=1, gamma=0.0001.........................................\n",
            "[CV 9/10; 4/16] END ..........C=1, gamma=0.0001;, score=0.333 total time=   0.0s\n",
            "[CV 10/10; 4/16] START C=1, gamma=0.0001........................................\n",
            "[CV 10/10; 4/16] END .........C=1, gamma=0.0001;, score=0.333 total time=   0.0s\n",
            "[CV 1/10; 5/16] START C=10, gamma=0.1...........................................\n",
            "[CV 1/10; 5/16] END ............C=10, gamma=0.1;, score=1.000 total time=   0.0s\n",
            "[CV 2/10; 5/16] START C=10, gamma=0.1...........................................\n",
            "[CV 2/10; 5/16] END ............C=10, gamma=0.1;, score=0.833 total time=   0.0s\n",
            "[CV 3/10; 5/16] START C=10, gamma=0.1...........................................\n",
            "[CV 3/10; 5/16] END ............C=10, gamma=0.1;, score=1.000 total time=   0.0s\n",
            "[CV 4/10; 5/16] START C=10, gamma=0.1...........................................\n",
            "[CV 4/10; 5/16] END ............C=10, gamma=0.1;, score=1.000 total time=   0.0s\n",
            "[CV 5/10; 5/16] START C=10, gamma=0.1...........................................\n",
            "[CV 5/10; 5/16] END ............C=10, gamma=0.1;, score=1.000 total time=   0.0s\n",
            "[CV 6/10; 5/16] START C=10, gamma=0.1...........................................\n",
            "[CV 6/10; 5/16] END ............C=10, gamma=0.1;, score=0.917 total time=   0.0s\n",
            "[CV 7/10; 5/16] START C=10, gamma=0.1...........................................\n",
            "[CV 7/10; 5/16] END ............C=10, gamma=0.1;, score=1.000 total time=   0.0s\n",
            "[CV 8/10; 5/16] START C=10, gamma=0.1...........................................\n",
            "[CV 8/10; 5/16] END ............C=10, gamma=0.1;, score=1.000 total time=   0.0s\n",
            "[CV 9/10; 5/16] START C=10, gamma=0.1...........................................\n",
            "[CV 9/10; 5/16] END ............C=10, gamma=0.1;, score=1.000 total time=   0.0s\n",
            "[CV 10/10; 5/16] START C=10, gamma=0.1..........................................\n",
            "[CV 10/10; 5/16] END ...........C=10, gamma=0.1;, score=0.917 total time=   0.0s\n",
            "[CV 1/10; 6/16] START C=10, gamma=0.01..........................................\n",
            "[CV 1/10; 6/16] END ...........C=10, gamma=0.01;, score=1.000 total time=   0.0s\n",
            "[CV 2/10; 6/16] START C=10, gamma=0.01..........................................\n",
            "[CV 2/10; 6/16] END ...........C=10, gamma=0.01;, score=0.833 total time=   0.0s\n",
            "[CV 3/10; 6/16] START C=10, gamma=0.01..........................................\n",
            "[CV 3/10; 6/16] END ...........C=10, gamma=0.01;, score=0.917 total time=   0.0s\n",
            "[CV 4/10; 6/16] START C=10, gamma=0.01..........................................\n",
            "[CV 4/10; 6/16] END ...........C=10, gamma=0.01;, score=1.000 total time=   0.0s\n",
            "[CV 5/10; 6/16] START C=10, gamma=0.01..........................................\n",
            "[CV 5/10; 6/16] END ...........C=10, gamma=0.01;, score=0.917 total time=   0.0s\n",
            "[CV 6/10; 6/16] START C=10, gamma=0.01..........................................\n",
            "[CV 6/10; 6/16] END ...........C=10, gamma=0.01;, score=0.917 total time=   0.0s\n",
            "[CV 7/10; 6/16] START C=10, gamma=0.01..........................................\n",
            "[CV 7/10; 6/16] END ...........C=10, gamma=0.01;, score=1.000 total time=   0.0s\n",
            "[CV 8/10; 6/16] START C=10, gamma=0.01..........................................\n",
            "[CV 8/10; 6/16] END ...........C=10, gamma=0.01;, score=1.000 total time=   0.0s\n",
            "[CV 9/10; 6/16] START C=10, gamma=0.01..........................................\n",
            "[CV 9/10; 6/16] END ...........C=10, gamma=0.01;, score=1.000 total time=   0.0s\n",
            "[CV 10/10; 6/16] START C=10, gamma=0.01.........................................\n",
            "[CV 10/10; 6/16] END ..........C=10, gamma=0.01;, score=0.917 total time=   0.0s\n",
            "[CV 1/10; 7/16] START C=10, gamma=0.001.........................................\n",
            "[CV 1/10; 7/16] END ..........C=10, gamma=0.001;, score=1.000 total time=   0.0s\n",
            "[CV 2/10; 7/16] START C=10, gamma=0.001.........................................\n",
            "[CV 2/10; 7/16] END ..........C=10, gamma=0.001;, score=0.833 total time=   0.0s\n",
            "[CV 3/10; 7/16] START C=10, gamma=0.001.........................................\n",
            "[CV 3/10; 7/16] END ..........C=10, gamma=0.001;, score=0.917 total time=   0.0s\n",
            "[CV 4/10; 7/16] START C=10, gamma=0.001.........................................\n",
            "[CV 4/10; 7/16] END ..........C=10, gamma=0.001;, score=1.000 total time=   0.0s\n",
            "[CV 5/10; 7/16] START C=10, gamma=0.001.........................................\n",
            "[CV 5/10; 7/16] END ..........C=10, gamma=0.001;, score=0.833 total time=   0.0s\n",
            "[CV 6/10; 7/16] START C=10, gamma=0.001.........................................\n",
            "[CV 6/10; 7/16] END ..........C=10, gamma=0.001;, score=1.000 total time=   0.0s\n",
            "[CV 7/10; 7/16] START C=10, gamma=0.001.........................................\n",
            "[CV 7/10; 7/16] END ..........C=10, gamma=0.001;, score=0.917 total time=   0.0s\n",
            "[CV 8/10; 7/16] START C=10, gamma=0.001.........................................\n",
            "[CV 8/10; 7/16] END ..........C=10, gamma=0.001;, score=1.000 total time=   0.0s\n",
            "[CV 9/10; 7/16] START C=10, gamma=0.001.........................................\n",
            "[CV 9/10; 7/16] END ..........C=10, gamma=0.001;, score=1.000 total time=   0.0s\n",
            "[CV 10/10; 7/16] START C=10, gamma=0.001........................................\n",
            "[CV 10/10; 7/16] END .........C=10, gamma=0.001;, score=1.000 total time=   0.0s\n",
            "[CV 1/10; 8/16] START C=10, gamma=0.0001........................................\n",
            "[CV 1/10; 8/16] END .........C=10, gamma=0.0001;, score=0.917 total time=   0.0s\n",
            "[CV 2/10; 8/16] START C=10, gamma=0.0001........................................\n",
            "[CV 2/10; 8/16] END .........C=10, gamma=0.0001;, score=0.333 total time=   0.0s\n",
            "[CV 3/10; 8/16] START C=10, gamma=0.0001........................................\n",
            "[CV 3/10; 8/16] END .........C=10, gamma=0.0001;, score=0.333 total time=   0.0s\n",
            "[CV 4/10; 8/16] START C=10, gamma=0.0001........................................\n",
            "[CV 4/10; 8/16] END .........C=10, gamma=0.0001;, score=0.333 total time=   0.0s\n",
            "[CV 5/10; 8/16] START C=10, gamma=0.0001........................................\n",
            "[CV 5/10; 8/16] END .........C=10, gamma=0.0001;, score=0.333 total time=   0.0s\n",
            "[CV 6/10; 8/16] START C=10, gamma=0.0001........................................\n",
            "[CV 6/10; 8/16] END .........C=10, gamma=0.0001;, score=0.333 total time=   0.0s\n",
            "[CV 7/10; 8/16] START C=10, gamma=0.0001........................................\n",
            "[CV 7/10; 8/16] END .........C=10, gamma=0.0001;, score=0.417 total time=   0.0s\n",
            "[CV 8/10; 8/16] START C=10, gamma=0.0001........................................\n",
            "[CV 8/10; 8/16] END .........C=10, gamma=0.0001;, score=0.333 total time=   0.0s\n",
            "[CV 9/10; 8/16] START C=10, gamma=0.0001........................................\n",
            "[CV 9/10; 8/16] END .........C=10, gamma=0.0001;, score=0.417 total time=   0.0s\n",
            "[CV 10/10; 8/16] START C=10, gamma=0.0001.......................................\n",
            "[CV 10/10; 8/16] END ........C=10, gamma=0.0001;, score=0.333 total time=   0.0s\n",
            "[CV 1/10; 9/16] START C=100, gamma=0.1..........................................\n",
            "[CV 1/10; 9/16] END ...........C=100, gamma=0.1;, score=0.917 total time=   0.0s\n",
            "[CV 2/10; 9/16] START C=100, gamma=0.1..........................................\n",
            "[CV 2/10; 9/16] END ...........C=100, gamma=0.1;, score=0.833 total time=   0.0s\n",
            "[CV 3/10; 9/16] START C=100, gamma=0.1..........................................\n",
            "[CV 3/10; 9/16] END ...........C=100, gamma=0.1;, score=1.000 total time=   0.0s\n",
            "[CV 4/10; 9/16] START C=100, gamma=0.1..........................................\n",
            "[CV 4/10; 9/16] END ...........C=100, gamma=0.1;, score=1.000 total time=   0.0s\n",
            "[CV 5/10; 9/16] START C=100, gamma=0.1..........................................\n",
            "[CV 5/10; 9/16] END ...........C=100, gamma=0.1;, score=0.917 total time=   0.0s\n",
            "[CV 6/10; 9/16] START C=100, gamma=0.1..........................................\n",
            "[CV 6/10; 9/16] END ...........C=100, gamma=0.1;, score=0.917 total time=   0.0s\n",
            "[CV 7/10; 9/16] START C=100, gamma=0.1..........................................\n",
            "[CV 7/10; 9/16] END ...........C=100, gamma=0.1;, score=1.000 total time=   0.0s\n",
            "[CV 8/10; 9/16] START C=100, gamma=0.1..........................................\n",
            "[CV 8/10; 9/16] END ...........C=100, gamma=0.1;, score=1.000 total time=   0.0s\n",
            "[CV 9/10; 9/16] START C=100, gamma=0.1..........................................\n",
            "[CV 9/10; 9/16] END ...........C=100, gamma=0.1;, score=1.000 total time=   0.0s\n",
            "[CV 10/10; 9/16] START C=100, gamma=0.1.........................................\n",
            "[CV 10/10; 9/16] END ..........C=100, gamma=0.1;, score=0.917 total time=   0.0s\n",
            "[CV 1/10; 10/16] START C=100, gamma=0.01........................................\n",
            "[CV 1/10; 10/16] END .........C=100, gamma=0.01;, score=1.000 total time=   0.0s\n",
            "[CV 2/10; 10/16] START C=100, gamma=0.01........................................\n",
            "[CV 2/10; 10/16] END .........C=100, gamma=0.01;, score=0.833 total time=   0.0s\n",
            "[CV 3/10; 10/16] START C=100, gamma=0.01........................................\n",
            "[CV 3/10; 10/16] END .........C=100, gamma=0.01;, score=1.000 total time=   0.0s\n",
            "[CV 4/10; 10/16] START C=100, gamma=0.01........................................\n",
            "[CV 4/10; 10/16] END .........C=100, gamma=0.01;, score=1.000 total time=   0.0s\n",
            "[CV 5/10; 10/16] START C=100, gamma=0.01........................................\n",
            "[CV 5/10; 10/16] END .........C=100, gamma=0.01;, score=1.000 total time=   0.0s\n",
            "[CV 6/10; 10/16] START C=100, gamma=0.01........................................\n",
            "[CV 6/10; 10/16] END .........C=100, gamma=0.01;, score=0.917 total time=   0.0s\n",
            "[CV 7/10; 10/16] START C=100, gamma=0.01........................................\n",
            "[CV 7/10; 10/16] END .........C=100, gamma=0.01;, score=1.000 total time=   0.0s\n",
            "[CV 8/10; 10/16] START C=100, gamma=0.01........................................\n",
            "[CV 8/10; 10/16] END .........C=100, gamma=0.01;, score=1.000 total time=   0.0s\n",
            "[CV 9/10; 10/16] START C=100, gamma=0.01........................................\n",
            "[CV 9/10; 10/16] END .........C=100, gamma=0.01;, score=1.000 total time=   0.0s\n",
            "[CV 10/10; 10/16] START C=100, gamma=0.01.......................................\n",
            "[CV 10/10; 10/16] END ........C=100, gamma=0.01;, score=0.917 total time=   0.0s\n",
            "[CV 1/10; 11/16] START C=100, gamma=0.001.......................................\n",
            "[CV 1/10; 11/16] END ........C=100, gamma=0.001;, score=1.000 total time=   0.0s\n",
            "[CV 2/10; 11/16] START C=100, gamma=0.001.......................................\n",
            "[CV 2/10; 11/16] END ........C=100, gamma=0.001;, score=0.833 total time=   0.0s\n",
            "[CV 3/10; 11/16] START C=100, gamma=0.001.......................................\n",
            "[CV 3/10; 11/16] END ........C=100, gamma=0.001;, score=0.917 total time=   0.0s\n",
            "[CV 4/10; 11/16] START C=100, gamma=0.001.......................................\n",
            "[CV 4/10; 11/16] END ........C=100, gamma=0.001;, score=1.000 total time=   0.0s\n",
            "[CV 5/10; 11/16] START C=100, gamma=0.001.......................................\n",
            "[CV 5/10; 11/16] END ........C=100, gamma=0.001;, score=0.917 total time=   0.0s\n",
            "[CV 6/10; 11/16] START C=100, gamma=0.001.......................................\n",
            "[CV 6/10; 11/16] END ........C=100, gamma=0.001;, score=0.917 total time=   0.0s\n",
            "[CV 7/10; 11/16] START C=100, gamma=0.001.......................................\n",
            "[CV 7/10; 11/16] END ........C=100, gamma=0.001;, score=1.000 total time=   0.0s\n",
            "[CV 8/10; 11/16] START C=100, gamma=0.001.......................................\n",
            "[CV 8/10; 11/16] END ........C=100, gamma=0.001;, score=1.000 total time=   0.0s\n",
            "[CV 9/10; 11/16] START C=100, gamma=0.001.......................................\n",
            "[CV 9/10; 11/16] END ........C=100, gamma=0.001;, score=1.000 total time=   0.0s\n",
            "[CV 10/10; 11/16] START C=100, gamma=0.001......................................\n",
            "[CV 10/10; 11/16] END .......C=100, gamma=0.001;, score=0.917 total time=   0.0s\n",
            "[CV 1/10; 12/16] START C=100, gamma=0.0001......................................\n",
            "[CV 1/10; 12/16] END .......C=100, gamma=0.0001;, score=1.000 total time=   0.0s\n",
            "[CV 2/10; 12/16] START C=100, gamma=0.0001......................................\n",
            "[CV 2/10; 12/16] END .......C=100, gamma=0.0001;, score=0.833 total time=   0.0s\n",
            "[CV 3/10; 12/16] START C=100, gamma=0.0001......................................\n",
            "[CV 3/10; 12/16] END .......C=100, gamma=0.0001;, score=0.917 total time=   0.0s\n",
            "[CV 4/10; 12/16] START C=100, gamma=0.0001......................................\n",
            "[CV 4/10; 12/16] END .......C=100, gamma=0.0001;, score=1.000 total time=   0.0s\n",
            "[CV 5/10; 12/16] START C=100, gamma=0.0001......................................\n",
            "[CV 5/10; 12/16] END .......C=100, gamma=0.0001;, score=0.833 total time=   0.0s\n",
            "[CV 6/10; 12/16] START C=100, gamma=0.0001......................................\n",
            "[CV 6/10; 12/16] END .......C=100, gamma=0.0001;, score=1.000 total time=   0.0s\n",
            "[CV 7/10; 12/16] START C=100, gamma=0.0001......................................\n",
            "[CV 7/10; 12/16] END .......C=100, gamma=0.0001;, score=0.917 total time=   0.0s\n",
            "[CV 8/10; 12/16] START C=100, gamma=0.0001......................................\n",
            "[CV 8/10; 12/16] END .......C=100, gamma=0.0001;, score=1.000 total time=   0.0s\n",
            "[CV 9/10; 12/16] START C=100, gamma=0.0001......................................\n",
            "[CV 9/10; 12/16] END .......C=100, gamma=0.0001;, score=1.000 total time=   0.0s\n",
            "[CV 10/10; 12/16] START C=100, gamma=0.0001.....................................\n",
            "[CV 10/10; 12/16] END ......C=100, gamma=0.0001;, score=1.000 total time=   0.0s\n",
            "[CV 1/10; 13/16] START C=1000, gamma=0.1........................................\n",
            "[CV 1/10; 13/16] END .........C=1000, gamma=0.1;, score=1.000 total time=   0.0s\n",
            "[CV 2/10; 13/16] START C=1000, gamma=0.1........................................\n",
            "[CV 2/10; 13/16] END .........C=1000, gamma=0.1;, score=0.833 total time=   0.0s\n",
            "[CV 3/10; 13/16] START C=1000, gamma=0.1........................................\n",
            "[CV 3/10; 13/16] END .........C=1000, gamma=0.1;, score=1.000 total time=   0.0s\n",
            "[CV 4/10; 13/16] START C=1000, gamma=0.1........................................\n",
            "[CV 4/10; 13/16] END .........C=1000, gamma=0.1;, score=1.000 total time=   0.0s\n",
            "[CV 5/10; 13/16] START C=1000, gamma=0.1........................................\n",
            "[CV 5/10; 13/16] END .........C=1000, gamma=0.1;, score=0.917 total time=   0.0s\n",
            "[CV 6/10; 13/16] START C=1000, gamma=0.1........................................\n",
            "[CV 6/10; 13/16] END .........C=1000, gamma=0.1;, score=0.917 total time=   0.0s\n",
            "[CV 7/10; 13/16] START C=1000, gamma=0.1........................................\n",
            "[CV 7/10; 13/16] END .........C=1000, gamma=0.1;, score=1.000 total time=   0.0s\n",
            "[CV 8/10; 13/16] START C=1000, gamma=0.1........................................\n",
            "[CV 8/10; 13/16] END .........C=1000, gamma=0.1;, score=1.000 total time=   0.0s\n",
            "[CV 9/10; 13/16] START C=1000, gamma=0.1........................................\n",
            "[CV 9/10; 13/16] END .........C=1000, gamma=0.1;, score=1.000 total time=   0.0s\n",
            "[CV 10/10; 13/16] START C=1000, gamma=0.1.......................................\n",
            "[CV 10/10; 13/16] END ........C=1000, gamma=0.1;, score=0.917 total time=   0.0s\n",
            "[CV 1/10; 14/16] START C=1000, gamma=0.01.......................................\n",
            "[CV 1/10; 14/16] END ........C=1000, gamma=0.01;, score=1.000 total time=   0.0s\n",
            "[CV 2/10; 14/16] START C=1000, gamma=0.01.......................................\n",
            "[CV 2/10; 14/16] END ........C=1000, gamma=0.01;, score=0.917 total time=   0.0s\n",
            "[CV 3/10; 14/16] START C=1000, gamma=0.01.......................................\n",
            "[CV 3/10; 14/16] END ........C=1000, gamma=0.01;, score=1.000 total time=   0.0s\n",
            "[CV 4/10; 14/16] START C=1000, gamma=0.01.......................................\n",
            "[CV 4/10; 14/16] END ........C=1000, gamma=0.01;, score=1.000 total time=   0.0s\n",
            "[CV 5/10; 14/16] START C=1000, gamma=0.01.......................................\n",
            "[CV 5/10; 14/16] END ........C=1000, gamma=0.01;, score=0.917 total time=   0.0s\n",
            "[CV 6/10; 14/16] START C=1000, gamma=0.01.......................................\n",
            "[CV 6/10; 14/16] END ........C=1000, gamma=0.01;, score=0.917 total time=   0.0s\n",
            "[CV 7/10; 14/16] START C=1000, gamma=0.01.......................................\n",
            "[CV 7/10; 14/16] END ........C=1000, gamma=0.01;, score=1.000 total time=   0.0s\n",
            "[CV 8/10; 14/16] START C=1000, gamma=0.01.......................................\n",
            "[CV 8/10; 14/16] END ........C=1000, gamma=0.01;, score=1.000 total time=   0.0s\n",
            "[CV 9/10; 14/16] START C=1000, gamma=0.01.......................................\n",
            "[CV 9/10; 14/16] END ........C=1000, gamma=0.01;, score=1.000 total time=   0.0s\n",
            "[CV 10/10; 14/16] START C=1000, gamma=0.01......................................\n",
            "[CV 10/10; 14/16] END .......C=1000, gamma=0.01;, score=0.917 total time=   0.0s\n",
            "[CV 1/10; 15/16] START C=1000, gamma=0.001......................................\n",
            "[CV 1/10; 15/16] END .......C=1000, gamma=0.001;, score=1.000 total time=   0.0s\n",
            "[CV 2/10; 15/16] START C=1000, gamma=0.001......................................\n",
            "[CV 2/10; 15/16] END .......C=1000, gamma=0.001;, score=0.833 total time=   0.0s\n",
            "[CV 3/10; 15/16] START C=1000, gamma=0.001......................................\n",
            "[CV 3/10; 15/16] END .......C=1000, gamma=0.001;, score=1.000 total time=   0.0s\n",
            "[CV 4/10; 15/16] START C=1000, gamma=0.001......................................\n",
            "[CV 4/10; 15/16] END .......C=1000, gamma=0.001;, score=1.000 total time=   0.0s\n",
            "[CV 5/10; 15/16] START C=1000, gamma=0.001......................................\n",
            "[CV 5/10; 15/16] END .......C=1000, gamma=0.001;, score=1.000 total time=   0.0s\n",
            "[CV 6/10; 15/16] START C=1000, gamma=0.001......................................\n",
            "[CV 6/10; 15/16] END .......C=1000, gamma=0.001;, score=0.917 total time=   0.0s\n",
            "[CV 7/10; 15/16] START C=1000, gamma=0.001......................................\n",
            "[CV 7/10; 15/16] END .......C=1000, gamma=0.001;, score=1.000 total time=   0.0s\n",
            "[CV 8/10; 15/16] START C=1000, gamma=0.001......................................\n",
            "[CV 8/10; 15/16] END .......C=1000, gamma=0.001;, score=1.000 total time=   0.0s\n",
            "[CV 9/10; 15/16] START C=1000, gamma=0.001......................................\n",
            "[CV 9/10; 15/16] END .......C=1000, gamma=0.001;, score=1.000 total time=   0.0s\n",
            "[CV 10/10; 15/16] START C=1000, gamma=0.001.....................................\n",
            "[CV 10/10; 15/16] END ......C=1000, gamma=0.001;, score=0.917 total time=   0.0s\n",
            "[CV 1/10; 16/16] START C=1000, gamma=0.0001.....................................\n",
            "[CV 1/10; 16/16] END ......C=1000, gamma=0.0001;, score=1.000 total time=   0.0s\n",
            "[CV 2/10; 16/16] START C=1000, gamma=0.0001.....................................\n",
            "[CV 2/10; 16/16] END ......C=1000, gamma=0.0001;, score=0.833 total time=   0.0s\n",
            "[CV 3/10; 16/16] START C=1000, gamma=0.0001.....................................\n",
            "[CV 3/10; 16/16] END ......C=1000, gamma=0.0001;, score=0.917 total time=   0.0s\n",
            "[CV 4/10; 16/16] START C=1000, gamma=0.0001.....................................\n",
            "[CV 4/10; 16/16] END ......C=1000, gamma=0.0001;, score=1.000 total time=   0.0s\n",
            "[CV 5/10; 16/16] START C=1000, gamma=0.0001.....................................\n",
            "[CV 5/10; 16/16] END ......C=1000, gamma=0.0001;, score=1.000 total time=   0.0s\n",
            "[CV 6/10; 16/16] START C=1000, gamma=0.0001.....................................\n",
            "[CV 6/10; 16/16] END ......C=1000, gamma=0.0001;, score=0.917 total time=   0.0s\n",
            "[CV 7/10; 16/16] START C=1000, gamma=0.0001.....................................\n",
            "[CV 7/10; 16/16] END ......C=1000, gamma=0.0001;, score=1.000 total time=   0.0s\n",
            "[CV 8/10; 16/16] START C=1000, gamma=0.0001.....................................\n",
            "[CV 8/10; 16/16] END ......C=1000, gamma=0.0001;, score=1.000 total time=   0.0s\n",
            "[CV 9/10; 16/16] START C=1000, gamma=0.0001.....................................\n",
            "[CV 9/10; 16/16] END ......C=1000, gamma=0.0001;, score=1.000 total time=   0.0s\n",
            "[CV 10/10; 16/16] START C=1000, gamma=0.0001....................................\n",
            "[CV 10/10; 16/16] END .....C=1000, gamma=0.0001;, score=0.917 total time=   0.0s\n"
          ]
        },
        {
          "output_type": "execute_result",
          "data": {
            "text/plain": [
              "GridSearchCV(cv=10, estimator=SVC(C=10, gamma=10),\n",
              "             param_grid={'C': (1, 10, 100, 1000),\n",
              "                         'gamma': (0.1, 0.01, 0.001, 0.0001)},\n",
              "             verbose=10)"
            ]
          },
          "metadata": {},
          "execution_count": 62
        }
      ]
    },
    {
      "cell_type": "code",
      "metadata": {
        "id": "oiyyLYStf84x",
        "colab": {
          "base_uri": "https://localhost:8080/"
        },
        "outputId": "14054e6b-bf23-496b-8ae8-5fb4222bd620"
      },
      "source": [
        "grid_search.best_params_"
      ],
      "execution_count": null,
      "outputs": [
        {
          "output_type": "execute_result",
          "data": {
            "text/plain": [
              "{'C': 10, 'gamma': 0.1}"
            ]
          },
          "metadata": {},
          "execution_count": 63
        }
      ]
    }
  ]
}